{
 "cells": [
  {
   "cell_type": "markdown",
   "id": "eab183f8",
   "metadata": {},
   "source": [
    "# Import library"
   ]
  },
  {
   "cell_type": "code",
   "execution_count": 1,
   "id": "0bc40b33",
   "metadata": {},
   "outputs": [],
   "source": [
    "import importlib\n",
    "import torch\n",
    "import pickle\n",
    "import os\n",
    "import sys\n",
    "import matplotlib.pyplot as plt\n",
    "import numpy as np\n",
    "import pNN_Split as pnn\n",
    "import random\n",
    "import config\n",
    "import evaluation as E\n",
    "import training\n",
    "from torch.utils.data import TensorDataset\n",
    "from torch.utils.data import DataLoader"
   ]
  },
  {
   "cell_type": "markdown",
   "id": "af93c27e-7559-466e-9a0f-084e03f0c576",
   "metadata": {},
   "source": [
    "# Random Seed"
   ]
  },
  {
   "cell_type": "code",
   "execution_count": 2,
   "id": "85fceaab",
   "metadata": {},
   "outputs": [],
   "source": [
    "seed = 0"
   ]
  },
  {
   "cell_type": "markdown",
   "id": "1026bd3c",
   "metadata": {},
   "source": [
    "# Device"
   ]
  },
  {
   "cell_type": "code",
   "execution_count": 3,
   "id": "b0e91163",
   "metadata": {},
   "outputs": [
    {
     "data": {
      "text/plain": [
       "'cpu'"
      ]
     },
     "execution_count": 3,
     "metadata": {},
     "output_type": "execute_result"
    }
   ],
   "source": [
    "# device = torch.device('cuda' if torch.cuda.is_available() else 'cpu')\n",
    "# device = torch.device('cuda:0')\n",
    "device = 'cpu'\n",
    "device"
   ]
  },
  {
   "cell_type": "markdown",
   "id": "15519567",
   "metadata": {},
   "source": [
    "# Prepare data"
   ]
  },
  {
   "cell_type": "markdown",
   "id": "f224be26-e399-42a8-9c96-e285490e8916",
   "metadata": {},
   "source": [
    "## Datasets"
   ]
  },
  {
   "cell_type": "code",
   "execution_count": 4,
   "id": "566dafd0",
   "metadata": {},
   "outputs": [],
   "source": [
    "ds1 = 'Seeds'"
   ]
  },
  {
   "cell_type": "code",
   "execution_count": 5,
   "id": "f1ac8b03",
   "metadata": {},
   "outputs": [],
   "source": [
    "ds2 = 'Iris'"
   ]
  },
  {
   "cell_type": "markdown",
   "id": "3f9b925b",
   "metadata": {},
   "source": [
    "## Load data"
   ]
  },
  {
   "cell_type": "code",
   "execution_count": 6,
   "id": "fd3f8c31",
   "metadata": {},
   "outputs": [
    {
     "data": {
      "text/plain": [
       "(torch.Size([210, 7]), torch.Size([210]), 210, 7, 3)"
      ]
     },
     "execution_count": 6,
     "metadata": {},
     "output_type": "execute_result"
    }
   ],
   "source": [
    "datapath = os.path.join(os.getcwd(), 'Datasets',\n",
    "                        'dataset_processed', f'Dataset_{ds1}.p')\n",
    "with open(datapath, 'rb') as f:\n",
    "    dataset = pickle.load(f)\n",
    "X1 = dataset['X'].float()\n",
    "y1 = dataset['y']\n",
    "\n",
    "E1, N_features1, N_class1 = X1.shape[0], X1.shape[1], torch.max(torch.unique(y1)).item()+1\n",
    "X1.shape, y1.shape, E1, N_features1, N_class1"
   ]
  },
  {
   "cell_type": "code",
   "execution_count": 7,
   "id": "324f4a9c",
   "metadata": {},
   "outputs": [
    {
     "data": {
      "text/plain": [
       "(torch.Size([150, 4]), torch.Size([150]), 150, 4, 3)"
      ]
     },
     "execution_count": 7,
     "metadata": {},
     "output_type": "execute_result"
    }
   ],
   "source": [
    "datapath = os.path.join(os.getcwd(), 'Datasets',\n",
    "                        'dataset_processed', f'Dataset_{ds2}.p')\n",
    "with open(datapath, 'rb') as f:\n",
    "    dataset = pickle.load(f)\n",
    "X2 = dataset['X'].float()\n",
    "y2 = dataset['y']\n",
    "\n",
    "E2, N_features2, N_class2 = X2.shape[0], X2.shape[1], torch.max(torch.unique(y2)).item()+1\n",
    "X2.shape, y2.shape, E2, N_features2, N_class2"
   ]
  },
  {
   "cell_type": "markdown",
   "id": "35adbc19",
   "metadata": {},
   "source": [
    "## Pseudo-electrical Signal"
   ]
  },
  {
   "cell_type": "code",
   "execution_count": 8,
   "id": "ea0969cc",
   "metadata": {},
   "outputs": [
    {
     "data": {
      "text/plain": [
       "(tensor(0.), tensor(1.))"
      ]
     },
     "execution_count": 8,
     "metadata": {},
     "output_type": "execute_result"
    }
   ],
   "source": [
    "X1 = X1 - torch.min(X1, axis=0)[0]\n",
    "X1 = X1 / (torch.max(X1, axis=0)[0])\n",
    "torch.min(X1), torch.max(X1)"
   ]
  },
  {
   "cell_type": "code",
   "execution_count": 9,
   "id": "fd138f20",
   "metadata": {},
   "outputs": [
    {
     "data": {
      "text/plain": [
       "(tensor(0.), tensor(1.))"
      ]
     },
     "execution_count": 9,
     "metadata": {},
     "output_type": "execute_result"
    }
   ],
   "source": [
    "X2 = X2 - torch.min(X2, axis=0)[0]\n",
    "X2 = X2 / (torch.max(X2, axis=0)[0])\n",
    "torch.min(X2), torch.max(X2)"
   ]
  },
  {
   "cell_type": "code",
   "execution_count": 10,
   "id": "6d30ecfc",
   "metadata": {},
   "outputs": [
    {
     "data": {
      "text/plain": [
       "(torch.Size([126, 7]),\n",
       " torch.Size([126]),\n",
       " torch.Size([42, 7]),\n",
       " torch.Size([42]),\n",
       " torch.Size([42, 7]),\n",
       " torch.Size([42]))"
      ]
     },
     "execution_count": 10,
     "metadata": {},
     "output_type": "execute_result"
    }
   ],
   "source": [
    "# split\n",
    "train_rate = 0.6\n",
    "valid_rate = 0.2\n",
    "test_rate = 0.2\n",
    "\n",
    "E_train1 = int(E1*train_rate)\n",
    "E_valid1 = int(E1*valid_rate)\n",
    "E_test1 =  E1 - E_train1 - E_valid1\n",
    "\n",
    "random.seed(config.data_split_seed);\n",
    "np.random.seed(config.data_split_seed);\n",
    "torch.manual_seed(config.data_split_seed);\n",
    "\n",
    "idx = torch.randperm(E1)\n",
    "X1 = X1[idx,:]\n",
    "y1 = y1[idx]\n",
    "\n",
    "X_train1, X_rest1 = X1[:E_train1,:],      X1[E_train1:,:]\n",
    "X_valid1, X_test1 = X_rest1[:E_valid1,:], X_rest1[E_valid1:,:]\n",
    "\n",
    "y_train1, y_rest1 = y1[:E_train1],      y1[E_train1:]\n",
    "y_valid1, y_test1 = y_rest1[:E_valid1], y_rest1[E_valid1:]\n",
    "\n",
    "X_train1.shape, y_train1.shape, X_valid1.shape, y_valid1.shape, X_test1.shape, y_test1.shape"
   ]
  },
  {
   "cell_type": "code",
   "execution_count": 11,
   "id": "391e2761",
   "metadata": {},
   "outputs": [
    {
     "data": {
      "text/plain": [
       "(torch.Size([90, 4]),\n",
       " torch.Size([90]),\n",
       " torch.Size([30, 4]),\n",
       " torch.Size([30]),\n",
       " torch.Size([30, 4]),\n",
       " torch.Size([30]))"
      ]
     },
     "execution_count": 11,
     "metadata": {},
     "output_type": "execute_result"
    }
   ],
   "source": [
    "E_train2 = int(E2 * train_rate)\n",
    "E_valid2 = int(E2 * valid_rate)\n",
    "E_test2 =  E2 - E_train2 - E_valid2\n",
    "\n",
    "random.seed(config.data_split_seed);\n",
    "np.random.seed(config.data_split_seed);\n",
    "torch.manual_seed(config.data_split_seed);\n",
    "\n",
    "idx = torch.randperm(E2)\n",
    "X2 = X2[idx,:]\n",
    "y2 = y2[idx]\n",
    "\n",
    "X_train2, X_rest2 = X2[:E_train2,:],      X2[E_train2:,:]\n",
    "X_valid2, X_test2 = X_rest2[:E_valid2,:], X_rest2[E_valid2:,:]\n",
    "\n",
    "y_train2, y_rest2 = y2[:E_train2],      y2[E_train2:]\n",
    "y_valid2, y_test2 = y_rest2[:E_valid2], y_rest2[E_valid2:]\n",
    "\n",
    "X_train2.shape, y_train2.shape, X_valid2.shape, y_valid2.shape, X_test2.shape, y_test2.shape"
   ]
  },
  {
   "cell_type": "code",
   "execution_count": 12,
   "id": "7e80f17c",
   "metadata": {},
   "outputs": [],
   "source": [
    "X_trains = [X_train1, X_train2]\n",
    "y_trains = [y_train1, y_train2]"
   ]
  },
  {
   "cell_type": "code",
   "execution_count": 13,
   "id": "302b2a77",
   "metadata": {},
   "outputs": [],
   "source": [
    "X_valids = [X_valid1, X_valid2]\n",
    "y_valids = [y_valid1, y_valid2]"
   ]
  },
  {
   "cell_type": "code",
   "execution_count": 14,
   "id": "302ed46a",
   "metadata": {},
   "outputs": [],
   "source": [
    "X_tests = [X_test1, X_test2]\n",
    "y_tests = [y_test1, y_test2]"
   ]
  },
  {
   "cell_type": "markdown",
   "id": "5c65c580",
   "metadata": {},
   "source": [
    "# PNN"
   ]
  },
  {
   "cell_type": "code",
   "execution_count": 15,
   "id": "97e02e26-c3e0-437b-85ed-85a4e56dfeac",
   "metadata": {},
   "outputs": [],
   "source": [
    "random.seed(seed);\n",
    "np.random.seed(seed);\n",
    "torch.manual_seed(seed);"
   ]
  },
  {
   "cell_type": "markdown",
   "id": "11fcb7de",
   "metadata": {},
   "source": [
    "## Define"
   ]
  },
  {
   "cell_type": "code",
   "execution_count": 16,
   "id": "098714b2",
   "metadata": {},
   "outputs": [
    {
     "data": {
      "text/plain": [
       "[7, 4]"
      ]
     },
     "execution_count": 16,
     "metadata": {},
     "output_type": "execute_result"
    }
   ],
   "source": [
    "num_in = []\n",
    "num_in.append(N_features1)\n",
    "num_in.append(N_features2)\n",
    "num_in"
   ]
  },
  {
   "cell_type": "code",
   "execution_count": 17,
   "id": "1649e362",
   "metadata": {},
   "outputs": [
    {
     "data": {
      "text/plain": [
       "[3, 3]"
      ]
     },
     "execution_count": 17,
     "metadata": {},
     "output_type": "execute_result"
    }
   ],
   "source": [
    "num_out = []\n",
    "num_out.append(N_class1)\n",
    "num_out.append(N_class2)\n",
    "num_out"
   ]
  },
  {
   "cell_type": "code",
   "execution_count": 18,
   "id": "b71faf4b",
   "metadata": {},
   "outputs": [],
   "source": [
    "topology_hidden = [5,5]"
   ]
  },
  {
   "cell_type": "code",
   "execution_count": 19,
   "id": "3556de57",
   "metadata": {},
   "outputs": [],
   "source": [
    "SuperPNN = pnn.SuperPNN(num_in, num_out, topology_hidden)"
   ]
  },
  {
   "cell_type": "code",
   "execution_count": 20,
   "id": "d37a88b0",
   "metadata": {},
   "outputs": [
    {
     "name": "stdout",
     "output_type": "stream",
     "text": [
      "theta_common_ 0\n",
      "models.0.model.Input_Layer.theta_\n",
      "models.0.model.Hiddel_Layer 0.theta_individual_\n",
      "models.0.model.Output_Layer.theta_\n",
      "models.1.model.Input_Layer.theta_\n",
      "models.1.model.Hiddel_Layer 0.theta_individual_\n",
      "models.1.model.Output_Layer.theta_\n"
     ]
    }
   ],
   "source": [
    "for n,p in SuperPNN.named_parameters():\n",
    "    print(n)"
   ]
  },
  {
   "cell_type": "code",
   "execution_count": 21,
   "id": "42dab761",
   "metadata": {},
   "outputs": [],
   "source": [
    "optimizer = torch.optim.Adam(SuperPNN.parameters(), lr=config.lr)"
   ]
  },
  {
   "cell_type": "code",
   "execution_count": 22,
   "id": "a04805c1",
   "metadata": {},
   "outputs": [
    {
     "name": "stdout",
     "output_type": "stream",
     "text": [
      "The ID for this training is 1656941121.\n",
      "| epoch:    0 | train acc: 34.4 | loss: 1.52e+02 | valid acc: 27.6 | loss: 5.09e+01 | time: 3.17e-02 |\n",
      "| epoch:  100 | train acc: 94.8 | loss: 1.93e+01 | valid acc: 93.1 | loss: 8.11e+00 | time: 1.13e-02 |\n",
      "| epoch:  200 | train acc: 96.5 | loss: 1.17e+01 | valid acc: 94.8 | loss: 7.21e+00 | time: 1.23e-02 |\n",
      "| epoch:  300 | train acc: 98.3 | loss: 7.69e+00 | valid acc: 94.8 | loss: 6.57e+00 | time: 1.48e-02 |\n",
      "| epoch:  400 | train acc: 98.3 | loss: 6.55e+00 | valid acc: 94.8 | loss: 6.22e+00 | time: 1.97e-02 |\n",
      "| epoch:  500 | train acc: 98.7 | loss: 5.23e+00 | valid acc: 94.8 | loss: 5.06e+00 | time: 2.62e-02 |\n",
      "| epoch:  600 | train acc: 98.7 | loss: 4.53e+00 | valid acc: 96.0 | loss: 4.34e+00 | time: 1.23e-02 |\n",
      "| epoch:  700 | train acc: 99.0 | loss: 4.33e+00 | valid acc: 96.0 | loss: 4.27e+00 | time: 1.16e-02 |\n",
      "| epoch:  800 | train acc: 99.0 | loss: 4.20e+00 | valid acc: 96.0 | loss: 4.43e+00 | time: 1.39e-02 |\n",
      "| epoch:  900 | train acc: 99.0 | loss: 4.27e+00 | valid acc: 96.0 | loss: 4.29e+00 | time: 2.15e-02 |\n",
      "| epoch: 1000 | train acc: 99.0 | loss: 4.12e+00 | valid acc: 96.0 | loss: 4.22e+00 | time: 2.69e-02 |\n",
      "| epoch: 1100 | train acc: 99.0 | loss: 4.25e+00 | valid acc: 96.0 | loss: 4.67e+00 | time: 3.12e-02 |\n",
      "| epoch: 1200 | train acc: 99.0 | loss: 4.26e+00 | valid acc: 96.0 | loss: 4.03e+00 | time: 1.50e-02 |\n",
      "| epoch: 1300 | train acc: 99.0 | loss: 4.18e+00 | valid acc: 96.0 | loss: 4.35e+00 | time: 1.51e-02 |\n",
      "| epoch: 1400 | train acc: 99.0 | loss: 3.83e+00 | valid acc: 96.0 | loss: 4.14e+00 | time: 1.49e-02 |\n",
      "| epoch: 1500 | train acc: 99.0 | loss: 3.87e+00 | valid acc: 96.0 | loss: 4.10e+00 | time: 1.78e-02 |\n",
      "| epoch: 1600 | train acc: 99.0 | loss: 3.96e+00 | valid acc: 96.0 | loss: 4.15e+00 | time: 1.59e-02 |\n",
      "| epoch: 1700 | train acc: 99.0 | loss: 3.79e+00 | valid acc: 96.0 | loss: 4.05e+00 | time: 1.80e-02 |\n",
      "| epoch: 1800 | train acc: 99.0 | loss: 3.92e+00 | valid acc: 96.0 | loss: 4.22e+00 | time: 1.56e-02 |\n",
      "| epoch: 1900 | train acc: 99.0 | loss: 3.83e+00 | valid acc: 96.0 | loss: 4.49e+00 | time: 1.63e-02 |\n",
      "| epoch: 2000 | train acc: 99.0 | loss: 4.13e+00 | valid acc: 97.1 | loss: 3.86e+00 | time: 1.67e-02 |\n",
      "| epoch: 2100 | train acc: 99.0 | loss: 3.69e+00 | valid acc: 97.1 | loss: 3.70e+00 | time: 1.70e-02 |\n",
      "| epoch: 2200 | train acc: 99.0 | loss: 3.68e+00 | valid acc: 96.0 | loss: 3.87e+00 | time: 1.68e-02 |\n",
      "| epoch: 2300 | train acc: 99.0 | loss: 3.63e+00 | valid acc: 97.1 | loss: 3.88e+00 | time: 1.57e-02 |\n",
      "| epoch: 2400 | train acc: 99.0 | loss: 3.69e+00 | valid acc: 97.1 | loss: 3.93e+00 | time: 1.50e-02 |\n",
      "| epoch: 2500 | train acc: 99.0 | loss: 3.70e+00 | valid acc: 96.0 | loss: 4.16e+00 | time: 1.55e-02 |\n",
      "| epoch: 2600 | train acc: 99.0 | loss: 3.60e+00 | valid acc: 97.1 | loss: 3.42e+00 | time: 1.52e-02 |\n",
      "| epoch: 2700 | train acc: 99.0 | loss: 3.81e+00 | valid acc: 96.0 | loss: 4.80e+00 | time: 1.80e-02 |\n",
      "| epoch: 2800 | train acc: 99.0 | loss: 3.90e+00 | valid acc: 97.1 | loss: 3.23e+00 | time: 1.70e-02 |\n",
      "| epoch: 2900 | train acc: 99.0 | loss: 3.52e+00 | valid acc: 97.1 | loss: 3.54e+00 | time: 1.65e-02 |\n",
      "| epoch: 3000 | train acc: 99.0 | loss: 4.09e+00 | valid acc: 97.1 | loss: 3.70e+00 | time: 1.49e-02 |\n",
      "Early stop.\n",
      "Finished.\n"
     ]
    }
   ],
   "source": [
    "SuperPNN, train_losses, valid_losses, train_accs, valid_accs = training.train_spnn(SuperPNN, X_trains, y_trains, X_valids, y_valids, optimizer, pnn.LOSSFUNCTION)"
   ]
  },
  {
   "cell_type": "code",
   "execution_count": 23,
   "id": "e55ae79d",
   "metadata": {},
   "outputs": [
    {
     "data": {
      "text/plain": [
       "Sequential(\n",
       "  (0): pLayer()\n",
       "  (1): pLayer()\n",
       "  (2): pLayer()\n",
       ")"
      ]
     },
     "execution_count": 23,
     "metadata": {},
     "output_type": "execute_result"
    }
   ],
   "source": [
    "normalPNN1 = torch.nn.Sequential(pnn.pLayer(7,5),pnn.pLayer(5,5),pnn.pLayer(5,3))\n",
    "optimizer = torch.optim.Adam(normalPNN1.parameters(), lr=config.lr)\n",
    "normalPNN1"
   ]
  },
  {
   "cell_type": "code",
   "execution_count": 24,
   "id": "499074bb",
   "metadata": {},
   "outputs": [
    {
     "name": "stdout",
     "output_type": "stream",
     "text": [
      "The ID for this training is 1656941177.\n",
      "| epoch:    0 | train acc: 33.33 | loss: 8.84e+01 | valid acc: 30.95 | loss: 2.96e+01 | time: 1.58e-02 |\n",
      "| epoch:  100 | train acc: 92.86 | loss: 1.90e+01 | valid acc: 95.24 | loss: 6.12e+00 | time: 9.20e-03 |\n",
      "| epoch:  200 | train acc: 94.44 | loss: 7.57e+00 | valid acc: 92.86 | loss: 5.04e+00 | time: 8.18e-03 |\n",
      "| epoch:  300 | train acc: 96.83 | loss: 6.70e+00 | valid acc: 92.86 | loss: 5.17e+00 | time: 8.00e-03 |\n",
      "| epoch:  400 | train acc: 96.83 | loss: 6.27e+00 | valid acc: 92.86 | loss: 5.22e+00 | time: 9.32e-03 |\n",
      "| epoch:  500 | train acc: 96.83 | loss: 5.76e+00 | valid acc: 95.24 | loss: 5.10e+00 | time: 7.55e-03 |\n",
      "| epoch:  600 | train acc: 97.62 | loss: 5.33e+00 | valid acc: 95.24 | loss: 4.85e+00 | time: 7.61e-03 |\n",
      "Early stop.\n",
      "Finished.\n"
     ]
    }
   ],
   "source": [
    "normalPNN1, train_losses, valid_losses, train_accs, valid_accs = training.train_nn(normalPNN1,\n",
    "                                                                                   DataLoader(TensorDataset(X_train1,y_train1), batch_size=E_train1),\n",
    "                                                                                   DataLoader(TensorDataset(X_valid1,y_valid1), batch_size=E_valid1),\n",
    "                                                                                   optimizer,\n",
    "                                                                                   pnn.LossFunction, device)"
   ]
  },
  {
   "cell_type": "code",
   "execution_count": 25,
   "id": "cbe1abdb",
   "metadata": {},
   "outputs": [
    {
     "data": {
      "text/plain": [
       "Sequential(\n",
       "  (0): pLayer()\n",
       "  (1): pLayer()\n",
       "  (2): pLayer()\n",
       ")"
      ]
     },
     "execution_count": 25,
     "metadata": {},
     "output_type": "execute_result"
    }
   ],
   "source": [
    "normalPNN2 = torch.nn.Sequential(pnn.pLayer(4,5),pnn.pLayer(5,5),pnn.pLayer(5,3))\n",
    "optimizer = torch.optim.Adam(normalPNN2.parameters(), lr=config.lr)\n",
    "normalPNN2"
   ]
  },
  {
   "cell_type": "code",
   "execution_count": 26,
   "id": "c56a160e",
   "metadata": {},
   "outputs": [
    {
     "name": "stdout",
     "output_type": "stream",
     "text": [
      "The ID for this training is 1656941184.\n",
      "| epoch:    0 | train acc: 34.44 | loss: 6.31e+01 | valid acc: 30.00 | loss: 2.12e+01 | time: 1.56e-02 |\n",
      "| epoch:  100 | train acc: 96.67 | loss: 5.75e+00 | valid acc: 93.33 | loss: 2.19e+00 | time: 8.92e-03 |\n",
      "| epoch:  200 | train acc: 97.78 | loss: 3.49e+00 | valid acc: 93.33 | loss: 1.94e+00 | time: 7.40e-03 |\n",
      "| epoch:  300 | train acc: 97.78 | loss: 3.09e+00 | valid acc: 96.67 | loss: 1.72e+00 | time: 1.50e-02 |\n",
      "| epoch:  400 | train acc: 98.89 | loss: 2.91e+00 | valid acc: 96.67 | loss: 1.64e+00 | time: 8.96e-03 |\n",
      "| epoch:  500 | train acc: 98.89 | loss: 2.68e+00 | valid acc: 96.67 | loss: 1.35e+00 | time: 7.78e-03 |\n",
      "| epoch:  600 | train acc: 98.89 | loss: 2.52e+00 | valid acc: 96.67 | loss: 1.29e+00 | time: 6.79e-03 |\n",
      "| epoch:  700 | train acc: 98.89 | loss: 2.48e+00 | valid acc: 96.67 | loss: 1.39e+00 | time: 9.63e-03 |\n",
      "| epoch:  800 | train acc: 98.89 | loss: 2.37e+00 | valid acc: 96.67 | loss: 1.51e+00 | time: 6.45e-03 |\n",
      "| epoch:  900 | train acc: 98.89 | loss: 2.33e+00 | valid acc: 96.67 | loss: 1.29e+00 | time: 7.02e-03 |\n",
      "| epoch: 1000 | train acc: 98.89 | loss: 2.24e+00 | valid acc: 96.67 | loss: 1.27e+00 | time: 1.21e-02 |\n",
      "| epoch: 1100 | train acc: 98.89 | loss: 2.17e+00 | valid acc: 96.67 | loss: 1.15e+00 | time: 1.03e-02 |\n",
      "| epoch: 1200 | train acc: 98.89 | loss: 2.07e+00 | valid acc: 96.67 | loss: 1.23e+00 | time: 1.10e-02 |\n",
      "| epoch: 1300 | train acc: 98.89 | loss: 1.99e+00 | valid acc: 96.67 | loss: 1.08e+00 | time: 6.47e-03 |\n",
      "Early stop.\n",
      "Finished.\n"
     ]
    }
   ],
   "source": [
    "normalPNN2, train_losses, valid_losses, train_accs, valid_accs = training.train_nn(normalPNN2,\n",
    "                                                                                   DataLoader(TensorDataset(X_train2,y_train2), batch_size=E_train2),\n",
    "                                                                                   DataLoader(TensorDataset(X_valid2,y_valid2), batch_size=E_valid2),\n",
    "                                                                                   optimizer,\n",
    "                                                                                   pnn.LossFunction, device)"
   ]
  },
  {
   "cell_type": "code",
   "execution_count": null,
   "id": "54799efd",
   "metadata": {},
   "outputs": [],
   "source": []
  }
 ],
 "metadata": {
  "kernelspec": {
   "display_name": "ML",
   "language": "python",
   "name": "ml"
  },
  "language_info": {
   "codemirror_mode": {
    "name": "ipython",
    "version": 3
   },
   "file_extension": ".py",
   "mimetype": "text/x-python",
   "name": "python",
   "nbconvert_exporter": "python",
   "pygments_lexer": "ipython3",
   "version": "3.8.13"
  },
  "toc": {
   "base_numbering": 1,
   "nav_menu": {},
   "number_sections": true,
   "sideBar": true,
   "skip_h1_title": false,
   "title_cell": "Table of Contents",
   "title_sidebar": "Contents",
   "toc_cell": false,
   "toc_position": {
    "height": "calc(100% - 180px)",
    "left": "10px",
    "top": "150px",
    "width": "336px"
   },
   "toc_section_display": true,
   "toc_window_display": true
  }
 },
 "nbformat": 4,
 "nbformat_minor": 5
}
