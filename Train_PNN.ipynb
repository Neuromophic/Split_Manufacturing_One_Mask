{
 "cells": [
  {
   "cell_type": "markdown",
   "id": "eab183f8",
   "metadata": {},
   "source": [
    "# Import library"
   ]
  },
  {
   "cell_type": "code",
   "execution_count": 1,
   "id": "0bc40b33",
   "metadata": {},
   "outputs": [],
   "source": [
    "import importlib\n",
    "import torch\n",
    "import pickle\n",
    "import os\n",
    "import sys\n",
    "import matplotlib.pyplot as plt\n",
    "import numpy as np\n",
    "import pNN_Split as pnn\n",
    "import random\n",
    "import config"
   ]
  },
  {
   "cell_type": "markdown",
   "id": "af93c27e-7559-466e-9a0f-084e03f0c576",
   "metadata": {},
   "source": [
    "# Random Seed"
   ]
  },
  {
   "cell_type": "code",
   "execution_count": 2,
   "id": "66785455-86c3-4e9a-a35e-4bd3c3f465eb",
   "metadata": {},
   "outputs": [],
   "source": [
    "seed = 0"
   ]
  },
  {
   "cell_type": "markdown",
   "id": "1026bd3c",
   "metadata": {},
   "source": [
    "# Device"
   ]
  },
  {
   "cell_type": "code",
   "execution_count": 3,
   "id": "b0e91163",
   "metadata": {},
   "outputs": [
    {
     "data": {
      "text/plain": [
       "'cpu'"
      ]
     },
     "execution_count": 3,
     "metadata": {},
     "output_type": "execute_result"
    }
   ],
   "source": [
    "# device = torch.device('cuda' if torch.cuda.is_available() else 'cpu')\n",
    "# device = torch.device('cuda:0')\n",
    "device = 'cpu'\n",
    "device"
   ]
  },
  {
   "cell_type": "markdown",
   "id": "15519567",
   "metadata": {},
   "source": [
    "# Prepare data"
   ]
  },
  {
   "cell_type": "markdown",
   "id": "f224be26-e399-42a8-9c96-e285490e8916",
   "metadata": {},
   "source": [
    "## Datasets"
   ]
  },
  {
   "cell_type": "code",
   "execution_count": 4,
   "id": "92014c65-5b5c-4b61-93ef-30f044282eb3",
   "metadata": {},
   "outputs": [],
   "source": [
    "# if config.current_dataset is not None:\n",
    "#     ds = config.datasets[config.current_dataset]\n",
    "# else:\n",
    "#     ds = config.datasets[0]\n",
    "\n",
    "# ds"
   ]
  },
  {
   "cell_type": "code",
   "execution_count": 5,
   "id": "a0f3343b",
   "metadata": {},
   "outputs": [],
   "source": [
    "ds1 = 'Seeds'"
   ]
  },
  {
   "cell_type": "code",
   "execution_count": 6,
   "id": "8fad9e87",
   "metadata": {},
   "outputs": [],
   "source": [
    "ds2 = 'Iris'"
   ]
  },
  {
   "cell_type": "markdown",
   "id": "3f9b925b",
   "metadata": {},
   "source": [
    "## Load data"
   ]
  },
  {
   "cell_type": "code",
   "execution_count": 7,
   "id": "fd3f8c31",
   "metadata": {},
   "outputs": [
    {
     "data": {
      "text/plain": [
       "(torch.Size([210, 7]), torch.Size([210]), 210, 7, 3)"
      ]
     },
     "execution_count": 7,
     "metadata": {},
     "output_type": "execute_result"
    }
   ],
   "source": [
    "datapath = os.path.join(os.getcwd(), 'Datasets',\n",
    "                        'dataset_processed', f'Dataset_{ds1}.p')\n",
    "with open(datapath, 'rb') as f:\n",
    "    dataset = pickle.load(f)\n",
    "X1 = dataset['X'].float()\n",
    "y1 = dataset['y']\n",
    "\n",
    "E1, N_features1, N_class1 = X1.shape[0], X1.shape[1], torch.max(torch.unique(y1)).item()+1\n",
    "X1.shape, y1.shape, E1, N_features1, N_class1"
   ]
  },
  {
   "cell_type": "code",
   "execution_count": 8,
   "id": "3ca58871",
   "metadata": {},
   "outputs": [
    {
     "data": {
      "text/plain": [
       "(torch.Size([150, 4]), torch.Size([150]), 150, 4, 3)"
      ]
     },
     "execution_count": 8,
     "metadata": {},
     "output_type": "execute_result"
    }
   ],
   "source": [
    "datapath = os.path.join(os.getcwd(), 'Datasets',\n",
    "                        'dataset_processed', f'Dataset_{ds2}.p')\n",
    "with open(datapath, 'rb') as f:\n",
    "    dataset = pickle.load(f)\n",
    "X2 = dataset['X'].float()\n",
    "y2 = dataset['y']\n",
    "\n",
    "E2, N_features2, N_class2 = X2.shape[0], X2.shape[1], torch.max(torch.unique(y2)).item()+1\n",
    "X2.shape, y2.shape, E2, N_features2, N_class2"
   ]
  },
  {
   "cell_type": "markdown",
   "id": "35adbc19",
   "metadata": {},
   "source": [
    "## Pseudo-electrical Signal"
   ]
  },
  {
   "cell_type": "code",
   "execution_count": 9,
   "id": "ea0969cc",
   "metadata": {},
   "outputs": [
    {
     "data": {
      "text/plain": [
       "(tensor(0.), tensor(1.))"
      ]
     },
     "execution_count": 9,
     "metadata": {},
     "output_type": "execute_result"
    }
   ],
   "source": [
    "X1 = X1 - torch.min(X1, axis=0)[0]\n",
    "X1 = X1 / (torch.max(X1, axis=0)[0])\n",
    "torch.min(X1), torch.max(X1)"
   ]
  },
  {
   "cell_type": "code",
   "execution_count": 10,
   "id": "c4c43111",
   "metadata": {},
   "outputs": [
    {
     "data": {
      "text/plain": [
       "(tensor(0.), tensor(1.))"
      ]
     },
     "execution_count": 10,
     "metadata": {},
     "output_type": "execute_result"
    }
   ],
   "source": [
    "X2 = X2 - torch.min(X2, axis=0)[0]\n",
    "X2 = X2 / (torch.max(X2, axis=0)[0])\n",
    "torch.min(X2), torch.max(X2)"
   ]
  },
  {
   "cell_type": "code",
   "execution_count": 11,
   "id": "6d30ecfc",
   "metadata": {},
   "outputs": [
    {
     "data": {
      "text/plain": [
       "(torch.Size([126, 7]),\n",
       " torch.Size([126]),\n",
       " torch.Size([42, 7]),\n",
       " torch.Size([42]),\n",
       " torch.Size([42, 7]),\n",
       " torch.Size([42]))"
      ]
     },
     "execution_count": 11,
     "metadata": {},
     "output_type": "execute_result"
    }
   ],
   "source": [
    "# split\n",
    "train_rate = 0.6\n",
    "valid_rate = 0.2\n",
    "test_rate = 0.2\n",
    "\n",
    "E_train1 = min(8192, int(E1*train_rate))\n",
    "E_valid1 = min(2048, int(E1*valid_rate))\n",
    "E_test1 = min(2048, int(E1*test_rate))\n",
    "\n",
    "random.seed(config.data_split_seed);\n",
    "np.random.seed(config.data_split_seed);\n",
    "torch.manual_seed(config.data_split_seed);\n",
    "\n",
    "idx = torch.randperm(E1)\n",
    "X1 = X1[idx,:]\n",
    "y1 = y1[idx]\n",
    "\n",
    "X_train1, X_rest1 = X1[:E_train1,:],      X1[E_train1:,:]\n",
    "X_valid1, X_rest1 = X_rest1[:E_valid1,:], X_rest1[E_valid1:,:]\n",
    "X_test1,  X_rest1 = X_rest1[:E_test1,:],  X_rest1[E_test1:,:]\n",
    "\n",
    "y_train1, y_rest1 = y1[:E_train1],      y1[E_train1:]\n",
    "y_valid1, y_rest1 = y_rest1[:E_valid1], y_rest1[E_valid1:]\n",
    "y_test1,  y_rest1 = y_rest1[:E_test1],  y_rest1[E_test1:]\n",
    "\n",
    "X_train1.shape, y_train1.shape, X_valid1.shape, y_valid1.shape, X_test1.shape, y_test1.shape"
   ]
  },
  {
   "cell_type": "code",
   "execution_count": 12,
   "id": "0369a5f5",
   "metadata": {},
   "outputs": [
    {
     "data": {
      "text/plain": [
       "(torch.Size([90, 4]),\n",
       " torch.Size([90]),\n",
       " torch.Size([30, 4]),\n",
       " torch.Size([30]),\n",
       " torch.Size([30, 4]),\n",
       " torch.Size([30]))"
      ]
     },
     "execution_count": 12,
     "metadata": {},
     "output_type": "execute_result"
    }
   ],
   "source": [
    "E_train2 = min(8192, int(E2*train_rate))\n",
    "E_valid2 = min(2048, int(E2*valid_rate))\n",
    "E_test2 = min(2048, int(E2*test_rate))\n",
    "\n",
    "random.seed(config.data_split_seed);\n",
    "np.random.seed(config.data_split_seed);\n",
    "torch.manual_seed(config.data_split_seed);\n",
    "\n",
    "idx = torch.randperm(E2)\n",
    "X2 = X2[idx,:]\n",
    "y2 = y2[idx]\n",
    "\n",
    "X_train2, X_rest2 = X2[:E_train2,:],      X2[E_train2:,:]\n",
    "X_valid2, X_rest2 = X_rest2[:E_valid2,:], X_rest2[E_valid2:,:]\n",
    "X_test2,  X_rest2 = X_rest2[:E_test2,:],  X_rest2[E_test2:,:]\n",
    "\n",
    "y_train2, y_rest2 = y2[:E_train2],      y1[E_train2:]\n",
    "y_valid2, y_rest2 = y_rest2[:E_valid2], y_rest2[E_valid2:]\n",
    "y_test2,  y_rest2 = y_rest2[:E_test2],  y_rest2[E_test2:]\n",
    "\n",
    "X_train2.shape, y_train2.shape, X_valid2.shape, y_valid2.shape, X_test2.shape, y_test2.shape"
   ]
  },
  {
   "cell_type": "code",
   "execution_count": 13,
   "id": "299cf7fb",
   "metadata": {},
   "outputs": [],
   "source": [
    "X_trains = [X_train1, X_train2]\n",
    "y_trains = [y_train1, y_train2]"
   ]
  },
  {
   "cell_type": "code",
   "execution_count": 14,
   "id": "8825ab88",
   "metadata": {},
   "outputs": [],
   "source": [
    "X_valids = [X_valid1, X_valid2]\n",
    "y_valids = [y_valid1, y_valid2]"
   ]
  },
  {
   "cell_type": "code",
   "execution_count": 15,
   "id": "2323fe0a",
   "metadata": {},
   "outputs": [],
   "source": [
    "X_tests = [X_test1, X_test2]\n",
    "y_tests = [y_test1, y_test2]"
   ]
  },
  {
   "cell_type": "markdown",
   "id": "5c65c580",
   "metadata": {},
   "source": [
    "# PNN"
   ]
  },
  {
   "cell_type": "code",
   "execution_count": 16,
   "id": "97e02e26-c3e0-437b-85ed-85a4e56dfeac",
   "metadata": {},
   "outputs": [],
   "source": [
    "random.seed(seed);\n",
    "np.random.seed(seed);\n",
    "torch.manual_seed(seed);"
   ]
  },
  {
   "cell_type": "markdown",
   "id": "11fcb7de",
   "metadata": {},
   "source": [
    "## Define"
   ]
  },
  {
   "cell_type": "code",
   "execution_count": 17,
   "id": "098714b2",
   "metadata": {},
   "outputs": [
    {
     "data": {
      "text/plain": [
       "[7, 4]"
      ]
     },
     "execution_count": 17,
     "metadata": {},
     "output_type": "execute_result"
    }
   ],
   "source": [
    "num_in = []\n",
    "num_in.append(N_features1)\n",
    "num_in.append(N_features2)\n",
    "num_in"
   ]
  },
  {
   "cell_type": "code",
   "execution_count": 18,
   "id": "4c6eef26",
   "metadata": {},
   "outputs": [
    {
     "data": {
      "text/plain": [
       "[3, 3]"
      ]
     },
     "execution_count": 18,
     "metadata": {},
     "output_type": "execute_result"
    }
   ],
   "source": [
    "num_out = []\n",
    "num_out.append(N_class1)\n",
    "num_out.append(N_class2)\n",
    "num_out"
   ]
  },
  {
   "cell_type": "code",
   "execution_count": 19,
   "id": "8c8233e3",
   "metadata": {},
   "outputs": [],
   "source": [
    "topology_hidden = [3, 3]"
   ]
  },
  {
   "cell_type": "code",
   "execution_count": 20,
   "id": "8a43cbaa",
   "metadata": {},
   "outputs": [],
   "source": [
    "SuperPNN = pnn.PNNSupernet(num_in, num_out, topology_hidden)"
   ]
  },
  {
   "cell_type": "code",
   "execution_count": 21,
   "id": "b3bef7d7",
   "metadata": {},
   "outputs": [],
   "source": [
    "optimizer = torch.optim.Adam([SuperPNN.hidden_theta], lr=0.1)"
   ]
  },
  {
   "cell_type": "code",
   "execution_count": 22,
   "id": "e0d97f39",
   "metadata": {},
   "outputs": [
    {
     "name": "stdout",
     "output_type": "stream",
     "text": [
      "tensor(710.2079) tensor(2.7920)\n",
      "tensor(710.2079) tensor(2.7920)\n",
      "tensor(710.2079) tensor(2.7920)\n",
      "tensor(710.2079) tensor(2.7920)\n",
      "tensor(710.2079) tensor(2.7920)\n",
      "tensor(710.2079) tensor(2.7920)\n",
      "tensor(710.2079) tensor(2.7920)\n",
      "tensor(710.2079) tensor(2.7920)\n",
      "tensor(710.2079) tensor(2.7920)\n",
      "tensor(710.2079) tensor(2.7920)\n"
     ]
    }
   ],
   "source": [
    "loss_train = []\n",
    "loss_valid = []\n",
    "for epoch in range(1000):\n",
    "    optimizer.zero_grad()\n",
    "    \n",
    "    predictions_train = SuperPNN.forward(X_trains)\n",
    "#     L_train = pnn.LOSSFUNCTION(predictions_train, y_trains)\n",
    "    L_train = 0\n",
    "    for p in predictions_train:\n",
    "        L_train = L_train + p.sum()\n",
    "    L_train.backward()\n",
    "    optimizer.step()\n",
    "    \n",
    "    with torch.no_grad():\n",
    "        predictions_valid = SuperPNN.forward(X_valids)\n",
    "        L_valid = pnn.LOSSFUNCTION(predictions_valid, y_valids)\n",
    "    \n",
    "    loss_train.append(L_train.data)\n",
    "    loss_valid.append(L_valid.data)\n",
    "    \n",
    "    if not epoch%100:\n",
    "        print(L_train.data, L_valid.data)"
   ]
  },
  {
   "cell_type": "code",
   "execution_count": 23,
   "id": "7c028e23",
   "metadata": {},
   "outputs": [
    {
     "data": {
      "text/plain": [
       "tensor(710.2079, grad_fn=<AddBackward0>)"
      ]
     },
     "execution_count": 23,
     "metadata": {},
     "output_type": "execute_result"
    }
   ],
   "source": [
    "L_train"
   ]
  },
  {
   "cell_type": "code",
   "execution_count": 24,
   "id": "5a8af65c",
   "metadata": {},
   "outputs": [
    {
     "name": "stdout",
     "output_type": "stream",
     "text": [
      "hidden_theta None\n",
      "models.0.model.Input_Layer.theta_ tensor([[0., 0., 0.],\n",
      "        [0., 0., 0.],\n",
      "        [0., 0., 0.],\n",
      "        [0., 0., 0.],\n",
      "        [0., 0., 0.],\n",
      "        [0., 0., 0.],\n",
      "        [0., 0., 0.],\n",
      "        [0., 0., 0.],\n",
      "        [0., 0., 0.]])\n",
      "models.0.model.Hiddel_Layer 0.theta_ tensor([[0., 0., 0.],\n",
      "        [0., 0., 0.],\n",
      "        [0., 0., 0.],\n",
      "        [0., 0., 0.],\n",
      "        [0., 0., 0.]])\n",
      "models.0.model.Output_Layer.theta_ tensor([[0., 0., 0.],\n",
      "        [0., 0., 0.],\n",
      "        [0., 0., 0.],\n",
      "        [0., 0., 0.],\n",
      "        [0., 0., 0.]])\n",
      "models.1.model.Input_Layer.theta_ tensor([[0., 0., 0.],\n",
      "        [0., 0., 0.],\n",
      "        [0., 0., 0.],\n",
      "        [0., 0., 0.],\n",
      "        [0., 0., 0.],\n",
      "        [0., 0., 0.]])\n",
      "models.1.model.Hiddel_Layer 0.theta_ tensor([[0., 0., 0.],\n",
      "        [0., 0., 0.],\n",
      "        [0., 0., 0.],\n",
      "        [0., 0., 0.],\n",
      "        [0., 0., 0.]])\n",
      "models.1.model.Output_Layer.theta_ tensor([[0., 0., 0.],\n",
      "        [0., 0., 0.],\n",
      "        [0., 0., 0.],\n",
      "        [0., 0., 0.],\n",
      "        [0., 0., 0.]])\n"
     ]
    }
   ],
   "source": [
    "for n,p in SuperPNN.named_parameters():\n",
    "    print(n, p.grad)"
   ]
  },
  {
   "cell_type": "code",
   "execution_count": 25,
   "id": "9543f1f4",
   "metadata": {},
   "outputs": [
    {
     "data": {
      "text/plain": [
       "Parameter containing:\n",
       "tensor([[4.9626e-01, 7.6822e-01],\n",
       "        [8.8477e-02, 1.3203e-01],\n",
       "        [3.0742e-01, 6.3408e-01],\n",
       "        [4.9009e-01, 8.9644e-01],\n",
       "        [4.5563e-01, 6.3231e-01],\n",
       "        [3.4889e-01, 4.0172e-01],\n",
       "        [2.2326e-02, 1.6886e-01],\n",
       "        [2.9389e-01, 5.1852e-01],\n",
       "        [6.9767e-01, 8.0001e-01],\n",
       "        [9.3465e+00, 1.2401e+01],\n",
       "        [2.0862e+01, 9.5384e-01],\n",
       "        [4.1759e+00, 8.3559e+00],\n",
       "        [4.1941e+01, 5.5291e+01],\n",
       "        [9.5274e+01, 3.6165e+00],\n",
       "        [1.8523e+01, 3.7342e+01]], requires_grad=True)"
      ]
     },
     "execution_count": 25,
     "metadata": {},
     "output_type": "execute_result"
    }
   ],
   "source": [
    "SuperPNN.hidden_theta"
   ]
  },
  {
   "cell_type": "code",
   "execution_count": 26,
   "id": "f7d5dc51",
   "metadata": {},
   "outputs": [],
   "source": [
    "SuperPNN.hidden_theta.grad"
   ]
  },
  {
   "cell_type": "code",
   "execution_count": 27,
   "id": "861ff82e",
   "metadata": {},
   "outputs": [],
   "source": [
    "kkk = SuperPNN.hidden_theta.sum()"
   ]
  },
  {
   "cell_type": "code",
   "execution_count": 28,
   "id": "eb145b20",
   "metadata": {},
   "outputs": [],
   "source": [
    "kkk.backward()"
   ]
  },
  {
   "cell_type": "code",
   "execution_count": 29,
   "id": "c75a7553",
   "metadata": {},
   "outputs": [
    {
     "data": {
      "text/plain": [
       "tensor([[1., 1.],\n",
       "        [1., 1.],\n",
       "        [1., 1.],\n",
       "        [1., 1.],\n",
       "        [1., 1.],\n",
       "        [1., 1.],\n",
       "        [1., 1.],\n",
       "        [1., 1.],\n",
       "        [1., 1.],\n",
       "        [1., 1.],\n",
       "        [1., 1.],\n",
       "        [1., 1.],\n",
       "        [1., 1.],\n",
       "        [1., 1.],\n",
       "        [1., 1.]])"
      ]
     },
     "execution_count": 29,
     "metadata": {},
     "output_type": "execute_result"
    }
   ],
   "source": [
    "SuperPNN.hidden_theta.grad"
   ]
  },
  {
   "cell_type": "markdown",
   "id": "8eb6a0c4-b427-4278-b855-0c6f78ba5b8d",
   "metadata": {},
   "source": [
    "## Training"
   ]
  },
  {
   "cell_type": "code",
   "execution_count": 30,
   "id": "b248e211",
   "metadata": {},
   "outputs": [
    {
     "ename": "NameError",
     "evalue": "name 'PNN' is not defined",
     "output_type": "error",
     "traceback": [
      "\u001b[0;31m---------------------------------------------------------------------------\u001b[0m",
      "\u001b[0;31mNameError\u001b[0m                                 Traceback (most recent call last)",
      "Input \u001b[0;32mIn [30]\u001b[0m, in \u001b[0;36m<cell line: 1>\u001b[0;34m()\u001b[0m\n\u001b[0;32m----> 1\u001b[0m optimizer_PNN \u001b[38;5;241m=\u001b[39m torch\u001b[38;5;241m.\u001b[39moptim\u001b[38;5;241m.\u001b[39mAdam(\u001b[43mPNN\u001b[49m\u001b[38;5;241m.\u001b[39mparameters(), lr\u001b[38;5;241m=\u001b[39mconfig\u001b[38;5;241m.\u001b[39mlr)\n\u001b[1;32m      2\u001b[0m train_loader \u001b[38;5;241m=\u001b[39m DataLoader(train_data, batch_size\u001b[38;5;241m=\u001b[39m\u001b[38;5;28mlen\u001b[39m(train_data))\n\u001b[1;32m      3\u001b[0m train_loss_PNN, valid_loss_PNN, parameter_PNN \u001b[38;5;241m=\u001b[39m tv\u001b[38;5;241m.\u001b[39mtrain_normal_pnn(PNN, train_loader, valid_loader,\n\u001b[1;32m      4\u001b[0m                                                                    config\u001b[38;5;241m.\u001b[39mm, config\u001b[38;5;241m.\u001b[39mT, optimizer_PNN,\n\u001b[1;32m      5\u001b[0m                                                                    pnnv\u001b[38;5;241m.\u001b[39mLossFunction, Epoch\u001b[38;5;241m=\u001b[39m\u001b[38;5;241m50000\u001b[39m, cache\u001b[38;5;241m=\u001b[39mds)\n",
      "\u001b[0;31mNameError\u001b[0m: name 'PNN' is not defined"
     ]
    }
   ],
   "source": [
    "optimizer_PNN = torch.optim.Adam(PNN.parameters(), lr=config.lr)\n",
    "train_loader = DataLoader(train_data, batch_size=len(train_data))\n",
    "train_loss_PNN, valid_loss_PNN, parameter_PNN = tv.train_normal_pnn(PNN, train_loader, valid_loader,\n",
    "                                                                   config.m, config.T, optimizer_PNN,\n",
    "                                                                   pnnv.LossFunction, Epoch=50000, cache=ds)"
   ]
  },
  {
   "cell_type": "code",
   "execution_count": null,
   "id": "9c2022fb-151b-40de-8e57-5d56e24460e3",
   "metadata": {},
   "outputs": [],
   "source": [
    "plt.plot(train_loss_PNN, '-', label='train')\n",
    "plt.plot(valid_loss_PNN, '--', label='valid')\n",
    "plt.legend()\n",
    "best = np.argmin(valid_loss_PNN)\n",
    "PNN.load_state_dict(parameter_PNN)\n",
    "best, valid_loss_PNN[best]"
   ]
  },
  {
   "cell_type": "markdown",
   "id": "bbef757b-0f2d-4e54-93dd-8f60121ca948",
   "metadata": {},
   "source": [
    "## Save Model"
   ]
  },
  {
   "cell_type": "code",
   "execution_count": null,
   "id": "13a6ddc5-4d1c-4371-9b7d-b78844405e87",
   "metadata": {},
   "outputs": [],
   "source": [
    "with open(f'./result/{ds}_PNN_{seed}.p', 'wb') as f:\n",
    "    pickle.dump(PNN, f)"
   ]
  }
 ],
 "metadata": {
  "kernelspec": {
   "display_name": "ML",
   "language": "python",
   "name": "ml"
  },
  "language_info": {
   "codemirror_mode": {
    "name": "ipython",
    "version": 3
   },
   "file_extension": ".py",
   "mimetype": "text/x-python",
   "name": "python",
   "nbconvert_exporter": "python",
   "pygments_lexer": "ipython3",
   "version": "3.8.13"
  },
  "toc": {
   "base_numbering": 1,
   "nav_menu": {},
   "number_sections": true,
   "sideBar": true,
   "skip_h1_title": false,
   "title_cell": "Table of Contents",
   "title_sidebar": "Contents",
   "toc_cell": false,
   "toc_position": {
    "height": "calc(100% - 180px)",
    "left": "10px",
    "top": "150px",
    "width": "336px"
   },
   "toc_section_display": true,
   "toc_window_display": true
  }
 },
 "nbformat": 4,
 "nbformat_minor": 5
}
