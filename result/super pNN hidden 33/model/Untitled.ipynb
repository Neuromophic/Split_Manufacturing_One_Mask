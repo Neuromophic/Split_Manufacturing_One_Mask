{
 "cells": [
  {
   "cell_type": "code",
   "execution_count": 2,
   "id": "dddd97b8-06ef-4bd5-ad22-b586d7208e1c",
   "metadata": {},
   "outputs": [],
   "source": [
    "import numpy as np"
   ]
  },
  {
   "cell_type": "code",
   "execution_count": 3,
   "id": "5602463f-ca7f-41d9-a7c5-86800fe3d596",
   "metadata": {},
   "outputs": [
    {
     "data": {
      "text/plain": [
       "array([0.782, 0.867])"
      ]
     },
     "execution_count": 3,
     "metadata": {},
     "output_type": "execute_result"
    }
   ],
   "source": [
    "a = np.array([0.782, 0.867])\n",
    "a"
   ]
  },
  {
   "cell_type": "code",
   "execution_count": 4,
   "id": "6100625c-c504-46d4-9a93-d93a6f56bf36",
   "metadata": {},
   "outputs": [
    {
     "data": {
      "text/plain": [
       "array([0.88430764, 0.93112835])"
      ]
     },
     "execution_count": 4,
     "metadata": {},
     "output_type": "execute_result"
    }
   ],
   "source": [
    "aa = np.sqrt(a)\n",
    "aa"
   ]
  },
  {
   "cell_type": "code",
   "execution_count": 9,
   "id": "d8ac8728-8af2-4ecd-bcb6-9865112e78f9",
   "metadata": {},
   "outputs": [],
   "source": [
    "aaa = np.sum(aa*np.array([0.8, 0.2]))"
   ]
  },
  {
   "cell_type": "code",
   "execution_count": 10,
   "id": "c6dd9116-788b-4602-94db-47139628eacf",
   "metadata": {},
   "outputs": [
    {
     "data": {
      "text/plain": [
       "0.7986492513936764"
      ]
     },
     "execution_count": 10,
     "metadata": {},
     "output_type": "execute_result"
    }
   ],
   "source": [
    "aaa ** 2"
   ]
  },
  {
   "cell_type": "code",
   "execution_count": null,
   "id": "12772091-54b8-4d1c-b72c-e255ab944275",
   "metadata": {},
   "outputs": [],
   "source": []
  }
 ],
 "metadata": {
  "kernelspec": {
   "display_name": "SDIL",
   "language": "python",
   "name": "sdil"
  },
  "language_info": {
   "codemirror_mode": {
    "name": "ipython",
    "version": 3
   },
   "file_extension": ".py",
   "mimetype": "text/x-python",
   "name": "python",
   "nbconvert_exporter": "python",
   "pygments_lexer": "ipython3",
   "version": "3.8.13"
  }
 },
 "nbformat": 4,
 "nbformat_minor": 5
}
