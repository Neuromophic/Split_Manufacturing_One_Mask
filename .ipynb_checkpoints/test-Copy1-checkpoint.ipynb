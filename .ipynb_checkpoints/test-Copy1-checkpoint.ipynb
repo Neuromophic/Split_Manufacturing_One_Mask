{
 "cells": [
  {
   "cell_type": "markdown",
   "id": "eab183f8",
   "metadata": {},
   "source": [
    "# Import library"
   ]
  },
  {
   "cell_type": "code",
   "execution_count": 1,
   "id": "0bc40b33",
   "metadata": {},
   "outputs": [],
   "source": [
    "import importlib\n",
    "import torch\n",
    "import pickle\n",
    "import os\n",
    "import sys\n",
    "import matplotlib.pyplot as plt\n",
    "import numpy as np\n",
    "import pNN_Split_single_hidden as pnn\n",
    "import random\n",
    "import config"
   ]
  },
  {
   "cell_type": "markdown",
   "id": "af93c27e-7559-466e-9a0f-084e03f0c576",
   "metadata": {},
   "source": [
    "# Random Seed"
   ]
  },
  {
   "cell_type": "code",
   "execution_count": 2,
   "id": "2c446a64",
   "metadata": {},
   "outputs": [],
   "source": [
    "seed = 0"
   ]
  },
  {
   "cell_type": "markdown",
   "id": "1026bd3c",
   "metadata": {},
   "source": [
    "# Device"
   ]
  },
  {
   "cell_type": "code",
   "execution_count": 3,
   "id": "b0e91163",
   "metadata": {},
   "outputs": [
    {
     "data": {
      "text/plain": [
       "'cpu'"
      ]
     },
     "execution_count": 3,
     "metadata": {},
     "output_type": "execute_result"
    }
   ],
   "source": [
    "# device = torch.device('cuda' if torch.cuda.is_available() else 'cpu')\n",
    "# device = torch.device('cuda:0')\n",
    "device = 'cpu'\n",
    "device"
   ]
  },
  {
   "cell_type": "markdown",
   "id": "15519567",
   "metadata": {},
   "source": [
    "# Prepare data"
   ]
  },
  {
   "cell_type": "markdown",
   "id": "f224be26-e399-42a8-9c96-e285490e8916",
   "metadata": {},
   "source": [
    "## Datasets"
   ]
  },
  {
   "cell_type": "code",
   "execution_count": 4,
   "id": "92014c65-5b5c-4b61-93ef-30f044282eb3",
   "metadata": {},
   "outputs": [],
   "source": [
    "# if config.current_dataset is not None:\n",
    "#     ds = config.datasets[config.current_dataset]\n",
    "# else:\n",
    "#     ds = config.datasets[0]\n",
    "\n",
    "# ds"
   ]
  },
  {
   "cell_type": "code",
   "execution_count": 5,
   "id": "566dafd0",
   "metadata": {},
   "outputs": [],
   "source": [
    "ds1 = 'Seeds'"
   ]
  },
  {
   "cell_type": "code",
   "execution_count": 6,
   "id": "f1ac8b03",
   "metadata": {},
   "outputs": [],
   "source": [
    "ds2 = 'Iris'"
   ]
  },
  {
   "cell_type": "markdown",
   "id": "3f9b925b",
   "metadata": {},
   "source": [
    "## Load data"
   ]
  },
  {
   "cell_type": "code",
   "execution_count": 7,
   "id": "fd3f8c31",
   "metadata": {},
   "outputs": [
    {
     "data": {
      "text/plain": [
       "(torch.Size([210, 7]), torch.Size([210]), 210, 7, 3)"
      ]
     },
     "execution_count": 7,
     "metadata": {},
     "output_type": "execute_result"
    }
   ],
   "source": [
    "datapath = os.path.join(os.getcwd(), 'Datasets',\n",
    "                        'dataset_processed', f'Dataset_{ds1}.p')\n",
    "with open(datapath, 'rb') as f:\n",
    "    dataset = pickle.load(f)\n",
    "X1 = dataset['X'].float()\n",
    "y1 = dataset['y']\n",
    "\n",
    "E1, N_features1, N_class1 = X1.shape[0], X1.shape[1], torch.max(torch.unique(y1)).item()+1\n",
    "X1.shape, y1.shape, E1, N_features1, N_class1"
   ]
  },
  {
   "cell_type": "code",
   "execution_count": 8,
   "id": "324f4a9c",
   "metadata": {},
   "outputs": [
    {
     "data": {
      "text/plain": [
       "(torch.Size([150, 4]), torch.Size([150]), 150, 4, 3)"
      ]
     },
     "execution_count": 8,
     "metadata": {},
     "output_type": "execute_result"
    }
   ],
   "source": [
    "datapath = os.path.join(os.getcwd(), 'Datasets',\n",
    "                        'dataset_processed', f'Dataset_{ds2}.p')\n",
    "with open(datapath, 'rb') as f:\n",
    "    dataset = pickle.load(f)\n",
    "X2 = dataset['X'].float()\n",
    "y2 = dataset['y']\n",
    "\n",
    "E2, N_features2, N_class2 = X2.shape[0], X2.shape[1], torch.max(torch.unique(y2)).item()+1\n",
    "X2.shape, y2.shape, E2, N_features2, N_class2"
   ]
  },
  {
   "cell_type": "markdown",
   "id": "35adbc19",
   "metadata": {},
   "source": [
    "## Pseudo-electrical Signal"
   ]
  },
  {
   "cell_type": "code",
   "execution_count": 9,
   "id": "ea0969cc",
   "metadata": {},
   "outputs": [
    {
     "data": {
      "text/plain": [
       "(tensor(0.), tensor(1.))"
      ]
     },
     "execution_count": 9,
     "metadata": {},
     "output_type": "execute_result"
    }
   ],
   "source": [
    "X1 = X1 - torch.min(X1, axis=0)[0]\n",
    "X1 = X1 / (torch.max(X1, axis=0)[0])\n",
    "torch.min(X1), torch.max(X1)"
   ]
  },
  {
   "cell_type": "code",
   "execution_count": 10,
   "id": "fd138f20",
   "metadata": {},
   "outputs": [
    {
     "data": {
      "text/plain": [
       "(tensor(0.), tensor(1.))"
      ]
     },
     "execution_count": 10,
     "metadata": {},
     "output_type": "execute_result"
    }
   ],
   "source": [
    "X2 = X2 - torch.min(X2, axis=0)[0]\n",
    "X2 = X2 / (torch.max(X2, axis=0)[0])\n",
    "torch.min(X2), torch.max(X2)"
   ]
  },
  {
   "cell_type": "code",
   "execution_count": 11,
   "id": "6d30ecfc",
   "metadata": {},
   "outputs": [
    {
     "data": {
      "text/plain": [
       "(torch.Size([126, 7]),\n",
       " torch.Size([126]),\n",
       " torch.Size([42, 7]),\n",
       " torch.Size([42]),\n",
       " torch.Size([42, 7]),\n",
       " torch.Size([42]))"
      ]
     },
     "execution_count": 11,
     "metadata": {},
     "output_type": "execute_result"
    }
   ],
   "source": [
    "# split\n",
    "train_rate = 0.6\n",
    "valid_rate = 0.2\n",
    "test_rate = 0.2\n",
    "\n",
    "E_train1 = int(E1*train_rate)\n",
    "E_valid1 = int(E1*valid_rate)\n",
    "E_test1 =  E1 - E_train1 - E_valid1\n",
    "\n",
    "random.seed(config.data_split_seed);\n",
    "np.random.seed(config.data_split_seed);\n",
    "torch.manual_seed(config.data_split_seed);\n",
    "\n",
    "idx = torch.randperm(E1)\n",
    "X1 = X1[idx,:]\n",
    "y1 = y1[idx]\n",
    "\n",
    "X_train1, X_rest1 = X1[:E_train1,:],      X1[E_train1:,:]\n",
    "X_valid1, X_test1 = X_rest1[:E_valid1,:], X_rest1[E_valid1:,:]\n",
    "\n",
    "y_train1, y_rest1 = y1[:E_train1],      y1[E_train1:]\n",
    "y_valid1, y_test1 = y_rest1[:E_valid1], y_rest1[E_valid1:]\n",
    "\n",
    "X_train1.shape, y_train1.shape, X_valid1.shape, y_valid1.shape, X_test1.shape, y_test1.shape"
   ]
  },
  {
   "cell_type": "code",
   "execution_count": 12,
   "id": "391e2761",
   "metadata": {},
   "outputs": [
    {
     "data": {
      "text/plain": [
       "(torch.Size([90, 4]),\n",
       " torch.Size([90]),\n",
       " torch.Size([30, 4]),\n",
       " torch.Size([30]),\n",
       " torch.Size([30, 4]),\n",
       " torch.Size([90]))"
      ]
     },
     "execution_count": 12,
     "metadata": {},
     "output_type": "execute_result"
    }
   ],
   "source": [
    "E_train2 = int(E2 * train_rate)\n",
    "E_valid2 = int(E2 * valid_rate)\n",
    "E_test2 =  E2 - E_train2 - E_valid2\n",
    "\n",
    "random.seed(config.data_split_seed);\n",
    "np.random.seed(config.data_split_seed);\n",
    "torch.manual_seed(config.data_split_seed);\n",
    "\n",
    "idx = torch.randperm(E2)\n",
    "X2 = X2[idx,:]\n",
    "y2 = y2[idx]\n",
    "\n",
    "X_train2, X_rest2 = X2[:E_train2,:],      X2[E_train2:,:]\n",
    "X_valid2, X_test2 = X_rest2[:E_valid2,:], X_rest2[E_valid2:,:]\n",
    "\n",
    "y_train2, y_rest2 = y2[:E_train2],      y1[E_train2:]\n",
    "y_valid2, y_test2 = y_rest2[:E_valid2], y_rest2[E_valid2:]\n",
    "\n",
    "X_train2.shape, y_train2.shape, X_valid2.shape, y_valid2.shape, X_test2.shape, y_test2.shape"
   ]
  },
  {
   "cell_type": "code",
   "execution_count": 13,
   "id": "7e80f17c",
   "metadata": {},
   "outputs": [],
   "source": [
    "X_trains = [X_train1, X_train2]\n",
    "y_trains = [y_train1, y_train2]"
   ]
  },
  {
   "cell_type": "code",
   "execution_count": 14,
   "id": "302b2a77",
   "metadata": {},
   "outputs": [],
   "source": [
    "X_valids = [X_valid1, X_valid2]\n",
    "y_valids = [y_valid1, y_valid2]"
   ]
  },
  {
   "cell_type": "code",
   "execution_count": 15,
   "id": "302ed46a",
   "metadata": {},
   "outputs": [],
   "source": [
    "X_tests = [X_test1, X_test2]\n",
    "y_tests = [y_test1, y_test2]"
   ]
  },
  {
   "cell_type": "markdown",
   "id": "55deb296",
   "metadata": {},
   "source": [
    "# Data"
   ]
  },
  {
   "cell_type": "code",
   "execution_count": 16,
   "id": "0f9751e2",
   "metadata": {},
   "outputs": [],
   "source": [
    "data = X_train1"
   ]
  },
  {
   "cell_type": "markdown",
   "id": "19d0171f",
   "metadata": {},
   "source": [
    "# test"
   ]
  },
  {
   "cell_type": "markdown",
   "id": "40d07ca2",
   "metadata": {},
   "source": [
    "## Layer level test"
   ]
  },
  {
   "cell_type": "markdown",
   "id": "cfd53348",
   "metadata": {},
   "source": [
    "### normal PNN Layer"
   ]
  },
  {
   "cell_type": "code",
   "execution_count": 17,
   "id": "1bdff6c6",
   "metadata": {},
   "outputs": [],
   "source": [
    "pl = pnn.PNNLayer(7,3)"
   ]
  },
  {
   "cell_type": "code",
   "execution_count": 18,
   "id": "37842b43",
   "metadata": {},
   "outputs": [],
   "source": [
    "yl = pl(data)"
   ]
  },
  {
   "cell_type": "code",
   "execution_count": 19,
   "id": "827672ac",
   "metadata": {},
   "outputs": [],
   "source": [
    "yl.abs().sum().backward()"
   ]
  },
  {
   "cell_type": "code",
   "execution_count": 20,
   "id": "bc1e4270",
   "metadata": {},
   "outputs": [
    {
     "name": "stdout",
     "output_type": "stream",
     "text": [
      "theta_\n",
      "tensor([[-0.1470, -0.0337, -0.1195],\n",
      "        [-0.1370, -0.0258, -0.1109],\n",
      "        [ 0.1506, -0.0144,  0.0917],\n",
      "        [-0.1522, -0.0213, -0.1183],\n",
      "        [-0.0944, -0.0340, -0.0828],\n",
      "        [-0.0045,  0.0131,  0.0141],\n",
      "        [-0.1107, -0.0080, -0.0792],\n",
      "        [ 0.4493,  0.0770,  0.3276],\n",
      "        [-0.2041, -0.0425, -0.1563]])\n"
     ]
    }
   ],
   "source": [
    "for n, p in pl.named_parameters():\n",
    "    print(n)\n",
    "    print(p.grad)"
   ]
  },
  {
   "cell_type": "markdown",
   "id": "9c7a798c",
   "metadata": {},
   "source": [
    "### Hidden PNNLayer with given Parameter"
   ]
  },
  {
   "cell_type": "code",
   "execution_count": 21,
   "id": "e1214533",
   "metadata": {},
   "outputs": [],
   "source": [
    "theta_outside = torch.nn.Parameter(torch.randn(9,4), requires_grad=True)"
   ]
  },
  {
   "cell_type": "code",
   "execution_count": 22,
   "id": "94b6b54a",
   "metadata": {},
   "outputs": [],
   "source": [
    "ph = pnn.PNNHiddenLayer(7,4,theta_outside)"
   ]
  },
  {
   "cell_type": "code",
   "execution_count": 23,
   "id": "975de3b9",
   "metadata": {},
   "outputs": [],
   "source": [
    "yh = ph(data)"
   ]
  },
  {
   "cell_type": "code",
   "execution_count": 24,
   "id": "40728024",
   "metadata": {},
   "outputs": [],
   "source": [
    "yh.sum().backward()"
   ]
  },
  {
   "cell_type": "code",
   "execution_count": 25,
   "id": "b78233d3",
   "metadata": {},
   "outputs": [
    {
     "name": "stdout",
     "output_type": "stream",
     "text": [
      "theta_common_\n",
      "tensor([[ 0.0000e+00,  5.6803e-03,  6.7233e-02,  2.3020e-04],\n",
      "        [ 3.2197e+00,  3.8832e-03,  7.0718e-02,  2.9883e-04],\n",
      "        [ 3.7007e+00,  9.6394e-03,  6.4073e-02,  2.8328e-04],\n",
      "        [ 2.9944e+00,  6.6839e-03,  6.7076e-02,  2.2651e-04],\n",
      "        [ 3.7276e+00,  4.6980e-03,  7.1947e-02,  2.9616e-04],\n",
      "        [ 2.4392e+00,  1.0758e-02,  5.6881e-02,  1.1402e-04],\n",
      "        [ 2.9199e+00,  4.9559e-03,  6.5002e-02,  2.2570e-04],\n",
      "        [ 3.6151e+00,  1.4902e-02,  6.7474e-02,  2.3714e-04],\n",
      "        [-4.8230e-01, -3.0986e-04, -1.7291e-03,  3.5015e-05]])\n",
      "theta_individual_\n",
      "tensor([[ 0.0000e+00,  5.6803e-03,  6.7233e-02,  2.3020e-04],\n",
      "        [ 3.2197e+00,  3.8832e-03,  7.0718e-02,  2.9883e-04],\n",
      "        [ 3.7007e+00,  9.6394e-03,  6.4073e-02,  2.8328e-04],\n",
      "        [ 2.9944e+00,  6.6839e-03,  6.7076e-02,  2.2651e-04],\n",
      "        [ 3.7276e+00,  4.6980e-03,  7.1947e-02,  2.9616e-04],\n",
      "        [ 2.4392e+00,  1.0758e-02,  5.6881e-02,  1.1402e-04],\n",
      "        [ 2.9199e+00,  4.9559e-03,  6.5002e-02,  2.2570e-04],\n",
      "        [ 3.6151e+00,  1.4902e-02,  6.7474e-02,  2.3714e-04],\n",
      "        [-4.8230e-01, -3.0986e-04, -1.7291e-03,  3.5015e-05]])\n"
     ]
    }
   ],
   "source": [
    "for n, p in ph.named_parameters():\n",
    "    print(n)\n",
    "    print(p.grad)"
   ]
  },
  {
   "cell_type": "code",
   "execution_count": 26,
   "id": "6997f220",
   "metadata": {},
   "outputs": [
    {
     "data": {
      "text/plain": [
       "tensor([[ 0.0000e+00,  5.6803e-03,  6.7233e-02,  2.3020e-04],\n",
       "        [ 3.2197e+00,  3.8832e-03,  7.0718e-02,  2.9883e-04],\n",
       "        [ 3.7007e+00,  9.6394e-03,  6.4073e-02,  2.8328e-04],\n",
       "        [ 2.9944e+00,  6.6839e-03,  6.7076e-02,  2.2651e-04],\n",
       "        [ 3.7276e+00,  4.6980e-03,  7.1947e-02,  2.9616e-04],\n",
       "        [ 2.4392e+00,  1.0758e-02,  5.6881e-02,  1.1402e-04],\n",
       "        [ 2.9199e+00,  4.9559e-03,  6.5002e-02,  2.2570e-04],\n",
       "        [ 3.6151e+00,  1.4902e-02,  6.7474e-02,  2.3714e-04],\n",
       "        [-4.8230e-01, -3.0986e-04, -1.7291e-03,  3.5015e-05]])"
      ]
     },
     "execution_count": 26,
     "metadata": {},
     "output_type": "execute_result"
    }
   ],
   "source": [
    "theta_outside.grad"
   ]
  },
  {
   "cell_type": "markdown",
   "id": "2bb9080f",
   "metadata": {},
   "source": [
    "## Net level test"
   ]
  },
  {
   "cell_type": "code",
   "execution_count": 27,
   "id": "df9e4b23",
   "metadata": {},
   "outputs": [],
   "source": [
    "thetan = torch.nn.Parameter(torch.randn(5,4), requires_grad=True)"
   ]
  },
  {
   "cell_type": "code",
   "execution_count": 28,
   "id": "9aa50389",
   "metadata": {},
   "outputs": [],
   "source": [
    "pn = pnn.PNNNet(7,3,[3,4],thetan)"
   ]
  },
  {
   "cell_type": "code",
   "execution_count": 29,
   "id": "39216963",
   "metadata": {},
   "outputs": [
    {
     "name": "stdout",
     "output_type": "stream",
     "text": [
      "model.Input_Layer.theta_\n",
      "model.Hiddel_Layer.theta_common_\n",
      "model.Hiddel_Layer.theta_individual_\n",
      "model.Output_Layer.theta_\n"
     ]
    }
   ],
   "source": [
    "for n, p in pn.named_parameters():\n",
    "    print(n)"
   ]
  },
  {
   "cell_type": "code",
   "execution_count": 30,
   "id": "c12605c5",
   "metadata": {},
   "outputs": [],
   "source": [
    "yn = pn(data)"
   ]
  },
  {
   "cell_type": "code",
   "execution_count": 31,
   "id": "4cc7889a",
   "metadata": {},
   "outputs": [],
   "source": [
    "yn.sum().backward()"
   ]
  },
  {
   "cell_type": "code",
   "execution_count": 32,
   "id": "d49aea31",
   "metadata": {},
   "outputs": [
    {
     "name": "stdout",
     "output_type": "stream",
     "text": [
      "model.Input_Layer.theta_\n",
      "tensor([[ 4.5558e-04, -3.7258e-01, -2.5218e-02],\n",
      "        [ 3.7635e-04, -2.8728e-01, -2.2059e-02],\n",
      "        [-1.7777e-04,  3.3314e-02,  1.8443e-02],\n",
      "        [ 3.5998e-04, -2.4147e-01, -2.2632e-02],\n",
      "        [ 3.8129e-04, -3.4188e-01, -1.8742e-02],\n",
      "        [-2.2979e-04,  3.3518e-01,  8.3309e-03],\n",
      "        [ 1.5454e-04, -5.5501e-02, -1.1883e-02],\n",
      "        [-1.4512e-03,  1.2203e+00,  8.1895e-02],\n",
      "        [ 5.8002e-04, -4.6185e-01, -3.3068e-02]])\n",
      "model.Hiddel_Layer.theta_common_\n",
      "tensor([[ 4.5658,  1.8833,  0.0000, 60.0109],\n",
      "        [ 4.5658,  1.8833,  0.0000, 62.5475],\n",
      "        [ 5.5124,  1.3105,  0.0000, 60.0109],\n",
      "        [ 4.5644,  1.1532,  0.0000, 56.5495],\n",
      "        [-0.3260,  0.5387,  0.0000,  8.3957]])\n",
      "model.Hiddel_Layer.theta_individual_\n",
      "tensor([[ 4.5658,  1.8833,  0.0000, 60.0109],\n",
      "        [ 4.5658,  1.8833,  0.0000, 62.5475],\n",
      "        [ 5.5124,  1.3105,  0.0000, 60.0109],\n",
      "        [ 4.5644,  1.1532,  0.0000, 56.5495],\n",
      "        [-0.3260,  0.5387,  0.0000,  8.3957]])\n",
      "model.Output_Layer.theta_\n",
      "tensor([[-4.1836e+01, -1.6289e+01, -1.6852e-04],\n",
      "        [ 3.1874e+01,  1.1734e+01,  6.9268e-05],\n",
      "        [ 3.1982e+01,  1.1775e+01,  6.9618e-05],\n",
      "        [-3.6915e+01, -1.4412e+01, -1.5277e-04],\n",
      "        [ 2.8288e+01,  1.0370e+01,  5.7704e-05],\n",
      "        [-1.0186e+01, -4.2562e+00, -6.6409e-05]])\n"
     ]
    }
   ],
   "source": [
    "for n, p in pn.named_parameters():\n",
    "    print(n)\n",
    "    print(p.grad)"
   ]
  },
  {
   "cell_type": "markdown",
   "id": "510d00bb",
   "metadata": {},
   "source": [
    "## Supernet level"
   ]
  },
  {
   "cell_type": "code",
   "execution_count": 33,
   "id": "2136ffd1",
   "metadata": {},
   "outputs": [
    {
     "data": {
      "text/plain": [
       "PNNSupernet(\n",
       "  (model_0): PNNNet(\n",
       "    (model): Sequential(\n",
       "      (Input_Layer): PNNLayer()\n",
       "      (Hiddel_Layer): PNNHiddenLayer()\n",
       "      (Output_Layer): PNNLayer()\n",
       "    )\n",
       "  )\n",
       ")"
      ]
     },
     "execution_count": 33,
     "metadata": {},
     "output_type": "execute_result"
    }
   ],
   "source": [
    "spnn = pnn.PNNSupernet([7], [3], [3,4])\n",
    "spnn"
   ]
  },
  {
   "cell_type": "code",
   "execution_count": 34,
   "id": "04faf9ad",
   "metadata": {},
   "outputs": [
    {
     "name": "stdout",
     "output_type": "stream",
     "text": [
      "hidden_theta_common_\n",
      "model_0.model.Input_Layer.theta_\n",
      "model_0.model.Hiddel_Layer.theta_individual_\n",
      "model_0.model.Output_Layer.theta_\n"
     ]
    }
   ],
   "source": [
    "for n, p in spnn.named_parameters():\n",
    "    print(n)"
   ]
  },
  {
   "cell_type": "code",
   "execution_count": 35,
   "id": "f55d2930",
   "metadata": {},
   "outputs": [],
   "source": [
    "yspnn = spnn([data])"
   ]
  },
  {
   "cell_type": "code",
   "execution_count": 36,
   "id": "54d1c7e6",
   "metadata": {},
   "outputs": [],
   "source": [
    "yspnn[0].sum().backward()"
   ]
  },
  {
   "cell_type": "code",
   "execution_count": 37,
   "id": "9ee4930e",
   "metadata": {},
   "outputs": [
    {
     "name": "stdout",
     "output_type": "stream",
     "text": [
      "hidden_theta_common_\n",
      "tensor([[0., 0., 0., 0.],\n",
      "        [0., 0., 0., 0.],\n",
      "        [0., 0., 0., 0.],\n",
      "        [0., 0., 0., 0.],\n",
      "        [0., 0., 0., 0.]])\n",
      "model_0.model.Input_Layer.theta_\n",
      "tensor([[0., 0., 0.],\n",
      "        [0., 0., 0.],\n",
      "        [0., 0., 0.],\n",
      "        [0., 0., 0.],\n",
      "        [0., 0., 0.],\n",
      "        [0., 0., 0.],\n",
      "        [0., 0., 0.],\n",
      "        [0., 0., 0.],\n",
      "        [0., 0., 0.]])\n",
      "model_0.model.Hiddel_Layer.theta_individual_\n",
      "tensor([[0., 0., 0., 0.],\n",
      "        [0., 0., 0., 0.],\n",
      "        [0., 0., 0., 0.],\n",
      "        [0., 0., 0., 0.],\n",
      "        [0., 0., 0., 0.]])\n",
      "model_0.model.Output_Layer.theta_\n",
      "tensor([[0., 0., 0.],\n",
      "        [0., 0., 0.],\n",
      "        [0., 0., 0.],\n",
      "        [0., 0., 0.],\n",
      "        [0., 0., 0.],\n",
      "        [0., 0., 0.]])\n"
     ]
    }
   ],
   "source": [
    "for n, p in spnn.named_parameters():\n",
    "    print(n)\n",
    "    print(p.grad)"
   ]
  },
  {
   "cell_type": "markdown",
   "id": "39b0f56d",
   "metadata": {},
   "source": [
    "## Test Nets in Supernet"
   ]
  },
  {
   "cell_type": "code",
   "execution_count": 40,
   "id": "775bea2c",
   "metadata": {},
   "outputs": [
    {
     "data": {
      "text/plain": [
       "PNNNet(\n",
       "  (model): Sequential(\n",
       "    (Input_Layer): PNNLayer()\n",
       "    (Hiddel_Layer): PNNHiddenLayer()\n",
       "    (Output_Layer): PNNLayer()\n",
       "  )\n",
       ")"
      ]
     },
     "execution_count": 40,
     "metadata": {},
     "output_type": "execute_result"
    }
   ],
   "source": [
    "net = spnn.model_0\n",
    "net"
   ]
  },
  {
   "cell_type": "code",
   "execution_count": 41,
   "id": "166b666f",
   "metadata": {},
   "outputs": [],
   "source": [
    "ynet = net(data)"
   ]
  },
  {
   "cell_type": "code",
   "execution_count": 42,
   "id": "4e8c6f53",
   "metadata": {},
   "outputs": [],
   "source": [
    "ynet.sum().backward()"
   ]
  },
  {
   "cell_type": "code",
   "execution_count": 43,
   "id": "56b92e22",
   "metadata": {},
   "outputs": [
    {
     "name": "stdout",
     "output_type": "stream",
     "text": [
      "model.Input_Layer.theta_\n",
      "tensor([[0., 0., 0.],\n",
      "        [0., 0., 0.],\n",
      "        [0., 0., 0.],\n",
      "        [0., 0., 0.],\n",
      "        [0., 0., 0.],\n",
      "        [0., 0., 0.],\n",
      "        [0., 0., 0.],\n",
      "        [0., 0., 0.],\n",
      "        [0., 0., 0.]])\n",
      "model.Hiddel_Layer.theta_common_\n",
      "tensor([[0., 0., 0., 0.],\n",
      "        [0., 0., 0., 0.],\n",
      "        [0., 0., 0., 0.],\n",
      "        [0., 0., 0., 0.],\n",
      "        [0., 0., 0., 0.]])\n",
      "model.Hiddel_Layer.theta_individual_\n",
      "tensor([[0., 0., 0., 0.],\n",
      "        [0., 0., 0., 0.],\n",
      "        [0., 0., 0., 0.],\n",
      "        [0., 0., 0., 0.],\n",
      "        [0., 0., 0., 0.]])\n",
      "model.Output_Layer.theta_\n",
      "tensor([[0., 0., 0.],\n",
      "        [0., 0., 0.],\n",
      "        [0., 0., 0.],\n",
      "        [0., 0., 0.],\n",
      "        [0., 0., 0.],\n",
      "        [0., 0., 0.]])\n"
     ]
    }
   ],
   "source": [
    "for n, p in net.named_parameters():\n",
    "    print(n)\n",
    "    print(p.grad)"
   ]
  },
  {
   "cell_type": "markdown",
   "id": "2007b6ce",
   "metadata": {},
   "source": [
    "## Test layer in net in supernet"
   ]
  },
  {
   "cell_type": "code",
   "execution_count": null,
   "id": "e585ad05",
   "metadata": {},
   "outputs": [],
   "source": [
    "layer1 = net.model[0]\n",
    "layer1"
   ]
  },
  {
   "cell_type": "code",
   "execution_count": null,
   "id": "6e5c88fc",
   "metadata": {},
   "outputs": [],
   "source": [
    "ylayer1 = layer1(X_train1)"
   ]
  },
  {
   "cell_type": "code",
   "execution_count": null,
   "id": "86f3e87e",
   "metadata": {},
   "outputs": [],
   "source": [
    "ylayer1.sum().backward()"
   ]
  },
  {
   "cell_type": "code",
   "execution_count": null,
   "id": "01e26b69",
   "metadata": {},
   "outputs": [],
   "source": [
    "for n, p in layer1.named_parameters():\n",
    "    print(n)\n",
    "    print(p.grad)"
   ]
  },
  {
   "cell_type": "code",
   "execution_count": null,
   "id": "d39421c0",
   "metadata": {},
   "outputs": [],
   "source": [
    "layer2 = net.model[1]\n",
    "layer2"
   ]
  },
  {
   "cell_type": "code",
   "execution_count": null,
   "id": "8b48bdfe",
   "metadata": {},
   "outputs": [],
   "source": [
    "ylayer2 = layer2(layer1(X_train1))"
   ]
  },
  {
   "cell_type": "code",
   "execution_count": null,
   "id": "6915b9af",
   "metadata": {},
   "outputs": [],
   "source": [
    "ylayer2.sum().backward()"
   ]
  },
  {
   "cell_type": "code",
   "execution_count": null,
   "id": "a692158d",
   "metadata": {},
   "outputs": [],
   "source": [
    "for n, p in layer2.named_parameters():\n",
    "    print(n)\n",
    "    print(p.grad)"
   ]
  },
  {
   "cell_type": "code",
   "execution_count": null,
   "id": "b5a271c5",
   "metadata": {},
   "outputs": [],
   "source": [
    "ylayer2 = layer2(torch.randn(100,3))"
   ]
  },
  {
   "cell_type": "code",
   "execution_count": null,
   "id": "450161d6",
   "metadata": {},
   "outputs": [],
   "source": [
    "ylayer2.sum().backward()"
   ]
  },
  {
   "cell_type": "code",
   "execution_count": null,
   "id": "cd5bc050",
   "metadata": {},
   "outputs": [],
   "source": [
    "for n, p in layer2.named_parameters():\n",
    "    print(n)\n",
    "    print(p.grad)"
   ]
  }
 ],
 "metadata": {
  "kernelspec": {
   "display_name": "ML",
   "language": "python",
   "name": "ml"
  },
  "language_info": {
   "codemirror_mode": {
    "name": "ipython",
    "version": 3
   },
   "file_extension": ".py",
   "mimetype": "text/x-python",
   "name": "python",
   "nbconvert_exporter": "python",
   "pygments_lexer": "ipython3",
   "version": "3.8.13"
  },
  "toc": {
   "base_numbering": 1,
   "nav_menu": {},
   "number_sections": true,
   "sideBar": true,
   "skip_h1_title": false,
   "title_cell": "Table of Contents",
   "title_sidebar": "Contents",
   "toc_cell": false,
   "toc_position": {
    "height": "calc(100% - 180px)",
    "left": "10px",
    "top": "150px",
    "width": "336px"
   },
   "toc_section_display": true,
   "toc_window_display": true
  }
 },
 "nbformat": 4,
 "nbformat_minor": 5
}
