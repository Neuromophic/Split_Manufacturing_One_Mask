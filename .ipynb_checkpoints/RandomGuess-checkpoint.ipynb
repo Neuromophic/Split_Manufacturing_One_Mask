{
 "cells": [
  {
   "cell_type": "markdown",
   "id": "e0f1319a",
   "metadata": {},
   "source": [
    "# Random Guess for Classification\n",
    "In this part, we just take the most frequent class in train+valid set as our guess."
   ]
  },
  {
   "cell_type": "markdown",
   "id": "eab183f8",
   "metadata": {},
   "source": [
    "# Import library"
   ]
  },
  {
   "cell_type": "code",
   "execution_count": 25,
   "id": "0bc40b33",
   "metadata": {},
   "outputs": [],
   "source": [
    "import pickle\n",
    "import os\n",
    "import torch\n",
    "import sys\n",
    "import numpy as np\n",
    "import random"
   ]
  },
  {
   "cell_type": "markdown",
   "id": "15519567",
   "metadata": {},
   "source": [
    "# Prepare data"
   ]
  },
  {
   "cell_type": "markdown",
   "id": "f224be26-e399-42a8-9c96-e285490e8916",
   "metadata": {},
   "source": [
    "## Dataset"
   ]
  },
  {
   "cell_type": "code",
   "execution_count": 26,
   "id": "fd3f8c31",
   "metadata": {},
   "outputs": [
    {
     "data": {
      "text/plain": [
       "['Dataset_acuteinflammation.p',\n",
       " 'Dataset_acutenephritis.p',\n",
       " 'Dataset_balancescale.p',\n",
       " 'Dataset_balloons.p',\n",
       " 'Dataset_blood.p',\n",
       " 'Dataset_breastcancer.p',\n",
       " 'Dataset_breastcancerwisc.p',\n",
       " 'Dataset_breasttissue.p',\n",
       " 'Dataset_ecoli.p',\n",
       " 'Dataset_energyy1.p',\n",
       " 'Dataset_energyy2.p',\n",
       " 'Dataset_fertility.p',\n",
       " 'Dataset_glass.p',\n",
       " 'Dataset_habermansurvival.p',\n",
       " 'Dataset_hayesroth.p',\n",
       " 'Dataset_ilpdindianliver.p',\n",
       " 'Dataset_iris.p',\n",
       " 'Dataset_lenses.p',\n",
       " 'Dataset_mammographic.p',\n",
       " 'Dataset_monks1.p',\n",
       " 'Dataset_monks2.p',\n",
       " 'Dataset_monks3.p',\n",
       " 'Dataset_pima.p',\n",
       " 'Dataset_pittsburgbridgesMATERIAL.p',\n",
       " 'Dataset_pittsburgbridgesRELL.p',\n",
       " 'Dataset_pittsburgbridgesSPAN.p',\n",
       " 'Dataset_pittsburgbridgesTORD.p',\n",
       " 'Dataset_pittsburgbridgesTYPE.p',\n",
       " 'Dataset_postoperative.p',\n",
       " 'Dataset_seeds.p',\n",
       " 'Dataset_teaching.p',\n",
       " 'Dataset_tictactoe.p',\n",
       " 'Dataset_vertebralcolumn2clases.p',\n",
       " 'Dataset_vertebralcolumn3clases.p']"
      ]
     },
     "execution_count": 26,
     "metadata": {},
     "output_type": "execute_result"
    }
   ],
   "source": [
    "datapath = './Datasets/datasets/'\n",
    "datasets = os.listdir(datapath)\n",
    "datasets.sort()\n",
    "datasets"
   ]
  },
  {
   "cell_type": "markdown",
   "id": "0132d132",
   "metadata": {},
   "source": [
    "# Random guess for all datasets"
   ]
  },
  {
   "cell_type": "code",
   "execution_count": 37,
   "id": "87f9a0dc",
   "metadata": {},
   "outputs": [],
   "source": [
    "RandomGuess = ''\n",
    "for dataset in datasets:\n",
    "    # read data\n",
    "    with open(datapath+dataset, 'rb') as f:\n",
    "        data = pickle.load(f)\n",
    "    y_train = data['y_train']\n",
    "    y_valid = data['y_valid']\n",
    "    y_test = data['y_test']\n",
    "    y_all = data['y_all']\n",
    "    name = data['name']\n",
    "    \n",
    "    N_class = y_all.unique().numel()\n",
    "    \n",
    "    y = torch.cat((y_train,y_valid), dim=0)\n",
    "    frequence = np.histogram(y, bins=N_class)[0]\n",
    "    label = np.histogram(y, bins=N_class-1)[1]\n",
    "    guess = int(label[np.argmax(frequence)])\n",
    "    Guess = np.ones(len(y_test)) * guess\n",
    "    Label = np.array(y_test)\n",
    "    accuracy = np.sum(Label==Guess) / Label.shape[0]\n",
    "    \n",
    "    RandomGuess += name.ljust(25,' ')\n",
    "    RandomGuess += '\\t\\t'\n",
    "    RandomGuess += str(np.round(accuracy, 4))\n",
    "    RandomGuess += '\\n'"
   ]
  },
  {
   "cell_type": "code",
   "execution_count": 38,
   "id": "48d37c22",
   "metadata": {},
   "outputs": [],
   "source": [
    "with open(f'./result/random_guess/random_guess.txt', 'w') as f:\n",
    "    f.write(RandomGuess)"
   ]
  },
  {
   "cell_type": "code",
   "execution_count": null,
   "id": "da3e5d1c",
   "metadata": {},
   "outputs": [],
   "source": []
  }
 ],
 "metadata": {
  "kernelspec": {
   "display_name": "ML",
   "language": "python",
   "name": "ml"
  },
  "language_info": {
   "codemirror_mode": {
    "name": "ipython",
    "version": 3
   },
   "file_extension": ".py",
   "mimetype": "text/x-python",
   "name": "python",
   "nbconvert_exporter": "python",
   "pygments_lexer": "ipython3",
   "version": "3.8.13"
  },
  "toc": {
   "base_numbering": 1,
   "nav_menu": {},
   "number_sections": true,
   "sideBar": true,
   "skip_h1_title": false,
   "title_cell": "Table of Contents",
   "title_sidebar": "Contents",
   "toc_cell": false,
   "toc_position": {},
   "toc_section_display": true,
   "toc_window_display": true
  }
 },
 "nbformat": 4,
 "nbformat_minor": 5
}
