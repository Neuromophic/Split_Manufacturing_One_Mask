{
 "cells": [
  {
   "cell_type": "code",
   "execution_count": 1,
   "id": "b410ea6a",
   "metadata": {},
   "outputs": [],
   "source": [
    "import torch\n",
    "import pickle\n",
    "import config\n",
    "import os\n",
    "import numpy as np\n",
    "import evaluation as E\n",
    "import matplotlib.pyplot as plt"
   ]
  },
  {
   "cell_type": "code",
   "execution_count": 2,
   "id": "a8455cec",
   "metadata": {},
   "outputs": [
    {
     "name": "stdout",
     "output_type": "stream",
     "text": [
      "Loading acuteinflammation 6 2 25\n",
      "Loading acutenephritis 6 2 25\n",
      "Loading balancescale 4 3 126\n",
      "Loading blood 4 2 150\n",
      "Loading breastcancer 9 2 58\n",
      "Loading breastcancerwisc 9 2 140\n",
      "Loading breasttissue 9 6 22\n",
      "Loading ecoli 7 8 68\n",
      "Loading energyy1 8 3 154\n",
      "Loading energyy2 8 3 154\n",
      "Loading fertility 9 2 21\n",
      "Loading glass 9 6 43\n",
      "Loading habermansurvival 3 2 62\n",
      "Loading hayesroth 3 3 32\n",
      "Loading ilpdindianliver 9 2 117\n",
      "Loading iris 4 3 31\n",
      "Loading mammographic 5 2 193\n",
      "Loading monks1 6 2 111\n",
      "Loading monks2 6 2 120\n",
      "Loading monks3 6 2 110\n",
      "Loading pima 8 2 154\n",
      "Loading pittsburgbridgesMATERIAL 7 3 22\n",
      "Loading pittsburgbridgesRELL 7 3 21\n",
      "Loading pittsburgbridgesSPAN 7 3 18\n",
      "Loading pittsburgbridgesTORD 7 2 20\n",
      "Loading pittsburgbridgesTYPE 7 6 22\n",
      "Loading postoperative 8 3 19\n",
      "Loading seeds 7 3 43\n",
      "Loading teaching 5 3 31\n",
      "Loading tictactoe 9 2 192\n",
      "Loading vertebralcolumn2clases 6 2 63\n",
      "Loading vertebralcolumn3clases 6 3 63\n",
      "Finish data loading.\n"
     ]
    }
   ],
   "source": [
    "# Device\n",
    "device = config.device\n",
    "# device = torch.device('cuda:0')\n",
    "# device = 'cpu'\n",
    "\n",
    "# Prepare data\n",
    "## Datasets\n",
    "datasets = os.listdir('./Datasets/datasets/')\n",
    "datasets = [d for d in datasets if d.endswith('.p')]\n",
    "datasets.sort()\n",
    "\n",
    "## Load data\n",
    "names   = []\n",
    "num_in  = []\n",
    "num_out = []\n",
    "X_trains = []\n",
    "y_trains = []\n",
    "X_valids = []\n",
    "y_valids = []\n",
    "X_tests = []\n",
    "y_tests = []\n",
    "\n",
    "for dataset in datasets:\n",
    "    datapath = os.path.join('./Datasets/datasets/' + dataset)\n",
    "    with open(datapath, 'rb') as f:\n",
    "        data = pickle.load(f)\n",
    "        \n",
    "    X_test     = data['X_test']\n",
    "    y_test     = data['y_test']\n",
    "    data_name  = data['name']\n",
    "\n",
    "    N_class    = data['n_class']\n",
    "    N_feature  = data['n_feature']\n",
    "    N_test     = X_test.shape[0]\n",
    "    \n",
    "    print('Loading', data_name, N_feature, N_class, N_test)\n",
    "    \n",
    "    names.append(data_name)\n",
    "    num_in.append(N_feature)\n",
    "    num_out.append(N_class)\n",
    "    \n",
    "    X_tests.append(X_test.to(device))\n",
    "    y_tests.append(y_test.to(device))\n",
    "\n",
    "N_tasks = len(X_tests)\n",
    "print('Finish data loading.')"
   ]
  },
  {
   "cell_type": "code",
   "execution_count": 3,
   "id": "c54476ad-d078-474e-98b7-6bdbafa84676",
   "metadata": {},
   "outputs": [],
   "source": [
    "alphas = np.logspace(np.log(1e-4), np.log(1e5), 51, base=np.e)\n",
    "alphas = np.round(alphas, 5)\n",
    "alphas_str = [str(alpha) for alpha in alphas]"
   ]
  },
  {
   "cell_type": "code",
   "execution_count": 4,
   "id": "65c880ec-64d0-40d6-8b22-db7b276eaade",
   "metadata": {},
   "outputs": [],
   "source": [
    "Results = torch.zeros([len(alphas), 10, 2, N_tasks])"
   ]
  },
  {
   "cell_type": "code",
   "execution_count": 5,
   "id": "3d3f4409",
   "metadata": {},
   "outputs": [
    {
     "ename": "FileNotFoundError",
     "evalue": "[Errno 2] No such file or directory: './result/super pNN hidden 55/model/spnn_0.0001_0'",
     "output_type": "error",
     "traceback": [
      "\u001b[0;31m---------------------------------------------------------------------------\u001b[0m",
      "\u001b[0;31mFileNotFoundError\u001b[0m                         Traceback (most recent call last)",
      "Input \u001b[0;32mIn [5]\u001b[0m, in \u001b[0;36m<cell line: 1>\u001b[0;34m()\u001b[0m\n\u001b[1;32m      2\u001b[0m alpha \u001b[38;5;241m=\u001b[39m alphas_str[a]\n\u001b[1;32m      3\u001b[0m \u001b[38;5;28;01mfor\u001b[39;00m seed \u001b[38;5;129;01min\u001b[39;00m \u001b[38;5;28mrange\u001b[39m(\u001b[38;5;241m10\u001b[39m):\n\u001b[0;32m----> 4\u001b[0m     spnn \u001b[38;5;241m=\u001b[39m \u001b[43mtorch\u001b[49m\u001b[38;5;241;43m.\u001b[39;49m\u001b[43mload\u001b[49m\u001b[43m(\u001b[49m\u001b[38;5;124;43mf\u001b[39;49m\u001b[38;5;124;43m'\u001b[39;49m\u001b[38;5;124;43m./result/super pNN hidden \u001b[39;49m\u001b[38;5;132;43;01m{\u001b[39;49;00m\u001b[43mconfig\u001b[49m\u001b[38;5;241;43m.\u001b[39;49m\u001b[43mhidden_topology_str\u001b[49m\u001b[38;5;132;43;01m}\u001b[39;49;00m\u001b[38;5;124;43m/model/spnn_\u001b[39;49m\u001b[38;5;132;43;01m{\u001b[39;49;00m\u001b[43malpha\u001b[49m\u001b[38;5;132;43;01m}\u001b[39;49;00m\u001b[38;5;124;43m_\u001b[39;49m\u001b[38;5;132;43;01m{\u001b[39;49;00m\u001b[43mseed\u001b[49m\u001b[38;5;132;43;01m}\u001b[39;49;00m\u001b[38;5;124;43m'\u001b[39;49m\u001b[43m)\u001b[49m\n\u001b[1;32m      5\u001b[0m     \u001b[38;5;28;01mwith\u001b[39;00m torch\u001b[38;5;241m.\u001b[39mno_grad():\n\u001b[1;32m      6\u001b[0m         prediction \u001b[38;5;241m=\u001b[39m spnn(X_tests)\n",
      "File \u001b[0;32m~/miniconda3/envs/SDIL/lib/python3.8/site-packages/torch/serialization.py:594\u001b[0m, in \u001b[0;36mload\u001b[0;34m(f, map_location, pickle_module, **pickle_load_args)\u001b[0m\n\u001b[1;32m    591\u001b[0m \u001b[38;5;28;01mif\u001b[39;00m \u001b[38;5;124m'\u001b[39m\u001b[38;5;124mencoding\u001b[39m\u001b[38;5;124m'\u001b[39m \u001b[38;5;129;01mnot\u001b[39;00m \u001b[38;5;129;01min\u001b[39;00m pickle_load_args\u001b[38;5;241m.\u001b[39mkeys():\n\u001b[1;32m    592\u001b[0m     pickle_load_args[\u001b[38;5;124m'\u001b[39m\u001b[38;5;124mencoding\u001b[39m\u001b[38;5;124m'\u001b[39m] \u001b[38;5;241m=\u001b[39m \u001b[38;5;124m'\u001b[39m\u001b[38;5;124mutf-8\u001b[39m\u001b[38;5;124m'\u001b[39m\n\u001b[0;32m--> 594\u001b[0m \u001b[38;5;28;01mwith\u001b[39;00m \u001b[43m_open_file_like\u001b[49m\u001b[43m(\u001b[49m\u001b[43mf\u001b[49m\u001b[43m,\u001b[49m\u001b[43m \u001b[49m\u001b[38;5;124;43m'\u001b[39;49m\u001b[38;5;124;43mrb\u001b[39;49m\u001b[38;5;124;43m'\u001b[39;49m\u001b[43m)\u001b[49m \u001b[38;5;28;01mas\u001b[39;00m opened_file:\n\u001b[1;32m    595\u001b[0m     \u001b[38;5;28;01mif\u001b[39;00m _is_zipfile(opened_file):\n\u001b[1;32m    596\u001b[0m         \u001b[38;5;66;03m# The zipfile reader is going to advance the current file position.\u001b[39;00m\n\u001b[1;32m    597\u001b[0m         \u001b[38;5;66;03m# If we want to actually tail call to torch.jit.load, we need to\u001b[39;00m\n\u001b[1;32m    598\u001b[0m         \u001b[38;5;66;03m# reset back to the original position.\u001b[39;00m\n\u001b[1;32m    599\u001b[0m         orig_position \u001b[38;5;241m=\u001b[39m opened_file\u001b[38;5;241m.\u001b[39mtell()\n",
      "File \u001b[0;32m~/miniconda3/envs/SDIL/lib/python3.8/site-packages/torch/serialization.py:230\u001b[0m, in \u001b[0;36m_open_file_like\u001b[0;34m(name_or_buffer, mode)\u001b[0m\n\u001b[1;32m    228\u001b[0m \u001b[38;5;28;01mdef\u001b[39;00m \u001b[38;5;21m_open_file_like\u001b[39m(name_or_buffer, mode):\n\u001b[1;32m    229\u001b[0m     \u001b[38;5;28;01mif\u001b[39;00m _is_path(name_or_buffer):\n\u001b[0;32m--> 230\u001b[0m         \u001b[38;5;28;01mreturn\u001b[39;00m \u001b[43m_open_file\u001b[49m\u001b[43m(\u001b[49m\u001b[43mname_or_buffer\u001b[49m\u001b[43m,\u001b[49m\u001b[43m \u001b[49m\u001b[43mmode\u001b[49m\u001b[43m)\u001b[49m\n\u001b[1;32m    231\u001b[0m     \u001b[38;5;28;01melse\u001b[39;00m:\n\u001b[1;32m    232\u001b[0m         \u001b[38;5;28;01mif\u001b[39;00m \u001b[38;5;124m'\u001b[39m\u001b[38;5;124mw\u001b[39m\u001b[38;5;124m'\u001b[39m \u001b[38;5;129;01min\u001b[39;00m mode:\n",
      "File \u001b[0;32m~/miniconda3/envs/SDIL/lib/python3.8/site-packages/torch/serialization.py:211\u001b[0m, in \u001b[0;36m_open_file.__init__\u001b[0;34m(self, name, mode)\u001b[0m\n\u001b[1;32m    210\u001b[0m \u001b[38;5;28;01mdef\u001b[39;00m \u001b[38;5;21m__init__\u001b[39m(\u001b[38;5;28mself\u001b[39m, name, mode):\n\u001b[0;32m--> 211\u001b[0m     \u001b[38;5;28msuper\u001b[39m(_open_file, \u001b[38;5;28mself\u001b[39m)\u001b[38;5;241m.\u001b[39m\u001b[38;5;21m__init__\u001b[39m(\u001b[38;5;28;43mopen\u001b[39;49m\u001b[43m(\u001b[49m\u001b[43mname\u001b[49m\u001b[43m,\u001b[49m\u001b[43m \u001b[49m\u001b[43mmode\u001b[49m\u001b[43m)\u001b[49m)\n",
      "\u001b[0;31mFileNotFoundError\u001b[0m: [Errno 2] No such file or directory: './result/super pNN hidden 55/model/spnn_0.0001_0'"
     ]
    }
   ],
   "source": [
    "for a in range(len(alphas_str)):\n",
    "    alpha = alphas_str[a]\n",
    "    for seed in range(10):\n",
    "        spnn = torch.load(f'./result/super pNN hidden {config.hidden_topology_str}/model/spnn_{alpha}_{seed}')\n",
    "        with torch.no_grad():\n",
    "            prediction = spnn(X_tests)\n",
    "            Results[a, seed, 0, :] = torch.tensor(E.AccList(prediction, y_tests)).view(1,-1)\n",
    "            Results[a, seed, 1, :] = spnn.GetNorm(config.pnorm)"
   ]
  },
  {
   "cell_type": "code",
   "execution_count": null,
   "id": "687fc47d",
   "metadata": {},
   "outputs": [],
   "source": [
    "Results.shape"
   ]
  },
  {
   "cell_type": "code",
   "execution_count": null,
   "id": "1005acb2-1279-45cd-a1fb-3c1e73bdcd3a",
   "metadata": {},
   "outputs": [],
   "source": [
    "Results_zero = torch.mean(Results[0,:,0,:], dim=0).numpy()\n",
    "Results_infty = torch.mean(Results[-1,:,0,:], dim=0).numpy()\n",
    "np.savetxt(f'./result/super pNN hidden {config.hidden_topology_str}/test_acc_zero.txt',  Results_zero,  fmt='%.5f')\n",
    "np.savetxt(f'./result/super pNN hidden {config.hidden_topology_str}/test_acc_infty.txt', Results_infty, fmt='%.5f')"
   ]
  },
  {
   "cell_type": "code",
   "execution_count": null,
   "id": "7b10e690-8620-477b-a020-11ce46564f1a",
   "metadata": {},
   "outputs": [],
   "source": [
    "Results[:,:,0,:] = Results[:,:,0,:] / Results[0,:,0,:]"
   ]
  },
  {
   "cell_type": "code",
   "execution_count": null,
   "id": "f39d5307-3c83-45fd-b21b-0980925c548a",
   "metadata": {},
   "outputs": [],
   "source": [
    "ALPHAvsACC = Results[:,:,0,:]\n",
    "ALPHAvsACC = torch.mean(ALPHAvsACC, dim=1)\n",
    "ALPHAvsACC.shape"
   ]
  },
  {
   "cell_type": "code",
   "execution_count": null,
   "id": "76652fd7-f01c-46ca-b46b-dcb95292056c",
   "metadata": {},
   "outputs": [],
   "source": [
    "for t in range(N_tasks):\n",
    "    plt.plot(np.array(alphas), ALPHAvsACC[:,t].numpy())\n",
    "plt.xlim([1e-4, 1e5])\n",
    "plt.xscale('log')\n",
    "plt.xlabel(r'$\\alpha$')\n",
    "plt.ylabel(r'acc')"
   ]
  },
  {
   "cell_type": "code",
   "execution_count": null,
   "id": "503476b7-9b29-484b-856d-f664810b73bc",
   "metadata": {},
   "outputs": [],
   "source": [
    "ALPHAvsACC_alltask = torch.mean(ALPHAvsACC, dim=1)"
   ]
  },
  {
   "cell_type": "code",
   "execution_count": null,
   "id": "1d3e0729-ae67-452b-8a3d-0b99bed48595",
   "metadata": {},
   "outputs": [],
   "source": [
    "plt.plot(np.array(alphas), ALPHAvsACC_alltask.numpy())\n",
    "plt.xlim([1e-4, 1e5])\n",
    "plt.xscale('log')\n",
    "plt.xlabel(r'$\\alpha$')\n",
    "plt.ylabel(r'accuracy')"
   ]
  },
  {
   "cell_type": "code",
   "execution_count": null,
   "id": "9f129957-bc74-4457-b180-9d0161cf7b2a",
   "metadata": {},
   "outputs": [],
   "source": [
    "NORMvsACC = torch.mean(Results, dim=3)\n",
    "NORMvsACC.shape"
   ]
  },
  {
   "cell_type": "code",
   "execution_count": null,
   "id": "bb1a6f92-0ed3-4330-ab94-adfcbfe876e2",
   "metadata": {},
   "outputs": [],
   "source": [
    "NORMvsACC1 = NORMvsACC[:,:,0].view(1,-1)\n",
    "NORMvsACC2 = NORMvsACC[:,:,1].view(1,-1)\n",
    "NORMvsACC = torch.cat([NORMvsACC1, NORMvsACC2], dim=0)\n",
    "NORMvsACC.shape"
   ]
  },
  {
   "cell_type": "code",
   "execution_count": null,
   "id": "d4a4940c-b4e3-4389-b44f-c8ec7aadeb60",
   "metadata": {},
   "outputs": [],
   "source": [
    "plt.scatter(NORMvsACC[1,:], NORMvsACC[0,:])\n",
    "plt.xlabel(r'$norm$')\n",
    "plt.ylabel(r'accuracy')"
   ]
  },
  {
   "cell_type": "code",
   "execution_count": null,
   "id": "c9e10eb8-f7a2-48d8-81c6-43d1be810e91",
   "metadata": {},
   "outputs": [],
   "source": [
    "def HistoAcc(norm, acc, N=10):\n",
    "    accs = []\n",
    "    deltas = torch.linspace(torch.min(norm), torch.max(norm), N+1)\n",
    "    for d in range(deltas.shape[0]-1):\n",
    "        accs.append(torch.mean(acc[(deltas[d]<norm) & (norm<deltas[d+1])]))\n",
    "    return accs, deltas[:-1]"
   ]
  },
  {
   "cell_type": "code",
   "execution_count": null,
   "id": "3289d735-ccc4-4c39-93c3-52aca094425a",
   "metadata": {},
   "outputs": [],
   "source": [
    "acc,norm = HistoAcc(NORMvsACC[1,:], NORMvsACC[0,:])"
   ]
  },
  {
   "cell_type": "code",
   "execution_count": null,
   "id": "97f3ba21-c164-4d98-b55f-f2bead620722",
   "metadata": {},
   "outputs": [],
   "source": [
    "plt.scatter(norm, acc)\n",
    "plt.xlabel(r'$norm$')\n",
    "plt.ylabel(r'accuracy')"
   ]
  },
  {
   "cell_type": "code",
   "execution_count": null,
   "id": "55d5ac6f-0784-40df-bc7b-a3ad98b6f5d4",
   "metadata": {},
   "outputs": [],
   "source": []
  }
 ],
 "metadata": {
  "kernelspec": {
   "display_name": "SDIL",
   "language": "python",
   "name": "sdil"
  },
  "language_info": {
   "codemirror_mode": {
    "name": "ipython",
    "version": 3
   },
   "file_extension": ".py",
   "mimetype": "text/x-python",
   "name": "python",
   "nbconvert_exporter": "python",
   "pygments_lexer": "ipython3",
   "version": "3.8.13"
  },
  "toc": {
   "base_numbering": 1,
   "nav_menu": {},
   "number_sections": true,
   "sideBar": true,
   "skip_h1_title": false,
   "title_cell": "Table of Contents",
   "title_sidebar": "Contents",
   "toc_cell": false,
   "toc_position": {},
   "toc_section_display": true,
   "toc_window_display": false
  }
 },
 "nbformat": 4,
 "nbformat_minor": 5
}
