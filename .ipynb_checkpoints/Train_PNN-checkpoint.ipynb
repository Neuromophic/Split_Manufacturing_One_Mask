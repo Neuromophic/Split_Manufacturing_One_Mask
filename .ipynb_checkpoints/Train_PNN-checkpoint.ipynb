{
 "cells": [
  {
   "cell_type": "markdown",
   "id": "eab183f8",
   "metadata": {},
   "source": [
    "# Import library"
   ]
  },
  {
   "cell_type": "code",
   "execution_count": 1,
   "id": "0bc40b33",
   "metadata": {},
   "outputs": [],
   "source": [
    "import importlib\n",
    "import torch\n",
    "import pickle\n",
    "import os\n",
    "import sys\n",
    "import matplotlib.pyplot as plt\n",
    "import numpy as np\n",
    "import pNN_Split as pnn\n",
    "import random\n",
    "import config"
   ]
  },
  {
   "cell_type": "markdown",
   "id": "af93c27e-7559-466e-9a0f-084e03f0c576",
   "metadata": {},
   "source": [
    "# Random Seed"
   ]
  },
  {
   "cell_type": "code",
   "execution_count": 2,
   "id": "34cf3dc6",
   "metadata": {},
   "outputs": [],
   "source": [
    "seed = 0"
   ]
  },
  {
   "cell_type": "markdown",
   "id": "1026bd3c",
   "metadata": {},
   "source": [
    "# Device"
   ]
  },
  {
   "cell_type": "code",
   "execution_count": 3,
   "id": "b0e91163",
   "metadata": {},
   "outputs": [
    {
     "data": {
      "text/plain": [
       "'cpu'"
      ]
     },
     "execution_count": 3,
     "metadata": {},
     "output_type": "execute_result"
    }
   ],
   "source": [
    "# device = torch.device('cuda' if torch.cuda.is_available() else 'cpu')\n",
    "# device = torch.device('cuda:0')\n",
    "device = 'cpu'\n",
    "device"
   ]
  },
  {
   "cell_type": "markdown",
   "id": "15519567",
   "metadata": {},
   "source": [
    "# Prepare data"
   ]
  },
  {
   "cell_type": "markdown",
   "id": "f224be26-e399-42a8-9c96-e285490e8916",
   "metadata": {},
   "source": [
    "## Datasets"
   ]
  },
  {
   "cell_type": "code",
   "execution_count": 4,
   "id": "92014c65-5b5c-4b61-93ef-30f044282eb3",
   "metadata": {},
   "outputs": [],
   "source": [
    "# if config.current_dataset is not None:\n",
    "#     ds = config.datasets[config.current_dataset]\n",
    "# else:\n",
    "#     ds = config.datasets[0]\n",
    "\n",
    "# ds"
   ]
  },
  {
   "cell_type": "code",
   "execution_count": 5,
   "id": "566dafd0",
   "metadata": {},
   "outputs": [],
   "source": [
    "ds1 = 'Seeds'"
   ]
  },
  {
   "cell_type": "code",
   "execution_count": 6,
   "id": "f1ac8b03",
   "metadata": {},
   "outputs": [],
   "source": [
    "ds2 = 'Iris'"
   ]
  },
  {
   "cell_type": "markdown",
   "id": "3f9b925b",
   "metadata": {},
   "source": [
    "## Load data"
   ]
  },
  {
   "cell_type": "code",
   "execution_count": 7,
   "id": "fd3f8c31",
   "metadata": {},
   "outputs": [
    {
     "data": {
      "text/plain": [
       "(torch.Size([210, 7]), torch.Size([210]), 210, 7, 3)"
      ]
     },
     "execution_count": 7,
     "metadata": {},
     "output_type": "execute_result"
    }
   ],
   "source": [
    "datapath = os.path.join(os.getcwd(), 'Datasets',\n",
    "                        'dataset_processed', f'Dataset_{ds1}.p')\n",
    "with open(datapath, 'rb') as f:\n",
    "    dataset = pickle.load(f)\n",
    "X1 = dataset['X'].float()\n",
    "y1 = dataset['y']\n",
    "\n",
    "E1, N_features1, N_class1 = X1.shape[0], X1.shape[1], torch.max(torch.unique(y1)).item()+1\n",
    "X1.shape, y1.shape, E1, N_features1, N_class1"
   ]
  },
  {
   "cell_type": "code",
   "execution_count": 8,
   "id": "324f4a9c",
   "metadata": {},
   "outputs": [
    {
     "data": {
      "text/plain": [
       "(torch.Size([150, 4]), torch.Size([150]), 150, 4, 3)"
      ]
     },
     "execution_count": 8,
     "metadata": {},
     "output_type": "execute_result"
    }
   ],
   "source": [
    "datapath = os.path.join(os.getcwd(), 'Datasets',\n",
    "                        'dataset_processed', f'Dataset_{ds2}.p')\n",
    "with open(datapath, 'rb') as f:\n",
    "    dataset = pickle.load(f)\n",
    "X2 = dataset['X'].float()\n",
    "y2 = dataset['y']\n",
    "\n",
    "E2, N_features2, N_class2 = X2.shape[0], X2.shape[1], torch.max(torch.unique(y2)).item()+1\n",
    "X2.shape, y2.shape, E2, N_features2, N_class2"
   ]
  },
  {
   "cell_type": "markdown",
   "id": "35adbc19",
   "metadata": {},
   "source": [
    "## Pseudo-electrical Signal"
   ]
  },
  {
   "cell_type": "code",
   "execution_count": 9,
   "id": "ea0969cc",
   "metadata": {},
   "outputs": [
    {
     "data": {
      "text/plain": [
       "(tensor(0.), tensor(1.))"
      ]
     },
     "execution_count": 9,
     "metadata": {},
     "output_type": "execute_result"
    }
   ],
   "source": [
    "X1 = X1 - torch.min(X1, axis=0)[0]\n",
    "X1 = X1 / (torch.max(X1, axis=0)[0])\n",
    "torch.min(X1), torch.max(X1)"
   ]
  },
  {
   "cell_type": "code",
   "execution_count": 10,
   "id": "fd138f20",
   "metadata": {},
   "outputs": [
    {
     "data": {
      "text/plain": [
       "(tensor(0.), tensor(1.))"
      ]
     },
     "execution_count": 10,
     "metadata": {},
     "output_type": "execute_result"
    }
   ],
   "source": [
    "X2 = X2 - torch.min(X2, axis=0)[0]\n",
    "X2 = X2 / (torch.max(X2, axis=0)[0])\n",
    "torch.min(X2), torch.max(X2)"
   ]
  },
  {
   "cell_type": "code",
   "execution_count": 11,
   "id": "6d30ecfc",
   "metadata": {},
   "outputs": [
    {
     "data": {
      "text/plain": [
       "(torch.Size([126, 7]),\n",
       " torch.Size([126]),\n",
       " torch.Size([42, 7]),\n",
       " torch.Size([42]),\n",
       " torch.Size([42, 7]),\n",
       " torch.Size([42]))"
      ]
     },
     "execution_count": 11,
     "metadata": {},
     "output_type": "execute_result"
    }
   ],
   "source": [
    "# split\n",
    "train_rate = 0.6\n",
    "valid_rate = 0.2\n",
    "test_rate = 0.2\n",
    "\n",
    "E_train1 = int(E1*train_rate)\n",
    "E_valid1 = int(E1*valid_rate)\n",
    "E_test1 =  E1 - E_train1 - E_valid1\n",
    "\n",
    "random.seed(config.data_split_seed);\n",
    "np.random.seed(config.data_split_seed);\n",
    "torch.manual_seed(config.data_split_seed);\n",
    "\n",
    "idx = torch.randperm(E1)\n",
    "X1 = X1[idx,:]\n",
    "y1 = y1[idx]\n",
    "\n",
    "X_train1, X_rest1 = X1[:E_train1,:],      X1[E_train1:,:]\n",
    "X_valid1, X_test1 = X_rest1[:E_valid1,:], X_rest1[E_valid1:,:]\n",
    "\n",
    "y_train1, y_rest1 = y1[:E_train1],      y1[E_train1:]\n",
    "y_valid1, y_test1 = y_rest1[:E_valid1], y_rest1[E_valid1:]\n",
    "\n",
    "X_train1.shape, y_train1.shape, X_valid1.shape, y_valid1.shape, X_test1.shape, y_test1.shape"
   ]
  },
  {
   "cell_type": "code",
   "execution_count": 12,
   "id": "391e2761",
   "metadata": {},
   "outputs": [
    {
     "data": {
      "text/plain": [
       "(torch.Size([90, 4]),\n",
       " torch.Size([90]),\n",
       " torch.Size([30, 4]),\n",
       " torch.Size([30]),\n",
       " torch.Size([30, 4]),\n",
       " torch.Size([90]))"
      ]
     },
     "execution_count": 12,
     "metadata": {},
     "output_type": "execute_result"
    }
   ],
   "source": [
    "E_train2 = int(E2 * train_rate)\n",
    "E_valid2 = int(E2 * valid_rate)\n",
    "E_test2 =  E2 - E_train2 - E_valid2\n",
    "\n",
    "random.seed(config.data_split_seed);\n",
    "np.random.seed(config.data_split_seed);\n",
    "torch.manual_seed(config.data_split_seed);\n",
    "\n",
    "idx = torch.randperm(E2)\n",
    "X2 = X2[idx,:]\n",
    "y2 = y2[idx]\n",
    "\n",
    "X_train2, X_rest2 = X2[:E_train2,:],      X2[E_train2:,:]\n",
    "X_valid2, X_test2 = X_rest2[:E_valid2,:], X_rest2[E_valid2:,:]\n",
    "\n",
    "y_train2, y_rest2 = y2[:E_train2],      y1[E_train2:]\n",
    "y_valid2, y_test2 = y_rest2[:E_valid2], y_rest2[E_valid2:]\n",
    "\n",
    "X_train2.shape, y_train2.shape, X_valid2.shape, y_valid2.shape, X_test2.shape, y_test2.shape"
   ]
  },
  {
   "cell_type": "code",
   "execution_count": 13,
   "id": "7e80f17c",
   "metadata": {},
   "outputs": [],
   "source": [
    "X_trains = [X_train1, X_train2]\n",
    "y_trains = [y_train1, y_train2]"
   ]
  },
  {
   "cell_type": "code",
   "execution_count": 14,
   "id": "302b2a77",
   "metadata": {},
   "outputs": [],
   "source": [
    "X_valids = [X_valid1, X_valid2]\n",
    "y_valids = [y_valid1, y_valid2]"
   ]
  },
  {
   "cell_type": "code",
   "execution_count": 15,
   "id": "302ed46a",
   "metadata": {},
   "outputs": [],
   "source": [
    "X_tests = [X_test1, X_test2]\n",
    "y_tests = [y_test1, y_test2]"
   ]
  },
  {
   "cell_type": "markdown",
   "id": "5c65c580",
   "metadata": {},
   "source": [
    "# PNN"
   ]
  },
  {
   "cell_type": "code",
   "execution_count": 16,
   "id": "97e02e26-c3e0-437b-85ed-85a4e56dfeac",
   "metadata": {},
   "outputs": [],
   "source": [
    "random.seed(seed);\n",
    "np.random.seed(seed);\n",
    "torch.manual_seed(seed);"
   ]
  },
  {
   "cell_type": "markdown",
   "id": "11fcb7de",
   "metadata": {},
   "source": [
    "## Define"
   ]
  },
  {
   "cell_type": "code",
   "execution_count": 17,
   "id": "098714b2",
   "metadata": {},
   "outputs": [
    {
     "data": {
      "text/plain": [
       "[7, 4]"
      ]
     },
     "execution_count": 17,
     "metadata": {},
     "output_type": "execute_result"
    }
   ],
   "source": [
    "num_in = []\n",
    "num_in.append(N_features1)\n",
    "num_in.append(N_features2)\n",
    "num_in"
   ]
  },
  {
   "cell_type": "code",
   "execution_count": 18,
   "id": "1649e362",
   "metadata": {},
   "outputs": [
    {
     "data": {
      "text/plain": [
       "[3, 3]"
      ]
     },
     "execution_count": 18,
     "metadata": {},
     "output_type": "execute_result"
    }
   ],
   "source": [
    "num_out = []\n",
    "num_out.append(N_class1)\n",
    "num_out.append(N_class2)\n",
    "num_out"
   ]
  },
  {
   "cell_type": "code",
   "execution_count": 19,
   "id": "b71faf4b",
   "metadata": {},
   "outputs": [],
   "source": [
    "topology_hidden = [3, 4, 3]"
   ]
  },
  {
   "cell_type": "code",
   "execution_count": 20,
   "id": "3556de57",
   "metadata": {},
   "outputs": [],
   "source": [
    "SuperPNN = pnn.PNNSupernet(num_in, num_out, topology_hidden)"
   ]
  },
  {
   "cell_type": "code",
   "execution_count": 21,
   "id": "d25904ab",
   "metadata": {},
   "outputs": [
    {
     "name": "stdout",
     "output_type": "stream",
     "text": [
      "theta_common_ 0\n",
      "theta_common_ 1\n",
      "models.0.model.Input_Layer.theta_\n",
      "models.0.model.Hiddel_Layer 0.theta_individual_\n",
      "models.0.model.Hiddel_Layer 1.theta_individual_\n",
      "models.0.model.Output_Layer.theta_\n",
      "models.1.model.Input_Layer.theta_\n",
      "models.1.model.Hiddel_Layer 0.theta_individual_\n",
      "models.1.model.Hiddel_Layer 1.theta_individual_\n",
      "models.1.model.Output_Layer.theta_\n"
     ]
    }
   ],
   "source": [
    "for n,p in SuperPNN.named_parameters():\n",
    "    print(n)"
   ]
  },
  {
   "cell_type": "code",
   "execution_count": 22,
   "id": "42dab761",
   "metadata": {},
   "outputs": [],
   "source": [
    "optimizer = torch.optim.Adam(SuperPNN.parameters(), lr=0.1)"
   ]
  },
  {
   "cell_type": "code",
   "execution_count": 23,
   "id": "deaf2d0f",
   "metadata": {},
   "outputs": [
    {
     "name": "stdout",
     "output_type": "stream",
     "text": [
      "tensor(2.7920) tensor(2.7920)\n",
      "tensor(2.7920) tensor(2.7920)\n",
      "tensor(2.7920) tensor(2.7920)\n",
      "tensor(2.7920) tensor(2.7920)\n",
      "tensor(2.7920) tensor(2.7920)\n",
      "tensor(2.7920) tensor(2.7920)\n",
      "tensor(2.7920) tensor(2.7920)\n",
      "tensor(2.7920) tensor(2.7920)\n",
      "tensor(2.7920) tensor(2.7920)\n",
      "tensor(2.7920) tensor(2.7920)\n"
     ]
    }
   ],
   "source": [
    "loss_train = []\n",
    "loss_valid = []\n",
    "for epoch in range(1000):\n",
    "    optimizer.zero_grad()\n",
    "    \n",
    "    predictions_train = SuperPNN(X_trains)\n",
    "    L_train = pnn.LOSSFUNCTION(predictions_train, y_trains)\n",
    "    \n",
    "    L_train.backward()\n",
    "    optimizer.step()\n",
    "    \n",
    "    with torch.no_grad():\n",
    "        predictions_valid = SuperPNN(X_valids)\n",
    "        L_valid = pnn.LOSSFUNCTION(predictions_valid, y_valids)\n",
    "    \n",
    "    loss_train.append(L_train.data)\n",
    "    loss_valid.append(L_valid.data)\n",
    "    \n",
    "    if not epoch%100:\n",
    "        print(L_train.data, L_valid.data)"
   ]
  },
  {
   "cell_type": "code",
   "execution_count": 26,
   "id": "a65fee73",
   "metadata": {},
   "outputs": [
    {
     "name": "stdout",
     "output_type": "stream",
     "text": [
      "theta_common_ 0\n",
      "theta_common_ 1\n",
      "models.0.model.Input_Layer.theta_\n",
      "models.0.model.Hiddel_Layer 0.theta_individual_\n",
      "models.0.model.Hiddel_Layer 1.theta_individual_\n",
      "models.0.model.Output_Layer.theta_\n",
      "models.1.model.Input_Layer.theta_\n",
      "models.1.model.Hiddel_Layer 0.theta_individual_\n",
      "models.1.model.Hiddel_Layer 1.theta_individual_\n",
      "models.1.model.Output_Layer.theta_\n"
     ]
    }
   ],
   "source": [
    "for n, p in SuperPNN.named_parameters():\n",
    "    print(n)\n",
    "#     print(p)\n",
    "#     print(p.grad)"
   ]
  },
  {
   "cell_type": "markdown",
   "id": "717b8779",
   "metadata": {},
   "source": [
    "# test"
   ]
  },
  {
   "cell_type": "code",
   "execution_count": 27,
   "id": "7713f6b6",
   "metadata": {},
   "outputs": [],
   "source": [
    "pl = pnn.PNNLayer(7,1)"
   ]
  },
  {
   "cell_type": "code",
   "execution_count": 28,
   "id": "09560a4e",
   "metadata": {},
   "outputs": [],
   "source": [
    "yl = pl(X_train1)"
   ]
  },
  {
   "cell_type": "code",
   "execution_count": 29,
   "id": "26677858",
   "metadata": {},
   "outputs": [],
   "source": [
    "yl.sum().backward()"
   ]
  },
  {
   "cell_type": "code",
   "execution_count": 30,
   "id": "da843859",
   "metadata": {},
   "outputs": [
    {
     "name": "stdout",
     "output_type": "stream",
     "text": [
      "theta_\n",
      "Parameter containing:\n",
      "tensor([[ 0.3330],\n",
      "        [ 0.3603],\n",
      "        [ 0.6477],\n",
      "        [ 0.9110],\n",
      "        [ 0.6359],\n",
      "        [ 0.2634],\n",
      "        [ 0.2650],\n",
      "        [ 5.1731],\n",
      "        [20.6080]], requires_grad=True)\n",
      "tensor([[-0.3879],\n",
      "        [-0.3000],\n",
      "        [-0.0383],\n",
      "        [-0.2502],\n",
      "        [-0.3686],\n",
      "        [ 0.3120],\n",
      "        [-0.0621],\n",
      "        [ 1.1322],\n",
      "        [-0.4735]])\n"
     ]
    }
   ],
   "source": [
    "for n, p in pl.named_parameters():\n",
    "    print(n)\n",
    "    print(p)\n",
    "    print(p.grad)"
   ]
  },
  {
   "cell_type": "code",
   "execution_count": 31,
   "id": "4562bd18",
   "metadata": {},
   "outputs": [],
   "source": [
    "theta = torch.nn.Parameter(torch.randn(9,1), requires_grad=True)"
   ]
  },
  {
   "cell_type": "code",
   "execution_count": 32,
   "id": "6bae769a",
   "metadata": {},
   "outputs": [],
   "source": [
    "ph = pnn.PNNHiddenLayer(7,1,theta)"
   ]
  },
  {
   "cell_type": "code",
   "execution_count": 33,
   "id": "6bca5cf9",
   "metadata": {},
   "outputs": [],
   "source": [
    "yh = ph(X_train1)"
   ]
  },
  {
   "cell_type": "code",
   "execution_count": 34,
   "id": "cda2e064",
   "metadata": {},
   "outputs": [],
   "source": [
    "yh.sum().backward()"
   ]
  },
  {
   "cell_type": "code",
   "execution_count": 35,
   "id": "6dbf785d",
   "metadata": {},
   "outputs": [
    {
     "name": "stdout",
     "output_type": "stream",
     "text": [
      "theta_common_\n",
      "Parameter containing:\n",
      "tensor([[ 0.0394],\n",
      "        [-1.1895],\n",
      "        [-0.5015],\n",
      "        [-0.1455],\n",
      "        [ 0.1522],\n",
      "        [-1.4437],\n",
      "        [-0.2284],\n",
      "        [-0.3552],\n",
      "        [-0.7219]], requires_grad=True)\n",
      "tensor([[4.0805],\n",
      "        [4.6967],\n",
      "        [4.6731],\n",
      "        [3.8565],\n",
      "        [4.0265],\n",
      "        [3.6081],\n",
      "        [3.7482],\n",
      "        [4.7003],\n",
      "        [0.5652]])\n",
      "theta_individual_\n",
      "Parameter containing:\n",
      "tensor([[0.6152],\n",
      "        [0.5982],\n",
      "        [0.1288],\n",
      "        [0.5832],\n",
      "        [0.7130],\n",
      "        [0.6979],\n",
      "        [0.4371],\n",
      "        [0.0901],\n",
      "        [0.4229]], requires_grad=True)\n",
      "tensor([[4.0805],\n",
      "        [4.6967],\n",
      "        [4.6731],\n",
      "        [3.8565],\n",
      "        [4.0265],\n",
      "        [3.6081],\n",
      "        [3.7482],\n",
      "        [4.7003],\n",
      "        [0.5652]])\n"
     ]
    }
   ],
   "source": [
    "for n, p in ph.named_parameters():\n",
    "    print(n)\n",
    "    print(p)\n",
    "    print(p.grad)"
   ]
  },
  {
   "cell_type": "code",
   "execution_count": 36,
   "id": "c170f490",
   "metadata": {},
   "outputs": [],
   "source": [
    "pn = pnn.PNNNet(7,5,[3,4],theta)"
   ]
  },
  {
   "cell_type": "code",
   "execution_count": 37,
   "id": "36abb69a",
   "metadata": {},
   "outputs": [
    {
     "name": "stdout",
     "output_type": "stream",
     "text": [
      "model.Input_Layer.theta_\n",
      "model.Hiddel_Layer 0.theta_individual_\n",
      "model.Output_Layer.theta_\n"
     ]
    }
   ],
   "source": [
    "for n, p in pn.named_parameters():\n",
    "    print(n)"
   ]
  },
  {
   "cell_type": "code",
   "execution_count": 38,
   "id": "bb4a7edf",
   "metadata": {},
   "outputs": [],
   "source": [
    "yn = pn(torch.randn(100,7))\n",
    "# yn = pn(X_train1)"
   ]
  },
  {
   "cell_type": "code",
   "execution_count": 39,
   "id": "507f0490",
   "metadata": {},
   "outputs": [],
   "source": [
    "yn.sum().backward()"
   ]
  },
  {
   "cell_type": "code",
   "execution_count": 40,
   "id": "3069b8d8",
   "metadata": {},
   "outputs": [
    {
     "name": "stdout",
     "output_type": "stream",
     "text": [
      "model.Input_Layer.theta_\n",
      "Parameter containing:\n",
      "tensor([[ 0.6737,  0.3176,  0.6898],\n",
      "        [ 0.8330,  0.2389,  0.5049],\n",
      "        [ 0.7067,  0.5392,  0.5418],\n",
      "        [ 0.5624,  0.1069,  0.5393],\n",
      "        [ 0.8462,  0.9506,  0.7939],\n",
      "        [ 0.5670,  0.7335,  0.2568],\n",
      "        [ 0.0857,  0.0700,  0.9988],\n",
      "        [ 5.4578,  5.2008,  5.2829],\n",
      "        [20.8776, 20.9998, 20.9372]], requires_grad=True)\n",
      "tensor([[ 1.1395e-02,  3.9087e+01, -1.5343e-02],\n",
      "        [-6.8613e-02, -5.7805e+02, -3.9000e-02],\n",
      "        [-5.0147e-03, -8.4885e+01, -4.2192e-03],\n",
      "        [ 2.2622e-02,  1.2047e+02, -1.6491e-02],\n",
      "        [ 9.4269e-03,  2.8027e+01,  2.6564e-02],\n",
      "        [ 9.3302e-03,  2.5403e+01, -2.1557e-02],\n",
      "        [-4.9751e-02, -4.2436e+02, -1.7680e-04],\n",
      "        [ 3.1662e-02,  1.9300e+02,  2.8935e-02],\n",
      "        [-3.7062e-04, -4.9969e+01, -2.8566e-03]])\n",
      "model.Hiddel_Layer 0.theta_individual_\n",
      "Parameter containing:\n",
      "tensor([[0.6129, 0.1617, 0.0067, 0.0985],\n",
      "        [0.8947, 0.7705, 0.9691, 0.9006],\n",
      "        [0.0535, 0.1588, 0.4192, 0.1753],\n",
      "        [0.8472, 0.1220, 0.2560, 0.0170],\n",
      "        [0.2161, 0.9112, 0.9094, 0.8579]], requires_grad=True)\n",
      "tensor([[ -0.6692, -21.6224, -23.8796, -27.7791],\n",
      "        [  0.1846,  10.5365,  10.3074,  13.0871],\n",
      "        [ -0.6735, -21.6411, -23.8875, -27.7840],\n",
      "        [  0.4200,  19.1938,  19.5102,  24.0610],\n",
      "        [ -0.1790,  -3.1496,  -4.2316,  -4.3044]])\n",
      "model.Output_Layer.theta_\n",
      "Parameter containing:\n",
      "tensor([[ 0.8861,  0.9446,  0.3720,  0.7200,  0.9455],\n",
      "        [ 0.6654,  0.9998,  0.7593,  0.8108,  0.3250],\n",
      "        [ 0.7399,  0.5575,  0.3806,  0.2181,  0.2194],\n",
      "        [ 0.1153,  0.8357,  0.8555,  0.4431,  0.2107],\n",
      "        [ 5.0069,  4.9256,  4.8968,  4.9269,  4.7482],\n",
      "        [20.7045, 20.1204, 20.9785, 20.8797, 20.3178]], requires_grad=True)\n",
      "tensor([[ 3.8162e+00,  3.7103e+00,  1.0621e+00,  2.2868e+00,  6.9898e-04],\n",
      "        [-4.0428e+00, -3.3079e+00, -8.0479e-01, -2.3137e+00, -2.7570e-03],\n",
      "        [-4.0378e+00, -7.1581e-01, -9.3257e-02, -1.9556e+00, -2.7406e-03],\n",
      "        [-4.0422e+00, -2.8076e+00, -6.5841e-01, -2.2446e+00, -2.7540e-03],\n",
      "        [ 3.4241e+00,  3.3436e+00,  9.6335e-01,  2.0550e+00,  2.0154e-03],\n",
      "        [-6.6190e-01, -7.9564e-01, -1.4859e-01, -4.0430e-01, -5.9861e-04]])\n"
     ]
    }
   ],
   "source": [
    "for n, p in pn.named_parameters():\n",
    "    print(n)\n",
    "    print(p)\n",
    "    print(p.grad)"
   ]
  },
  {
   "cell_type": "code",
   "execution_count": 41,
   "id": "8e74f418",
   "metadata": {},
   "outputs": [
    {
     "data": {
      "text/plain": [
       "tensor([[-58.4199],\n",
       "        [  4.6967],\n",
       "        [  4.6731],\n",
       "        [  3.8565],\n",
       "        [  4.0265],\n",
       "        [  3.6081],\n",
       "        [  3.7482],\n",
       "        [  4.7003],\n",
       "        [  0.5652]])"
      ]
     },
     "execution_count": 41,
     "metadata": {},
     "output_type": "execute_result"
    }
   ],
   "source": [
    "theta.grad"
   ]
  },
  {
   "cell_type": "code",
   "execution_count": 42,
   "id": "3f15dc88",
   "metadata": {},
   "outputs": [],
   "source": [
    "spnn = pnn.PNNSupernet([7], [5], [3,4])"
   ]
  },
  {
   "cell_type": "code",
   "execution_count": 43,
   "id": "e17803f6",
   "metadata": {},
   "outputs": [
    {
     "name": "stdout",
     "output_type": "stream",
     "text": [
      "theta_common_ 0\n",
      "models.0.model.Input_Layer.theta_\n",
      "models.0.model.Hiddel_Layer 0.theta_individual_\n",
      "models.0.model.Output_Layer.theta_\n"
     ]
    }
   ],
   "source": [
    "for n, p in spnn.named_parameters():\n",
    "    print(n)"
   ]
  },
  {
   "cell_type": "code",
   "execution_count": 44,
   "id": "d20b86df",
   "metadata": {},
   "outputs": [],
   "source": [
    "yspnn = spnn([torch.randn(100,7)])\n",
    "# yspnn = spnn([X_train1])"
   ]
  },
  {
   "cell_type": "code",
   "execution_count": 45,
   "id": "a201504d",
   "metadata": {},
   "outputs": [],
   "source": [
    "yspnn[0].sum().backward()"
   ]
  },
  {
   "cell_type": "code",
   "execution_count": 46,
   "id": "01b4ce97",
   "metadata": {},
   "outputs": [
    {
     "name": "stdout",
     "output_type": "stream",
     "text": [
      "theta_common_ 0\n",
      "Parameter containing:\n",
      "tensor([[ 0.4297,  0.1771,  0.1534,  0.6965],\n",
      "        [ 0.1152,  0.1211,  0.7851,  0.5935],\n",
      "        [ 0.9554,  0.3664,  0.2585,  0.4537],\n",
      "        [ 4.6303,  4.4685,  4.6125,  4.7970],\n",
      "        [20.7212, 20.2247, 20.2459, 20.7416]], requires_grad=True)\n",
      "tensor([[  -4.1238,  -48.2933, -164.4655, -157.6863],\n",
      "        [   3.8337,  -48.8875,   70.7316,  128.3114],\n",
      "        [  -3.0760,   40.4500,  -81.4079, -156.2146],\n",
      "        [   4.0661,   39.7154,  144.2187,  121.4795],\n",
      "        [  -0.4926,   -9.8910,  -28.3647,  -32.3723]])\n",
      "models.0.model.Input_Layer.theta_\n",
      "Parameter containing:\n",
      "tensor([[2.0907e-02, 6.1848e-01, 1.1291e-01],\n",
      "        [7.4853e-01, 7.2480e-02, 8.0740e-01],\n",
      "        [2.6684e-02, 7.9717e-02, 5.0737e-01],\n",
      "        [8.9399e-01, 7.1802e-02, 2.7697e-01],\n",
      "        [9.3914e-01, 4.1615e-01, 7.0714e-01],\n",
      "        [1.9001e-02, 3.4276e-01, 2.4608e-01],\n",
      "        [9.2153e-01, 7.0752e-01, 1.3516e-01],\n",
      "        [4.9779e+00, 4.7760e+00, 5.1280e+00],\n",
      "        [2.0214e+01, 2.0334e+01, 2.0894e+01]], requires_grad=True)\n",
      "tensor([[  -0.1906,   76.2201,   -8.6958],\n",
      "        [ -63.3633,  -50.9045,  -33.9501],\n",
      "        [ -25.3850,   -8.7062,  -20.5788],\n",
      "        [   5.8037, -132.4556,  -67.9105],\n",
      "        [  10.5135,  -14.0284,   10.8846],\n",
      "        [ -20.8181,  -56.2238,  -22.5584],\n",
      "        [ -23.4433, -116.0100,  -61.7988],\n",
      "        [  63.8594,  100.2458,   82.5050],\n",
      "        [  -8.8115,  -26.3035,  -18.6545]])\n",
      "models.0.model.Hiddel_Layer 0.theta_individual_\n",
      "Parameter containing:\n",
      "tensor([[0.7204, 0.9096, 0.4861, 0.1641],\n",
      "        [0.8308, 0.3285, 0.7589, 0.3768],\n",
      "        [0.7125, 0.9497, 0.9649, 0.0450],\n",
      "        [0.1693, 0.2933, 0.1811, 0.9798],\n",
      "        [0.4558, 0.1683, 0.2775, 0.2238]], requires_grad=True)\n",
      "tensor([[  -4.1238,  -48.2933, -164.4655, -157.6863],\n",
      "        [   3.8337,  -48.8875,   70.7316,  128.3114],\n",
      "        [  -3.0760,   40.4500,  -81.4079, -156.2146],\n",
      "        [   4.0661,   39.7154,  144.2187,  121.4795],\n",
      "        [  -0.4926,   -9.8910,  -28.3647,  -32.3723]])\n",
      "models.0.model.Output_Layer.theta_\n",
      "Parameter containing:\n",
      "tensor([[7.0399e-01, 6.3874e-02, 3.3798e-02, 7.1194e-03, 7.1526e-01],\n",
      "        [7.4723e-01, 1.8946e-01, 6.2399e-01, 8.6909e-01, 5.7265e-01],\n",
      "        [3.9421e-01, 5.3694e-01, 4.4639e-01, 7.5175e-01, 1.6049e-01],\n",
      "        [7.5355e-01, 7.8181e-01, 1.9706e-01, 9.0828e-01, 9.9109e-01],\n",
      "        [4.8907e+00, 4.7042e+00, 4.6093e+00, 4.7275e+00, 4.8277e+00],\n",
      "        [2.0617e+01, 2.0815e+01, 2.0066e+01, 2.0085e+01, 2.0725e+01]],\n",
      "       requires_grad=True)\n",
      "tensor([[ -1.6620, -14.4826, -27.5054,   0.0000, -19.6023],\n",
      "        [ -1.2398, -12.0234, -22.0403, -13.0174, -19.9516],\n",
      "        [  0.2912, -11.0969, -13.7684, -11.6944,  -8.1505],\n",
      "        [  0.8387,  -0.4302,   8.4282,   1.6557,  13.6581],\n",
      "        [  1.6596,  12.0561,  23.7354,  23.9598,  16.6209],\n",
      "        [ -0.3099,  -2.5584,  -4.5677,  -5.3590,  -3.4032]])\n"
     ]
    }
   ],
   "source": [
    "for n, p in spnn.named_parameters():\n",
    "    print(n)\n",
    "    print(p)\n",
    "    print(p.grad)"
   ]
  },
  {
   "cell_type": "code",
   "execution_count": null,
   "id": "28bad54a",
   "metadata": {},
   "outputs": [],
   "source": []
  }
 ],
 "metadata": {
  "kernelspec": {
   "display_name": "ML",
   "language": "python",
   "name": "ml"
  },
  "language_info": {
   "codemirror_mode": {
    "name": "ipython",
    "version": 3
   },
   "file_extension": ".py",
   "mimetype": "text/x-python",
   "name": "python",
   "nbconvert_exporter": "python",
   "pygments_lexer": "ipython3",
   "version": "3.8.13"
  },
  "toc": {
   "base_numbering": 1,
   "nav_menu": {},
   "number_sections": true,
   "sideBar": true,
   "skip_h1_title": false,
   "title_cell": "Table of Contents",
   "title_sidebar": "Contents",
   "toc_cell": false,
   "toc_position": {
    "height": "calc(100% - 180px)",
    "left": "10px",
    "top": "150px",
    "width": "336px"
   },
   "toc_section_display": true,
   "toc_window_display": true
  }
 },
 "nbformat": 4,
 "nbformat_minor": 5
}
