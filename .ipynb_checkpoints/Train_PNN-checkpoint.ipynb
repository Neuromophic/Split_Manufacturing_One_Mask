{
 "cells": [
  {
   "cell_type": "markdown",
   "id": "eab183f8",
   "metadata": {},
   "source": [
    "# Import library"
   ]
  },
  {
   "cell_type": "code",
   "execution_count": 1,
   "id": "0bc40b33",
   "metadata": {},
   "outputs": [],
   "source": [
    "import importlib\n",
    "import torch\n",
    "import pickle\n",
    "import os\n",
    "import sys\n",
    "import matplotlib.pyplot as plt\n",
    "import numpy as np\n",
    "import pNN_Split as pnn\n",
    "import random\n",
    "import config\n",
    "import evaluation as E\n",
    "import training\n",
    "from torch.utils.data import TensorDataset\n",
    "from torch.utils.data import DataLoader"
   ]
  },
  {
   "cell_type": "markdown",
   "id": "af93c27e-7559-466e-9a0f-084e03f0c576",
   "metadata": {},
   "source": [
    "# Random Seed"
   ]
  },
  {
   "cell_type": "code",
   "execution_count": 2,
   "id": "85fceaab",
   "metadata": {},
   "outputs": [],
   "source": [
    "seed = 0"
   ]
  },
  {
   "cell_type": "markdown",
   "id": "1026bd3c",
   "metadata": {},
   "source": [
    "# Device"
   ]
  },
  {
   "cell_type": "code",
   "execution_count": 3,
   "id": "b0e91163",
   "metadata": {},
   "outputs": [
    {
     "data": {
      "text/plain": [
       "'cpu'"
      ]
     },
     "execution_count": 3,
     "metadata": {},
     "output_type": "execute_result"
    }
   ],
   "source": [
    "# device = torch.device('cuda' if torch.cuda.is_available() else 'cpu')\n",
    "# device = torch.device('cuda:0')\n",
    "device = 'cpu'\n",
    "device"
   ]
  },
  {
   "cell_type": "markdown",
   "id": "15519567",
   "metadata": {},
   "source": [
    "# Prepare data"
   ]
  },
  {
   "cell_type": "markdown",
   "id": "f224be26-e399-42a8-9c96-e285490e8916",
   "metadata": {},
   "source": [
    "## Datasets"
   ]
  },
  {
   "cell_type": "code",
   "execution_count": 4,
   "id": "566dafd0",
   "metadata": {},
   "outputs": [],
   "source": [
    "ds1 = 'Seeds'"
   ]
  },
  {
   "cell_type": "code",
   "execution_count": 5,
   "id": "f1ac8b03",
   "metadata": {},
   "outputs": [],
   "source": [
    "ds2 = 'Iris'"
   ]
  },
  {
   "cell_type": "markdown",
   "id": "3f9b925b",
   "metadata": {},
   "source": [
    "## Load data"
   ]
  },
  {
   "cell_type": "code",
   "execution_count": 6,
   "id": "fd3f8c31",
   "metadata": {},
   "outputs": [
    {
     "data": {
      "text/plain": [
       "(torch.Size([210, 7]), torch.Size([210]), 210, 7, 3)"
      ]
     },
     "execution_count": 6,
     "metadata": {},
     "output_type": "execute_result"
    }
   ],
   "source": [
    "datapath = os.path.join(os.getcwd(), 'Datasets',\n",
    "                        'dataset_processed', f'Dataset_{ds1}.p')\n",
    "with open(datapath, 'rb') as f:\n",
    "    dataset = pickle.load(f)\n",
    "X1 = dataset['X'].float()\n",
    "y1 = dataset['y']\n",
    "\n",
    "E1, N_features1, N_class1 = X1.shape[0], X1.shape[1], torch.max(torch.unique(y1)).item()+1\n",
    "X1.shape, y1.shape, E1, N_features1, N_class1"
   ]
  },
  {
   "cell_type": "code",
   "execution_count": 7,
   "id": "324f4a9c",
   "metadata": {},
   "outputs": [
    {
     "data": {
      "text/plain": [
       "(torch.Size([150, 4]), torch.Size([150]), 150, 4, 3)"
      ]
     },
     "execution_count": 7,
     "metadata": {},
     "output_type": "execute_result"
    }
   ],
   "source": [
    "datapath = os.path.join(os.getcwd(), 'Datasets',\n",
    "                        'dataset_processed', f'Dataset_{ds2}.p')\n",
    "with open(datapath, 'rb') as f:\n",
    "    dataset = pickle.load(f)\n",
    "X2 = dataset['X'].float()\n",
    "y2 = dataset['y']\n",
    "\n",
    "E2, N_features2, N_class2 = X2.shape[0], X2.shape[1], torch.max(torch.unique(y2)).item()+1\n",
    "X2.shape, y2.shape, E2, N_features2, N_class2"
   ]
  },
  {
   "cell_type": "markdown",
   "id": "35adbc19",
   "metadata": {},
   "source": [
    "## Pseudo-electrical Signal"
   ]
  },
  {
   "cell_type": "code",
   "execution_count": 8,
   "id": "ea0969cc",
   "metadata": {},
   "outputs": [
    {
     "data": {
      "text/plain": [
       "(tensor(0.), tensor(1.))"
      ]
     },
     "execution_count": 8,
     "metadata": {},
     "output_type": "execute_result"
    }
   ],
   "source": [
    "X1 = X1 - torch.min(X1, axis=0)[0]\n",
    "X1 = X1 / (torch.max(X1, axis=0)[0])\n",
    "torch.min(X1), torch.max(X1)"
   ]
  },
  {
   "cell_type": "code",
   "execution_count": 9,
   "id": "fd138f20",
   "metadata": {},
   "outputs": [
    {
     "data": {
      "text/plain": [
       "(tensor(0.), tensor(1.))"
      ]
     },
     "execution_count": 9,
     "metadata": {},
     "output_type": "execute_result"
    }
   ],
   "source": [
    "X2 = X2 - torch.min(X2, axis=0)[0]\n",
    "X2 = X2 / (torch.max(X2, axis=0)[0])\n",
    "torch.min(X2), torch.max(X2)"
   ]
  },
  {
   "cell_type": "code",
   "execution_count": 10,
   "id": "6d30ecfc",
   "metadata": {},
   "outputs": [
    {
     "data": {
      "text/plain": [
       "(torch.Size([126, 7]),\n",
       " torch.Size([126]),\n",
       " torch.Size([42, 7]),\n",
       " torch.Size([42]),\n",
       " torch.Size([42, 7]),\n",
       " torch.Size([42]))"
      ]
     },
     "execution_count": 10,
     "metadata": {},
     "output_type": "execute_result"
    }
   ],
   "source": [
    "# split\n",
    "train_rate = 0.6\n",
    "valid_rate = 0.2\n",
    "test_rate = 0.2\n",
    "\n",
    "E_train1 = int(E1*train_rate)\n",
    "E_valid1 = int(E1*valid_rate)\n",
    "E_test1 =  E1 - E_train1 - E_valid1\n",
    "\n",
    "random.seed(config.data_split_seed);\n",
    "np.random.seed(config.data_split_seed);\n",
    "torch.manual_seed(config.data_split_seed);\n",
    "\n",
    "idx = torch.randperm(E1)\n",
    "X1 = X1[idx,:]\n",
    "y1 = y1[idx]\n",
    "\n",
    "X_train1, X_rest1 = X1[:E_train1,:],      X1[E_train1:,:]\n",
    "X_valid1, X_test1 = X_rest1[:E_valid1,:], X_rest1[E_valid1:,:]\n",
    "\n",
    "y_train1, y_rest1 = y1[:E_train1],      y1[E_train1:]\n",
    "y_valid1, y_test1 = y_rest1[:E_valid1], y_rest1[E_valid1:]\n",
    "\n",
    "X_train1.shape, y_train1.shape, X_valid1.shape, y_valid1.shape, X_test1.shape, y_test1.shape"
   ]
  },
  {
   "cell_type": "code",
   "execution_count": 11,
   "id": "391e2761",
   "metadata": {},
   "outputs": [
    {
     "data": {
      "text/plain": [
       "(torch.Size([90, 4]),\n",
       " torch.Size([90]),\n",
       " torch.Size([30, 4]),\n",
       " torch.Size([30]),\n",
       " torch.Size([30, 4]),\n",
       " torch.Size([30]))"
      ]
     },
     "execution_count": 11,
     "metadata": {},
     "output_type": "execute_result"
    }
   ],
   "source": [
    "E_train2 = int(E2 * train_rate)\n",
    "E_valid2 = int(E2 * valid_rate)\n",
    "E_test2 =  E2 - E_train2 - E_valid2\n",
    "\n",
    "random.seed(config.data_split_seed);\n",
    "np.random.seed(config.data_split_seed);\n",
    "torch.manual_seed(config.data_split_seed);\n",
    "\n",
    "idx = torch.randperm(E2)\n",
    "X2 = X2[idx,:]\n",
    "y2 = y2[idx]\n",
    "\n",
    "X_train2, X_rest2 = X2[:E_train2,:],      X2[E_train2:,:]\n",
    "X_valid2, X_test2 = X_rest2[:E_valid2,:], X_rest2[E_valid2:,:]\n",
    "\n",
    "y_train2, y_rest2 = y2[:E_train2],      y2[E_train2:]\n",
    "y_valid2, y_test2 = y_rest2[:E_valid2], y_rest2[E_valid2:]\n",
    "\n",
    "X_train2.shape, y_train2.shape, X_valid2.shape, y_valid2.shape, X_test2.shape, y_test2.shape"
   ]
  },
  {
   "cell_type": "code",
   "execution_count": 12,
   "id": "7e80f17c",
   "metadata": {},
   "outputs": [],
   "source": [
    "X_trains = [X_train1, X_train2]\n",
    "y_trains = [y_train1, y_train2]"
   ]
  },
  {
   "cell_type": "code",
   "execution_count": 13,
   "id": "302b2a77",
   "metadata": {},
   "outputs": [],
   "source": [
    "X_valids = [X_valid1, X_valid2]\n",
    "y_valids = [y_valid1, y_valid2]"
   ]
  },
  {
   "cell_type": "code",
   "execution_count": 14,
   "id": "302ed46a",
   "metadata": {},
   "outputs": [],
   "source": [
    "X_tests = [X_test1, X_test2]\n",
    "y_tests = [y_test1, y_test2]"
   ]
  },
  {
   "cell_type": "markdown",
   "id": "5c65c580",
   "metadata": {},
   "source": [
    "# PNN"
   ]
  },
  {
   "cell_type": "code",
   "execution_count": 15,
   "id": "97e02e26-c3e0-437b-85ed-85a4e56dfeac",
   "metadata": {},
   "outputs": [],
   "source": [
    "random.seed(seed);\n",
    "np.random.seed(seed);\n",
    "torch.manual_seed(seed);"
   ]
  },
  {
   "cell_type": "markdown",
   "id": "11fcb7de",
   "metadata": {},
   "source": [
    "## Define"
   ]
  },
  {
   "cell_type": "code",
   "execution_count": 16,
   "id": "098714b2",
   "metadata": {},
   "outputs": [
    {
     "data": {
      "text/plain": [
       "[7, 4]"
      ]
     },
     "execution_count": 16,
     "metadata": {},
     "output_type": "execute_result"
    }
   ],
   "source": [
    "num_in = []\n",
    "num_in.append(N_features1)\n",
    "num_in.append(N_features2)\n",
    "num_in"
   ]
  },
  {
   "cell_type": "code",
   "execution_count": 17,
   "id": "1649e362",
   "metadata": {},
   "outputs": [
    {
     "data": {
      "text/plain": [
       "[3, 3]"
      ]
     },
     "execution_count": 17,
     "metadata": {},
     "output_type": "execute_result"
    }
   ],
   "source": [
    "num_out = []\n",
    "num_out.append(N_class1)\n",
    "num_out.append(N_class2)\n",
    "num_out"
   ]
  },
  {
   "cell_type": "code",
   "execution_count": 18,
   "id": "b71faf4b",
   "metadata": {},
   "outputs": [],
   "source": [
    "topology_hidden = [5,5]"
   ]
  },
  {
   "cell_type": "code",
   "execution_count": 19,
   "id": "3556de57",
   "metadata": {},
   "outputs": [],
   "source": [
    "SuperPNN = pnn.SuperPNN(num_in, num_out, topology_hidden)"
   ]
  },
  {
   "cell_type": "code",
   "execution_count": 20,
   "id": "d37a88b0",
   "metadata": {},
   "outputs": [
    {
     "name": "stdout",
     "output_type": "stream",
     "text": [
      "theta_common_ 0\n",
      "models.0.model.Input_Layer.theta_\n",
      "models.0.model.Hiddel_Layer 0.theta_individual_\n",
      "models.0.model.Output_Layer.theta_\n",
      "models.1.model.Input_Layer.theta_\n",
      "models.1.model.Hiddel_Layer 0.theta_individual_\n",
      "models.1.model.Output_Layer.theta_\n"
     ]
    }
   ],
   "source": [
    "for n,p in SuperPNN.named_parameters():\n",
    "    print(n)"
   ]
  },
  {
   "cell_type": "code",
   "execution_count": 21,
   "id": "42dab761",
   "metadata": {},
   "outputs": [],
   "source": [
    "optimizer = torch.optim.Adam(SuperPNN.parameters(), lr=config.lr)"
   ]
  },
  {
   "cell_type": "code",
   "execution_count": 22,
   "id": "deaf2d0f",
   "metadata": {},
   "outputs": [],
   "source": [
    "losses_train = []\n",
    "losses_valid = []\n",
    "accs_train = []\n",
    "accs_valid = []\n",
    "for epoch in range(10000):\n",
    "    optimizer.zero_grad()\n",
    "    \n",
    "    predictions_train = SuperPNN(X_trains)\n",
    "    L_train = pnn.LOSSFUNCTION(predictions_train, y_trains) + config.alpha*SuperPNN.GetNorm()\n",
    "    \n",
    "    L_train.backward()\n",
    "    optimizer.step()\n",
    "    \n",
    "    acc_train = E.ACC(predictions_train, y_trains)\n",
    "    \n",
    "    with torch.no_grad():\n",
    "        predictions_valid = SuperPNN(X_valids)\n",
    "        L_valid = pnn.LOSSFUNCTION(predictions_valid, y_valids) + config.alpha*SuperPNN.GetNorm()\n",
    "        acc_valid = E.ACC(predictions_valid, y_valids)\n",
    "    \n",
    "    accs_train.append(acc_train)\n",
    "    accs_valid.append(acc_valid)\n",
    "    losses_train.append(L_train.data)\n",
    "    losses_valid.append(L_valid.data)\n",
    "    \n",
    "    if not epoch%1000:\n",
    "        print(L_train.data, L_valid.data, acc_train, acc_valid)"
   ]
  },
  {
   "cell_type": "code",
   "execution_count": 23,
   "id": "cbb90b64",
   "metadata": {},
   "outputs": [
    {
     "data": {
      "text/plain": [
       "Sequential(\n",
       "  (0): pLayer()\n",
       "  (1): pLayer()\n",
       "  (2): pLayer()\n",
       ")"
      ]
     },
     "execution_count": 23,
     "metadata": {},
     "output_type": "execute_result"
    }
   ],
   "source": [
    "normalPNN1 = torch.nn.Sequential(pnn.pLayer(7,5),pnn.pLayer(5,5),pnn.pLayer(5,3))\n",
    "optimizer = torch.optim.Adam(normalPNN1.parameters(), lr=config.lr)\n",
    "normalPNN1"
   ]
  },
  {
   "cell_type": "code",
   "execution_count": 24,
   "id": "31d72834",
   "metadata": {},
   "outputs": [
    {
     "name": "stdout",
     "output_type": "stream",
     "text": [
      "The ID for this training is 1656882078.\n",
      "| Epoch:     0 | Train acc: 0.333 | Train loss: 8.838e+01 | Valid acc: 0.310 | Valid loss: 2.960e+01 | run time: 0.014 |\n",
      "| Epoch:   100 | Train acc: 0.929 | Train loss: 1.900e+01 | Valid acc: 0.952 | Valid loss: 6.120e+00 | run time: 0.008 |\n",
      "| Epoch:   200 | Train acc: 0.944 | Train loss: 7.575e+00 | Valid acc: 0.929 | Valid loss: 5.038e+00 | run time: 0.007 |\n",
      "| Epoch:   300 | Train acc: 0.968 | Train loss: 6.698e+00 | Valid acc: 0.929 | Valid loss: 5.174e+00 | run time: 0.007 |\n",
      "| Epoch:   400 | Train acc: 0.968 | Train loss: 6.267e+00 | Valid acc: 0.929 | Valid loss: 5.222e+00 | run time: 0.007 |\n",
      "| Epoch:   500 | Train acc: 0.968 | Train loss: 5.764e+00 | Valid acc: 0.952 | Valid loss: 5.096e+00 | run time: 0.007 |\n",
      "| Epoch:   600 | Train acc: 0.976 | Train loss: 5.333e+00 | Valid acc: 0.952 | Valid loss: 4.848e+00 | run time: 0.006 |\n",
      "Early stop.\n",
      "Finished.\n"
     ]
    }
   ],
   "source": [
    "normalPNN1, train_losses, valid_losses, train_accs, valid_accs = training.train_nn(normalPNN1,\n",
    "                                                                                   DataLoader(TensorDataset(X_train1,y_train1), batch_size=E_train1),\n",
    "                                                                                   DataLoader(TensorDataset(X_valid1,y_valid1), batch_size=E_valid1),\n",
    "                                                                                   optimizer,\n",
    "                                                                                   pnn.LossFunction, device)"
   ]
  },
  {
   "cell_type": "code",
   "execution_count": 25,
   "id": "242a2abe",
   "metadata": {},
   "outputs": [
    {
     "ename": "ValueError",
     "evalue": "too many values to unpack (expected 2)",
     "output_type": "error",
     "traceback": [
      "\u001b[0;31m---------------------------------------------------------------------------\u001b[0m",
      "\u001b[0;31mValueError\u001b[0m                                Traceback (most recent call last)",
      "Input \u001b[0;32mIn [25]\u001b[0m, in \u001b[0;36m<cell line: 1>\u001b[0;34m()\u001b[0m\n\u001b[0;32m----> 1\u001b[0m \u001b[38;5;28;01mfor\u001b[39;00m x, y \u001b[38;5;129;01min\u001b[39;00m (X_train1,y_train1):\n\u001b[1;32m      2\u001b[0m     \u001b[38;5;28mprint\u001b[39m(x)\n",
      "\u001b[0;31mValueError\u001b[0m: too many values to unpack (expected 2)"
     ]
    }
   ],
   "source": [
    "for x, y in (X_train1,y_train1):\n",
    "    print(x)"
   ]
  },
  {
   "cell_type": "code",
   "execution_count": null,
   "id": "519d240f",
   "metadata": {},
   "outputs": [],
   "source": [
    "normalPNN2 = torch.nn.Sequential(pnn.pLayer(4,5),pnn.pLayer(5,5),pnn.pLayer(5,3))\n",
    "optimizer = torch.optim.Adam(normalPNN2.parameters(), lr=config.lr)\n",
    "normalPNN2"
   ]
  },
  {
   "cell_type": "code",
   "execution_count": null,
   "id": "8a2fce4e",
   "metadata": {},
   "outputs": [],
   "source": [
    "normalPNN2, train_losses, valid_losses, train_accs, valid_accs = training.train_nn(normalPNN2,\n",
    "                                                                                   DataLoader(TensorDataset(X_train2,y_train2), batch_size=E_train2),\n",
    "                                                                                   DataLoader(TensorDataset(X_valid2,y_valid2), batch_size=E_valid2),\n",
    "                                                                                   optimizer,\n",
    "                                                                                   pnn.LossFunction, device)"
   ]
  },
  {
   "cell_type": "code",
   "execution_count": null,
   "id": "147849fe",
   "metadata": {},
   "outputs": [],
   "source": []
  }
 ],
 "metadata": {
  "kernelspec": {
   "display_name": "ML",
   "language": "python",
   "name": "ml"
  },
  "language_info": {
   "codemirror_mode": {
    "name": "ipython",
    "version": 3
   },
   "file_extension": ".py",
   "mimetype": "text/x-python",
   "name": "python",
   "nbconvert_exporter": "python",
   "pygments_lexer": "ipython3",
   "version": "3.8.13"
  },
  "toc": {
   "base_numbering": 1,
   "nav_menu": {},
   "number_sections": true,
   "sideBar": true,
   "skip_h1_title": false,
   "title_cell": "Table of Contents",
   "title_sidebar": "Contents",
   "toc_cell": false,
   "toc_position": {
    "height": "calc(100% - 180px)",
    "left": "10px",
    "top": "150px",
    "width": "336px"
   },
   "toc_section_display": true,
   "toc_window_display": true
  }
 },
 "nbformat": 4,
 "nbformat_minor": 5
}
