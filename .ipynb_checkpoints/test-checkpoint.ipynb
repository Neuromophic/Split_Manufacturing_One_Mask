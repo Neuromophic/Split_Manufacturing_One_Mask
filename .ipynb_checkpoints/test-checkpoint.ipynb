{
 "cells": [
  {
   "cell_type": "markdown",
   "id": "eab183f8",
   "metadata": {},
   "source": [
    "# Import library"
   ]
  },
  {
   "cell_type": "code",
   "execution_count": 1,
   "id": "0bc40b33",
   "metadata": {},
   "outputs": [],
   "source": [
    "import importlib\n",
    "import torch\n",
    "import pickle\n",
    "import os\n",
    "import sys\n",
    "import matplotlib.pyplot as plt\n",
    "import numpy as np\n",
    "import pNN_Split as pnn\n",
    "import random\n",
    "import config"
   ]
  },
  {
   "cell_type": "markdown",
   "id": "af93c27e-7559-466e-9a0f-084e03f0c576",
   "metadata": {},
   "source": [
    "# Random Seed"
   ]
  },
  {
   "cell_type": "code",
   "execution_count": 2,
   "id": "2c446a64",
   "metadata": {},
   "outputs": [],
   "source": [
    "seed = 0"
   ]
  },
  {
   "cell_type": "markdown",
   "id": "1026bd3c",
   "metadata": {},
   "source": [
    "# Device"
   ]
  },
  {
   "cell_type": "code",
   "execution_count": 3,
   "id": "b0e91163",
   "metadata": {},
   "outputs": [
    {
     "data": {
      "text/plain": [
       "'cpu'"
      ]
     },
     "execution_count": 3,
     "metadata": {},
     "output_type": "execute_result"
    }
   ],
   "source": [
    "# device = torch.device('cuda' if torch.cuda.is_available() else 'cpu')\n",
    "# device = torch.device('cuda:0')\n",
    "device = 'cpu'\n",
    "device"
   ]
  },
  {
   "cell_type": "markdown",
   "id": "15519567",
   "metadata": {},
   "source": [
    "# Prepare data"
   ]
  },
  {
   "cell_type": "markdown",
   "id": "f224be26-e399-42a8-9c96-e285490e8916",
   "metadata": {},
   "source": [
    "## Datasets"
   ]
  },
  {
   "cell_type": "code",
   "execution_count": 4,
   "id": "92014c65-5b5c-4b61-93ef-30f044282eb3",
   "metadata": {},
   "outputs": [],
   "source": [
    "# if config.current_dataset is not None:\n",
    "#     ds = config.datasets[config.current_dataset]\n",
    "# else:\n",
    "#     ds = config.datasets[0]\n",
    "\n",
    "# ds"
   ]
  },
  {
   "cell_type": "code",
   "execution_count": 5,
   "id": "566dafd0",
   "metadata": {},
   "outputs": [],
   "source": [
    "ds1 = 'Seeds'"
   ]
  },
  {
   "cell_type": "code",
   "execution_count": 6,
   "id": "f1ac8b03",
   "metadata": {},
   "outputs": [],
   "source": [
    "ds2 = 'Iris'"
   ]
  },
  {
   "cell_type": "markdown",
   "id": "3f9b925b",
   "metadata": {},
   "source": [
    "## Load data"
   ]
  },
  {
   "cell_type": "code",
   "execution_count": 7,
   "id": "fd3f8c31",
   "metadata": {},
   "outputs": [
    {
     "data": {
      "text/plain": [
       "(torch.Size([210, 7]), torch.Size([210]), 210, 7, 3)"
      ]
     },
     "execution_count": 7,
     "metadata": {},
     "output_type": "execute_result"
    }
   ],
   "source": [
    "datapath = os.path.join(os.getcwd(), 'Datasets',\n",
    "                        'dataset_processed', f'Dataset_{ds1}.p')\n",
    "with open(datapath, 'rb') as f:\n",
    "    dataset = pickle.load(f)\n",
    "X1 = dataset['X'].float()\n",
    "y1 = dataset['y']\n",
    "\n",
    "E1, N_features1, N_class1 = X1.shape[0], X1.shape[1], torch.max(torch.unique(y1)).item()+1\n",
    "X1.shape, y1.shape, E1, N_features1, N_class1"
   ]
  },
  {
   "cell_type": "code",
   "execution_count": 8,
   "id": "324f4a9c",
   "metadata": {},
   "outputs": [
    {
     "data": {
      "text/plain": [
       "(torch.Size([150, 4]), torch.Size([150]), 150, 4, 3)"
      ]
     },
     "execution_count": 8,
     "metadata": {},
     "output_type": "execute_result"
    }
   ],
   "source": [
    "datapath = os.path.join(os.getcwd(), 'Datasets',\n",
    "                        'dataset_processed', f'Dataset_{ds2}.p')\n",
    "with open(datapath, 'rb') as f:\n",
    "    dataset = pickle.load(f)\n",
    "X2 = dataset['X'].float()\n",
    "y2 = dataset['y']\n",
    "\n",
    "E2, N_features2, N_class2 = X2.shape[0], X2.shape[1], torch.max(torch.unique(y2)).item()+1\n",
    "X2.shape, y2.shape, E2, N_features2, N_class2"
   ]
  },
  {
   "cell_type": "markdown",
   "id": "35adbc19",
   "metadata": {},
   "source": [
    "## Pseudo-electrical Signal"
   ]
  },
  {
   "cell_type": "code",
   "execution_count": 9,
   "id": "ea0969cc",
   "metadata": {},
   "outputs": [
    {
     "data": {
      "text/plain": [
       "(tensor(0.), tensor(1.))"
      ]
     },
     "execution_count": 9,
     "metadata": {},
     "output_type": "execute_result"
    }
   ],
   "source": [
    "X1 = X1 - torch.min(X1, axis=0)[0]\n",
    "X1 = X1 / (torch.max(X1, axis=0)[0])\n",
    "torch.min(X1), torch.max(X1)"
   ]
  },
  {
   "cell_type": "code",
   "execution_count": 10,
   "id": "fd138f20",
   "metadata": {},
   "outputs": [
    {
     "data": {
      "text/plain": [
       "(tensor(0.), tensor(1.))"
      ]
     },
     "execution_count": 10,
     "metadata": {},
     "output_type": "execute_result"
    }
   ],
   "source": [
    "X2 = X2 - torch.min(X2, axis=0)[0]\n",
    "X2 = X2 / (torch.max(X2, axis=0)[0])\n",
    "torch.min(X2), torch.max(X2)"
   ]
  },
  {
   "cell_type": "code",
   "execution_count": 11,
   "id": "6d30ecfc",
   "metadata": {},
   "outputs": [
    {
     "data": {
      "text/plain": [
       "(torch.Size([126, 7]),\n",
       " torch.Size([126]),\n",
       " torch.Size([42, 7]),\n",
       " torch.Size([42]),\n",
       " torch.Size([42, 7]),\n",
       " torch.Size([42]))"
      ]
     },
     "execution_count": 11,
     "metadata": {},
     "output_type": "execute_result"
    }
   ],
   "source": [
    "# split\n",
    "train_rate = 0.6\n",
    "valid_rate = 0.2\n",
    "test_rate = 0.2\n",
    "\n",
    "E_train1 = int(E1*train_rate)\n",
    "E_valid1 = int(E1*valid_rate)\n",
    "E_test1 =  E1 - E_train1 - E_valid1\n",
    "\n",
    "random.seed(config.data_split_seed);\n",
    "np.random.seed(config.data_split_seed);\n",
    "torch.manual_seed(config.data_split_seed);\n",
    "\n",
    "idx = torch.randperm(E1)\n",
    "X1 = X1[idx,:]\n",
    "y1 = y1[idx]\n",
    "\n",
    "X_train1, X_rest1 = X1[:E_train1,:],      X1[E_train1:,:]\n",
    "X_valid1, X_test1 = X_rest1[:E_valid1,:], X_rest1[E_valid1:,:]\n",
    "\n",
    "y_train1, y_rest1 = y1[:E_train1],      y1[E_train1:]\n",
    "y_valid1, y_test1 = y_rest1[:E_valid1], y_rest1[E_valid1:]\n",
    "\n",
    "X_train1.shape, y_train1.shape, X_valid1.shape, y_valid1.shape, X_test1.shape, y_test1.shape"
   ]
  },
  {
   "cell_type": "code",
   "execution_count": 12,
   "id": "391e2761",
   "metadata": {},
   "outputs": [
    {
     "data": {
      "text/plain": [
       "(torch.Size([90, 4]),\n",
       " torch.Size([90]),\n",
       " torch.Size([30, 4]),\n",
       " torch.Size([30]),\n",
       " torch.Size([30, 4]),\n",
       " torch.Size([90]))"
      ]
     },
     "execution_count": 12,
     "metadata": {},
     "output_type": "execute_result"
    }
   ],
   "source": [
    "E_train2 = int(E2 * train_rate)\n",
    "E_valid2 = int(E2 * valid_rate)\n",
    "E_test2 =  E2 - E_train2 - E_valid2\n",
    "\n",
    "random.seed(config.data_split_seed);\n",
    "np.random.seed(config.data_split_seed);\n",
    "torch.manual_seed(config.data_split_seed);\n",
    "\n",
    "idx = torch.randperm(E2)\n",
    "X2 = X2[idx,:]\n",
    "y2 = y2[idx]\n",
    "\n",
    "X_train2, X_rest2 = X2[:E_train2,:],      X2[E_train2:,:]\n",
    "X_valid2, X_test2 = X_rest2[:E_valid2,:], X_rest2[E_valid2:,:]\n",
    "\n",
    "y_train2, y_rest2 = y2[:E_train2],      y1[E_train2:]\n",
    "y_valid2, y_test2 = y_rest2[:E_valid2], y_rest2[E_valid2:]\n",
    "\n",
    "X_train2.shape, y_train2.shape, X_valid2.shape, y_valid2.shape, X_test2.shape, y_test2.shape"
   ]
  },
  {
   "cell_type": "code",
   "execution_count": 13,
   "id": "7e80f17c",
   "metadata": {},
   "outputs": [],
   "source": [
    "X_trains = [X_train1, X_train2]\n",
    "y_trains = [y_train1, y_train2]"
   ]
  },
  {
   "cell_type": "code",
   "execution_count": 14,
   "id": "302b2a77",
   "metadata": {},
   "outputs": [],
   "source": [
    "X_valids = [X_valid1, X_valid2]\n",
    "y_valids = [y_valid1, y_valid2]"
   ]
  },
  {
   "cell_type": "code",
   "execution_count": 15,
   "id": "302ed46a",
   "metadata": {},
   "outputs": [],
   "source": [
    "X_tests = [X_test1, X_test2]\n",
    "y_tests = [y_test1, y_test2]"
   ]
  },
  {
   "cell_type": "markdown",
   "id": "55deb296",
   "metadata": {},
   "source": [
    "# Data"
   ]
  },
  {
   "cell_type": "code",
   "execution_count": 16,
   "id": "0f9751e2",
   "metadata": {},
   "outputs": [],
   "source": [
    "data = X_train1"
   ]
  },
  {
   "cell_type": "markdown",
   "id": "19d0171f",
   "metadata": {},
   "source": [
    "# test"
   ]
  },
  {
   "cell_type": "markdown",
   "id": "40d07ca2",
   "metadata": {},
   "source": [
    "## Layer level test"
   ]
  },
  {
   "cell_type": "markdown",
   "id": "cfd53348",
   "metadata": {},
   "source": [
    "### normal PNN Layer"
   ]
  },
  {
   "cell_type": "code",
   "execution_count": 17,
   "id": "1bdff6c6",
   "metadata": {},
   "outputs": [],
   "source": [
    "pl = pnn.PNNLayer(7,3)"
   ]
  },
  {
   "cell_type": "code",
   "execution_count": 18,
   "id": "37842b43",
   "metadata": {},
   "outputs": [],
   "source": [
    "yl = pl(data)"
   ]
  },
  {
   "cell_type": "code",
   "execution_count": 19,
   "id": "827672ac",
   "metadata": {},
   "outputs": [],
   "source": [
    "yl.abs().sum().backward()"
   ]
  },
  {
   "cell_type": "code",
   "execution_count": 20,
   "id": "bc1e4270",
   "metadata": {},
   "outputs": [
    {
     "name": "stdout",
     "output_type": "stream",
     "text": [
      "theta_\n",
      "Parameter containing:\n",
      "tensor([[0.0112, 0.0103, 0.0108],\n",
      "        [0.0140, 0.0177, 0.0177],\n",
      "        [0.0102, 0.0181, 0.0111],\n",
      "        [0.0139, 0.0130, 0.0140],\n",
      "        [0.0140, 0.0105, 0.0107],\n",
      "        [0.0142, 0.0151, 0.0127],\n",
      "        [0.0169, 0.0105, 0.0147],\n",
      "        [0.2376, 0.2364, 0.2373],\n",
      "        [0.9968, 0.9905, 0.9982]], requires_grad=True)\n",
      "tensor([[ 159.5050,  153.0072,  165.9336],\n",
      "        [ 225.0565,  217.9053,  232.5410],\n",
      "        [ 493.9772,  472.2470,  504.0738],\n",
      "        [ 190.4726,  185.8163,  197.0695],\n",
      "        [ 236.0841,  225.1630,  243.6703],\n",
      "        [ 262.6347,  255.7226,  269.0077],\n",
      "        [ 246.3665,  242.2505,  254.1782],\n",
      "        [1190.5552, 1158.4673, 1211.0095],\n",
      "        [-307.6586, -301.9019, -311.9506]])\n"
     ]
    }
   ],
   "source": [
    "for n, p in pl.named_parameters():\n",
    "    print(n)\n",
    "    print(p)\n",
    "    print(p.grad)"
   ]
  },
  {
   "cell_type": "markdown",
   "id": "9c7a798c",
   "metadata": {},
   "source": [
    "### Hidden PNNLayer with given Parameter"
   ]
  },
  {
   "cell_type": "code",
   "execution_count": 21,
   "id": "94b6b54a",
   "metadata": {},
   "outputs": [],
   "source": [
    "ph = pnn.PNNHiddenLayer(7,4,torch.nn.Parameter(torch.randn(9,4), requires_grad=True))"
   ]
  },
  {
   "cell_type": "code",
   "execution_count": 22,
   "id": "975de3b9",
   "metadata": {},
   "outputs": [],
   "source": [
    "yh = ph(data)"
   ]
  },
  {
   "cell_type": "code",
   "execution_count": 23,
   "id": "40728024",
   "metadata": {},
   "outputs": [],
   "source": [
    "yh.sum().backward()"
   ]
  },
  {
   "cell_type": "code",
   "execution_count": 24,
   "id": "b78233d3",
   "metadata": {},
   "outputs": [
    {
     "name": "stdout",
     "output_type": "stream",
     "text": [
      "theta_common_\n",
      "tensor([[ 0.0000e+00,  5.6803e-03,  6.7233e-02,  2.3020e-04],\n",
      "        [ 3.2197e+00,  3.8832e-03,  7.0718e-02,  2.9883e-04],\n",
      "        [ 3.7007e+00,  9.6394e-03,  6.4073e-02,  2.8328e-04],\n",
      "        [ 2.9944e+00,  6.6839e-03,  6.7076e-02,  2.2651e-04],\n",
      "        [ 3.7276e+00,  4.6980e-03,  7.1947e-02,  2.9616e-04],\n",
      "        [ 2.4392e+00,  1.0758e-02,  5.6881e-02,  1.1402e-04],\n",
      "        [ 2.9199e+00,  4.9559e-03,  6.5002e-02,  2.2570e-04],\n",
      "        [ 3.6151e+00,  1.4902e-02,  6.7474e-02,  2.3714e-04],\n",
      "        [-4.8230e-01, -3.0986e-04, -1.7291e-03,  3.5015e-05]])\n",
      "theta_individual_\n",
      "tensor([[ 0.0000e+00,  5.6803e-03,  6.7233e-02,  2.3020e-04],\n",
      "        [ 3.2197e+00,  3.8832e-03,  7.0718e-02,  2.9883e-04],\n",
      "        [ 3.7007e+00,  9.6394e-03,  6.4073e-02,  2.8328e-04],\n",
      "        [ 2.9944e+00,  6.6839e-03,  6.7076e-02,  2.2651e-04],\n",
      "        [ 3.7276e+00,  4.6980e-03,  7.1947e-02,  2.9616e-04],\n",
      "        [ 2.4392e+00,  1.0758e-02,  5.6881e-02,  1.1402e-04],\n",
      "        [ 2.9199e+00,  4.9559e-03,  6.5002e-02,  2.2570e-04],\n",
      "        [ 3.6151e+00,  1.4902e-02,  6.7474e-02,  2.3714e-04],\n",
      "        [-4.8230e-01, -3.0986e-04, -1.7291e-03,  3.5015e-05]])\n"
     ]
    }
   ],
   "source": [
    "for n, p in ph.named_parameters():\n",
    "    print(n)\n",
    "    print(p.grad)"
   ]
  },
  {
   "cell_type": "markdown",
   "id": "2bb9080f",
   "metadata": {},
   "source": [
    "## Net level test"
   ]
  },
  {
   "cell_type": "code",
   "execution_count": 25,
   "id": "df9e4b23",
   "metadata": {},
   "outputs": [],
   "source": [
    "thetan = torch.nn.Parameter(torch.randn(5,4), requires_grad=True)"
   ]
  },
  {
   "cell_type": "code",
   "execution_count": 26,
   "id": "9aa50389",
   "metadata": {},
   "outputs": [],
   "source": [
    "pn = pnn.PNNNet(7,3,[3,4],[thetan])"
   ]
  },
  {
   "cell_type": "code",
   "execution_count": 27,
   "id": "39216963",
   "metadata": {},
   "outputs": [
    {
     "name": "stdout",
     "output_type": "stream",
     "text": [
      "model.Input_Layer.theta_\n",
      "model.Hiddel_Layer 0.theta_common_\n",
      "model.Hiddel_Layer 0.theta_individual_\n",
      "model.Output_Layer.theta_\n"
     ]
    }
   ],
   "source": [
    "for n, p in pn.named_parameters():\n",
    "    print(n)"
   ]
  },
  {
   "cell_type": "code",
   "execution_count": 28,
   "id": "c12605c5",
   "metadata": {},
   "outputs": [],
   "source": [
    "yn = pn(data)"
   ]
  },
  {
   "cell_type": "code",
   "execution_count": 29,
   "id": "4cc7889a",
   "metadata": {},
   "outputs": [],
   "source": [
    "yn.sum().backward()"
   ]
  },
  {
   "cell_type": "code",
   "execution_count": 30,
   "id": "d49aea31",
   "metadata": {},
   "outputs": [
    {
     "name": "stdout",
     "output_type": "stream",
     "text": [
      "model.Input_Layer.theta_\n",
      "tensor([[  28.1944,   27.6409,   43.9632],\n",
      "        [   9.5377,   29.2576,  233.1180],\n",
      "        [ -69.7071,   27.0160, 1168.0618],\n",
      "        [   5.6445,   25.0283,  196.9258],\n",
      "        [  14.7615,   29.3516,  268.1097],\n",
      "        [ -85.8979,    4.1557,  797.5235],\n",
      "        [ -25.1382,   25.4304,  372.6000],\n",
      "        [-299.9662,   39.7595, 3264.1638],\n",
      "        [  75.7877,  -12.5575, -830.4589]])\n",
      "model.Hiddel_Layer 0.theta_common_\n",
      "tensor([[ 1.2477e-01,  2.9591e+02,  2.2203e-02,  1.2392e+01],\n",
      "        [ 1.2477e-01,  2.9483e+02,  1.4135e-02,  1.2015e+01],\n",
      "        [ 1.5005e-01,  1.1544e+02,  7.2899e-03,  1.2385e+01],\n",
      "        [ 1.2477e-01,  2.4523e+02,  1.5483e-01,  1.2585e+01],\n",
      "        [-3.6316e-04,  5.8249e+01, -7.4824e-02,  1.3365e+00]])\n",
      "model.Hiddel_Layer 0.theta_individual_\n",
      "tensor([[ 1.2477e-01,  2.9591e+02,  2.2203e-02,  1.2392e+01],\n",
      "        [ 1.2477e-01,  2.9483e+02,  1.4135e-02,  1.2015e+01],\n",
      "        [ 1.5005e-01,  1.1544e+02,  7.2899e-03,  1.2385e+01],\n",
      "        [ 1.2477e-01,  2.4523e+02,  1.5483e-01,  1.2585e+01],\n",
      "        [-3.6316e-04,  5.8249e+01, -7.4824e-02,  1.3365e+00]])\n",
      "model.Output_Layer.theta_\n",
      "tensor([[-2128.6360, -2138.3594, -2271.0010],\n",
      "        [  853.6301,   866.0019,   825.4832],\n",
      "        [ 1941.7908,  1954.8098,  2054.4985],\n",
      "        [-2103.5308, -2112.9548, -2245.4316],\n",
      "        [ 1739.0183,  1750.9028,  1839.0762],\n",
      "        [ -376.8500,  -376.7870,  -409.4101]])\n"
     ]
    }
   ],
   "source": [
    "for n, p in pn.named_parameters():\n",
    "    print(n)\n",
    "    print(p.grad)"
   ]
  },
  {
   "cell_type": "markdown",
   "id": "510d00bb",
   "metadata": {},
   "source": [
    "## Supernet level"
   ]
  },
  {
   "cell_type": "code",
   "execution_count": 51,
   "id": "2136ffd1",
   "metadata": {},
   "outputs": [],
   "source": [
    "spnn = pnn.PNNSupernet([7,4], [3,4], [3,4])"
   ]
  },
  {
   "cell_type": "code",
   "execution_count": 52,
   "id": "04faf9ad",
   "metadata": {},
   "outputs": [
    {
     "name": "stdout",
     "output_type": "stream",
     "text": [
      "theta_common_ 0\n",
      "models.0.model.Input_Layer.theta_\n",
      "models.0.model.Hiddel_Layer 0.theta_individual_\n",
      "models.0.model.Output_Layer.theta_\n",
      "models.1.model.Input_Layer.theta_\n",
      "models.1.model.Hiddel_Layer 0.theta_individual_\n",
      "models.1.model.Output_Layer.theta_\n"
     ]
    }
   ],
   "source": [
    "for n, p in spnn.named_parameters():\n",
    "    print(n)"
   ]
  },
  {
   "cell_type": "code",
   "execution_count": 53,
   "id": "f55d2930",
   "metadata": {},
   "outputs": [],
   "source": [
    "yspnn = spnn([X_train1, X_train2])"
   ]
  },
  {
   "cell_type": "code",
   "execution_count": 56,
   "id": "54d1c7e6",
   "metadata": {},
   "outputs": [
    {
     "ename": "AttributeError",
     "evalue": "'list' object has no attribute 'sum'",
     "output_type": "error",
     "traceback": [
      "\u001b[0;31m---------------------------------------------------------------------------\u001b[0m",
      "\u001b[0;31mAttributeError\u001b[0m                            Traceback (most recent call last)",
      "Input \u001b[0;32mIn [56]\u001b[0m, in \u001b[0;36m<cell line: 1>\u001b[0;34m()\u001b[0m\n\u001b[0;32m----> 1\u001b[0m \u001b[43myspnn\u001b[49m\u001b[38;5;241;43m.\u001b[39;49m\u001b[43msum\u001b[49m()\u001b[38;5;241m.\u001b[39mbackward()\n",
      "\u001b[0;31mAttributeError\u001b[0m: 'list' object has no attribute 'sum'"
     ]
    }
   ],
   "source": [
    "yspnn[0].sum().backward()"
   ]
  },
  {
   "cell_type": "code",
   "execution_count": 57,
   "id": "9ee4930e",
   "metadata": {},
   "outputs": [
    {
     "name": "stdout",
     "output_type": "stream",
     "text": [
      "theta_common_ 0\n",
      "tensor([[ 71.2603,  16.8655,   3.9111,   5.9352],\n",
      "        [ 60.5816,  12.8094,   2.9114,   4.6588],\n",
      "        [ 69.9918,  15.6069,   3.6354,   5.6652],\n",
      "        [174.5208,  57.2987,  13.8949,  18.6595],\n",
      "        [-49.3040, -17.6644,  -5.1049,  -6.7841]])\n",
      "models.0.model.Input_Layer.theta_\n",
      "tensor([[-17.9801, -23.3953, -17.4253],\n",
      "        [ -4.7045,  -2.4514,  -5.4654],\n",
      "        [ 52.1226,  84.9968,  44.8926],\n",
      "        [ -2.3115,   0.8749,  -2.9386],\n",
      "        [ -8.5295,  -8.3036,  -9.2874],\n",
      "        [ 61.1877,  97.4157,  56.0660],\n",
      "        [ 19.9656,  34.7745,  17.6177],\n",
      "        [218.6818, 343.4754, 195.5475],\n",
      "        [-54.3385, -84.2647, -48.3136]])\n",
      "models.0.model.Hiddel_Layer 0.theta_individual_\n",
      "tensor([[ 71.2603,  16.8655,   3.9111,   5.9352],\n",
      "        [ 60.5816,  12.8094,   2.9114,   4.6588],\n",
      "        [ 69.9918,  15.6069,   3.6354,   5.6652],\n",
      "        [174.5208,  57.2987,  13.8949,  18.6595],\n",
      "        [-49.3040, -17.6644,  -5.1049,  -6.7841]])\n",
      "models.0.model.Output_Layer.theta_\n",
      "tensor([[ 523.3389,  477.5451,  642.3593],\n",
      "        [ 634.7610,  582.2623,  775.8602],\n",
      "        [ 673.6125,  619.8893,  821.8113],\n",
      "        [ 669.5557,  616.0962,  816.9401],\n",
      "        [ 610.4265,  562.0709,  744.8497],\n",
      "        [-181.4493, -168.7574, -215.4275]])\n",
      "models.1.model.Input_Layer.theta_\n",
      "None\n",
      "models.1.model.Hiddel_Layer 0.theta_individual_\n",
      "None\n",
      "models.1.model.Output_Layer.theta_\n",
      "None\n"
     ]
    }
   ],
   "source": [
    "for n, p in spnn.named_parameters():\n",
    "    print(n)\n",
    "    print(p.grad)"
   ]
  },
  {
   "cell_type": "markdown",
   "id": "39b0f56d",
   "metadata": {},
   "source": [
    "## Test Nets in Supernet"
   ]
  },
  {
   "cell_type": "code",
   "execution_count": 36,
   "id": "775bea2c",
   "metadata": {},
   "outputs": [],
   "source": [
    "net = spnn.models[0]"
   ]
  },
  {
   "cell_type": "code",
   "execution_count": 37,
   "id": "166b666f",
   "metadata": {},
   "outputs": [],
   "source": [
    "ynet = net(X_train1)"
   ]
  },
  {
   "cell_type": "code",
   "execution_count": 38,
   "id": "4e8c6f53",
   "metadata": {},
   "outputs": [],
   "source": [
    "ynet.sum().backward()"
   ]
  },
  {
   "cell_type": "code",
   "execution_count": 39,
   "id": "56b92e22",
   "metadata": {},
   "outputs": [
    {
     "name": "stdout",
     "output_type": "stream",
     "text": [
      "model.Input_Layer.theta_\n",
      "tensor([[-21.4729, -27.1199, -18.1201],\n",
      "        [ -2.2715,  -4.0715,  -5.1015],\n",
      "        [ 88.0452, 105.7846,  58.1539],\n",
      "        [ -0.6694,  -2.0640,  -3.4584],\n",
      "        [ -5.0337,  -7.2250,  -7.1120],\n",
      "        [ 89.6384, 107.8121,  63.5638],\n",
      "        [ 30.6818,  36.0622,  19.4506],\n",
      "        [329.0364, 396.5115, 226.0228],\n",
      "        [-81.8915, -98.7393, -55.3909]])\n",
      "model.Hiddel_Layer 0.theta_common_\n",
      "tensor([[ 89.5120,  23.6189,   6.4469,   7.4029],\n",
      "        [ 90.8761,  24.0155,   6.5642,   7.5404],\n",
      "        [ 80.2025,  21.4201,   5.0927,   5.9510],\n",
      "        [240.8290,  62.1159,  25.4310,  28.0583],\n",
      "        [-70.3413, -21.9499,  -9.2532, -10.2515]])\n",
      "model.Hiddel_Layer 0.theta_individual_\n",
      "tensor([[ 89.5120,  23.6189,   6.4469,   7.4029],\n",
      "        [ 90.8761,  24.0155,   6.5642,   7.5404],\n",
      "        [ 80.2025,  21.4201,   5.0927,   5.9510],\n",
      "        [240.8290,  62.1159,  25.4310,  28.0583],\n",
      "        [-70.3413, -21.9499,  -9.2532, -10.2515]])\n",
      "model.Output_Layer.theta_\n",
      "tensor([[1091.7417, 1042.6034, 1485.3447],\n",
      "        [1261.0630, 1206.9749, 1709.6295],\n",
      "        [1289.9067, 1234.6804, 1748.2814],\n",
      "        [1289.1924, 1234.0048, 1747.3085],\n",
      "        [1167.7874, 1118.0000, 1583.7094],\n",
      "        [-349.6407, -336.5835, -454.0763]])\n"
     ]
    }
   ],
   "source": [
    "for n, p in net.named_parameters():\n",
    "    print(n)\n",
    "    print(p.grad)"
   ]
  },
  {
   "cell_type": "markdown",
   "id": "2007b6ce",
   "metadata": {},
   "source": [
    "## Test layer in net in supernet"
   ]
  },
  {
   "cell_type": "code",
   "execution_count": 40,
   "id": "e585ad05",
   "metadata": {},
   "outputs": [
    {
     "data": {
      "text/plain": [
       "PNNLayer()"
      ]
     },
     "execution_count": 40,
     "metadata": {},
     "output_type": "execute_result"
    }
   ],
   "source": [
    "layer1 = net.model[0]\n",
    "layer1"
   ]
  },
  {
   "cell_type": "code",
   "execution_count": 41,
   "id": "6e5c88fc",
   "metadata": {},
   "outputs": [],
   "source": [
    "ylayer1 = layer1(X_train1)"
   ]
  },
  {
   "cell_type": "code",
   "execution_count": 42,
   "id": "86f3e87e",
   "metadata": {},
   "outputs": [],
   "source": [
    "ylayer1.sum().backward()"
   ]
  },
  {
   "cell_type": "code",
   "execution_count": 43,
   "id": "01e26b69",
   "metadata": {},
   "outputs": [
    {
     "name": "stdout",
     "output_type": "stream",
     "text": [
      "theta_\n",
      "tensor([[ 111.2603,   99.2222,   99.9084],\n",
      "        [ 192.2216,  182.9427,  174.3988],\n",
      "        [ 530.9860,  542.0406,  497.4579],\n",
      "        [ 164.4413,  156.2209,  148.1041],\n",
      "        [ 196.9251,  188.1397,  181.9418],\n",
      "        [ 333.2410,  347.2280,  315.1972],\n",
      "        [ 250.3722,  248.6997,  227.6709],\n",
      "        [1429.1848, 1481.2334, 1326.6017],\n",
      "        [-370.0983, -383.3591, -341.8258]])\n"
     ]
    }
   ],
   "source": [
    "for n, p in layer1.named_parameters():\n",
    "    print(n)\n",
    "    print(p.grad)"
   ]
  },
  {
   "cell_type": "code",
   "execution_count": 44,
   "id": "d39421c0",
   "metadata": {},
   "outputs": [
    {
     "data": {
      "text/plain": [
       "PNNHiddenLayer()"
      ]
     },
     "execution_count": 44,
     "metadata": {},
     "output_type": "execute_result"
    }
   ],
   "source": [
    "layer2 = net.model[1]\n",
    "layer2"
   ]
  },
  {
   "cell_type": "code",
   "execution_count": 45,
   "id": "8b48bdfe",
   "metadata": {},
   "outputs": [],
   "source": [
    "ylayer2 = layer2(layer1(X_train1))"
   ]
  },
  {
   "cell_type": "code",
   "execution_count": 46,
   "id": "6915b9af",
   "metadata": {},
   "outputs": [],
   "source": [
    "ylayer2.sum().backward()"
   ]
  },
  {
   "cell_type": "code",
   "execution_count": 47,
   "id": "a692158d",
   "metadata": {},
   "outputs": [
    {
     "name": "stdout",
     "output_type": "stream",
     "text": [
      "theta_common_\n",
      "tensor([[ 239.7853,   63.3354,   16.5086,   18.4136],\n",
      "        [ 243.4470,   64.3949,   16.8113,   18.7574],\n",
      "        [ 216.3556,   57.8888,   13.1955,   14.9708],\n",
      "        [ 629.0273,  161.5858,   63.4400,   67.9528],\n",
      "        [-184.7962,  -57.3245,  -23.2067,  -24.9561]])\n",
      "theta_individual_\n",
      "tensor([[ 239.7853,   63.3354,   16.5086,   18.4136],\n",
      "        [ 243.4470,   64.3949,   16.8113,   18.7574],\n",
      "        [ 216.3556,   57.8888,   13.1955,   14.9708],\n",
      "        [ 629.0273,  161.5858,   63.4400,   67.9528],\n",
      "        [-184.7962,  -57.3245,  -23.2067,  -24.9561]])\n"
     ]
    }
   ],
   "source": [
    "for n, p in layer2.named_parameters():\n",
    "    print(n)\n",
    "    print(p.grad)"
   ]
  },
  {
   "cell_type": "code",
   "execution_count": 48,
   "id": "b5a271c5",
   "metadata": {},
   "outputs": [],
   "source": [
    "ylayer2 = layer2(torch.randn(100,3))"
   ]
  },
  {
   "cell_type": "code",
   "execution_count": 49,
   "id": "450161d6",
   "metadata": {},
   "outputs": [],
   "source": [
    "ylayer2.sum().backward()"
   ]
  },
  {
   "cell_type": "code",
   "execution_count": 50,
   "id": "cd5bc050",
   "metadata": {},
   "outputs": [
    {
     "name": "stdout",
     "output_type": "stream",
     "text": [
      "theta_common_\n",
      "tensor([[ 279.8105, -177.9443,   -6.1512,   64.2495],\n",
      "        [ 179.6627, -318.1143,  -97.4965, -150.9694],\n",
      "        [ 200.4550, -274.1992, -109.0735, -200.5229],\n",
      "        [1118.0302,  711.7278,  415.5537,  459.7424],\n",
      "        [-293.0099, -194.0424, -102.3945, -113.7140]])\n",
      "theta_individual_\n",
      "tensor([[ 279.8105, -177.9443,   -6.1512,   64.2495],\n",
      "        [ 179.6627, -318.1143,  -97.4965, -150.9694],\n",
      "        [ 200.4550, -274.1992, -109.0735, -200.5229],\n",
      "        [1118.0302,  711.7278,  415.5537,  459.7424],\n",
      "        [-293.0099, -194.0424, -102.3945, -113.7140]])\n"
     ]
    }
   ],
   "source": [
    "for n, p in layer2.named_parameters():\n",
    "    print(n)\n",
    "    print(p.grad)"
   ]
  }
 ],
 "metadata": {
  "kernelspec": {
   "display_name": "ML",
   "language": "python",
   "name": "ml"
  },
  "language_info": {
   "codemirror_mode": {
    "name": "ipython",
    "version": 3
   },
   "file_extension": ".py",
   "mimetype": "text/x-python",
   "name": "python",
   "nbconvert_exporter": "python",
   "pygments_lexer": "ipython3",
   "version": "3.8.13"
  },
  "toc": {
   "base_numbering": 1,
   "nav_menu": {},
   "number_sections": true,
   "sideBar": true,
   "skip_h1_title": false,
   "title_cell": "Table of Contents",
   "title_sidebar": "Contents",
   "toc_cell": false,
   "toc_position": {
    "height": "calc(100% - 180px)",
    "left": "10px",
    "top": "150px",
    "width": "336px"
   },
   "toc_section_display": true,
   "toc_window_display": true
  }
 },
 "nbformat": 4,
 "nbformat_minor": 5
}
