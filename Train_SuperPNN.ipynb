{
 "cells": [
  {
   "cell_type": "markdown",
   "id": "eab183f8",
   "metadata": {},
   "source": [
    "# Import library"
   ]
  },
  {
   "cell_type": "code",
   "execution_count": 1,
   "id": "0bc40b33",
   "metadata": {},
   "outputs": [],
   "source": [
    "import importlib\n",
    "import torch\n",
    "import pickle\n",
    "import os\n",
    "import sys\n",
    "import matplotlib.pyplot as plt\n",
    "import numpy as np\n",
    "import pNN_Split as pnn\n",
    "import random\n",
    "import config\n",
    "import evaluation as E\n",
    "import training\n",
    "from torch.utils.data import TensorDataset\n",
    "from torch.utils.data import DataLoader"
   ]
  },
  {
   "cell_type": "markdown",
   "id": "af93c27e-7559-466e-9a0f-084e03f0c576",
   "metadata": {},
   "source": [
    "# Random Seed"
   ]
  },
  {
   "cell_type": "code",
   "execution_count": 2,
   "id": "85fceaab",
   "metadata": {},
   "outputs": [],
   "source": [
    "seed = 0"
   ]
  },
  {
   "cell_type": "markdown",
   "id": "1026bd3c",
   "metadata": {},
   "source": [
    "# Device"
   ]
  },
  {
   "cell_type": "code",
   "execution_count": 3,
   "id": "b0e91163",
   "metadata": {},
   "outputs": [
    {
     "data": {
      "text/plain": [
       "'cpu'"
      ]
     },
     "execution_count": 3,
     "metadata": {},
     "output_type": "execute_result"
    }
   ],
   "source": [
    "# device = torch.device('cuda' if torch.cuda.is_available() else 'cpu')\n",
    "# device = torch.device('cuda:0')\n",
    "device = 'cpu'\n",
    "device"
   ]
  },
  {
   "cell_type": "markdown",
   "id": "15519567",
   "metadata": {},
   "source": [
    "# Prepare data"
   ]
  },
  {
   "cell_type": "markdown",
   "id": "f224be26-e399-42a8-9c96-e285490e8916",
   "metadata": {},
   "source": [
    "## Datasets"
   ]
  },
  {
   "cell_type": "code",
   "execution_count": 4,
   "id": "bcdcdfdd",
   "metadata": {},
   "outputs": [],
   "source": [
    "datasets = os.listdir('./Datasets/datasets/')\n",
    "datasets = [d for d in datasets if d.endswith('.p')]\n",
    "datasets.sort()"
   ]
  },
  {
   "cell_type": "markdown",
   "id": "3f9b925b",
   "metadata": {},
   "source": [
    "## Load data"
   ]
  },
  {
   "cell_type": "code",
   "execution_count": 5,
   "id": "fd3f8c31",
   "metadata": {},
   "outputs": [
    {
     "name": "stdout",
     "output_type": "stream",
     "text": [
      "Processing acuteinflammation 6 2 70 23 25\n",
      "Processing acutenephritis 6 2 70 23 25\n",
      "Processing balancescale 4 3 373 124 126\n",
      "Processing blood 4 2 447 149 150\n",
      "Processing breastcancer 9 2 170 56 58\n",
      "Processing breastcancerwisc 9 2 418 139 140\n",
      "Processing breasttissue 9 6 62 20 22\n",
      "Processing ecoli 7 8 200 66 68\n",
      "Processing energyy1 8 3 459 153 154\n",
      "Processing energyy2 8 3 459 153 154\n",
      "Processing fertility 9 2 58 19 21\n",
      "Processing glass 9 6 127 42 43\n",
      "Processing habermansurvival 3 2 182 60 62\n",
      "Processing hayesroth 3 3 93 31 32\n",
      "Processing ilpdindianliver 9 2 348 116 117\n",
      "Processing iris 4 3 88 29 31\n",
      "Processing mammographic 5 2 575 191 193\n",
      "Processing monks1 6 2 331 110 111\n",
      "Processing monks2 6 2 358 119 120\n",
      "Processing monks3 6 2 330 110 110\n",
      "Processing pima 8 2 459 153 154\n",
      "Processing pittsburgbridgesMATERIAL 7 3 62 20 22\n",
      "Processing pittsburgbridgesRELL 7 3 60 20 21\n",
      "Processing pittsburgbridgesSPAN 7 3 54 18 18\n",
      "Processing pittsburgbridgesTORD 7 2 60 20 20\n",
      "Processing pittsburgbridgesTYPE 7 6 61 20 22\n",
      "Processing postoperative 8 3 52 17 19\n",
      "Processing seeds 7 3 124 41 43\n",
      "Processing teaching 5 3 89 29 31\n",
      "Processing tictactoe 9 2 573 191 192\n",
      "Processing vertebralcolumn2clases 6 2 184 61 63\n",
      "Processing vertebralcolumn3clases 6 3 184 61 63\n",
      "Finish data loading.\n"
     ]
    }
   ],
   "source": [
    "names   = []\n",
    "\n",
    "num_in  = []\n",
    "num_out = []\n",
    "\n",
    "X_trains = []\n",
    "y_trains = []\n",
    "X_valids = []\n",
    "y_valids = []\n",
    "X_tests = []\n",
    "y_tests = []\n",
    "\n",
    "for dataset in datasets:\n",
    "    datapath = os.path.join('./Datasets/datasets/' + dataset)\n",
    "    with open(datapath, 'rb') as f:\n",
    "        data = pickle.load(f)\n",
    "    X_train    = data['X_train']\n",
    "    y_train    = data['y_train']\n",
    "    X_valid    = data['X_valid']\n",
    "    y_valid    = data['y_valid']\n",
    "    X_test     = data['X_test']\n",
    "    y_test     = data['y_test']\n",
    "    data_name  = data['name']\n",
    "\n",
    "    N_class    = data['n_class']\n",
    "    N_feature  = data['n_feature']\n",
    "    N_train    = X_train.shape[0]\n",
    "    N_valid    = X_valid.shape[0]\n",
    "    N_test     = X_test.shape[0]\n",
    "    \n",
    "    print('Processing', data_name, N_feature, N_class, N_train, N_valid, N_test)\n",
    "    \n",
    "    names.append(data_name)\n",
    "    num_in.append(N_feature)\n",
    "    num_out.append(N_class)\n",
    "    \n",
    "    X_trains.append(X_train)\n",
    "    y_trains.append(y_train)\n",
    "    X_valids.append(X_valid)\n",
    "    y_valids.append(y_valid)\n",
    "    X_tests.append(X_test)\n",
    "    y_tests.append(y_test)\n",
    "\n",
    "print('Finish data loading.')"
   ]
  },
  {
   "cell_type": "code",
   "execution_count": 9,
   "id": "112e3b2e",
   "metadata": {},
   "outputs": [],
   "source": [
    "# load normalization factors\n",
    "acc_reference = np.loadtxt('./result/seperate pNN/acc_factor.txt').flatten()\n",
    "train_reference = np.loadtxt('./result/seperate pNN/train_factor.txt').flatten()\n",
    "valid_reference = np.loadtxt('./result/seperate pNN/valid_factor.txt').flatten()"
   ]
  },
  {
   "cell_type": "code",
   "execution_count": 11,
   "id": "4ae84d4a-1b4f-464c-aadc-3bf4ca843b0a",
   "metadata": {},
   "outputs": [],
   "source": [
    "if not config.normalization:\n",
    "    train_reference = np.ones(len(datasets))\n",
    "    valid_reference = np.ones(len(datasets))"
   ]
  },
  {
   "cell_type": "code",
   "execution_count": 12,
   "id": "d7ebaf1e-2a39-45e0-b8ac-a115533eeb0d",
   "metadata": {},
   "outputs": [],
   "source": [
    "acc_factor = 1 / acc_reference\n",
    "train_factor = 1 / (train_reference+0.01)\n",
    "valid_factor = 1 / (valid_reference+0.01)"
   ]
  },
  {
   "cell_type": "code",
   "execution_count": null,
   "id": "2ccc29c2-1897-4194-bbc7-f9576061c16e",
   "metadata": {},
   "outputs": [],
   "source": [
    "acc_factor = (acc_factor / np.sum(acc_factor)).tolist()\n",
    "train_factor = (train_factor / np.sum(train_factor)).tolist()\n",
    "valid_factor = (valid_factor / np.sum(valid_factor)).tolist()"
   ]
  },
  {
   "cell_type": "markdown",
   "id": "5c65c580",
   "metadata": {},
   "source": [
    "# SuperPNN"
   ]
  },
  {
   "cell_type": "code",
   "execution_count": 7,
   "id": "97e02e26-c3e0-437b-85ed-85a4e56dfeac",
   "metadata": {},
   "outputs": [],
   "source": [
    "random.seed(seed);\n",
    "np.random.seed(seed);\n",
    "torch.manual_seed(seed);"
   ]
  },
  {
   "cell_type": "markdown",
   "id": "11fcb7de",
   "metadata": {},
   "source": [
    "## Define"
   ]
  },
  {
   "cell_type": "code",
   "execution_count": 8,
   "id": "3556de57",
   "metadata": {},
   "outputs": [],
   "source": [
    "SuperPNN = pnn.SuperPNN(num_in, num_out, config.hidden_topology)"
   ]
  },
  {
   "cell_type": "code",
   "execution_count": 9,
   "id": "42dab761",
   "metadata": {},
   "outputs": [],
   "source": [
    "optimizer = torch.optim.Adam(SuperPNN.parameters(), lr=config.slr)"
   ]
  },
  {
   "cell_type": "markdown",
   "id": "0361ff89",
   "metadata": {},
   "source": [
    "## Training"
   ]
  },
  {
   "cell_type": "code",
   "execution_count": 10,
   "id": "a04805c1",
   "metadata": {},
   "outputs": [
    {
     "name": "stdout",
     "output_type": "stream",
     "text": [
      "The ID for this training is 1657117238.\n",
      "| epoch:    0 | TA: 51.03 | TL: 2.315e+02 | VA: 64.83 | VL: 1.871e+02 | Norm: 3.13e+00 | time: 2.05e-01 |\n",
      "| epoch:  100 | TA: 98.81 | TL: 4.564e+01 | VA: 95.44 | VL: 4.088e+01 | Norm: 1.33e+01 | time: 1.63e-01 |\n",
      "| epoch:  200 | TA: 98.43 | TL: 3.990e+01 | VA: 97.33 | VL: 3.820e+01 | Norm: 1.36e+01 | time: 1.64e-01 |\n",
      "| epoch:  300 | TA: 98.73 | TL: 4.446e+01 | VA: 95.75 | VL: 4.153e+01 | Norm: 1.60e+01 | time: 1.59e-01 |\n",
      "| epoch:  400 | TA: 99.97 | TL: 4.429e+01 | VA: 91.12 | VL: 4.327e+01 | Norm: 1.45e+01 | time: 1.82e-01 |\n",
      "| epoch:  500 | TA: 101.82 | TL: 4.307e+01 | VA: 94.76 | VL: 4.108e+01 | Norm: 1.35e+01 | time: 1.78e-01 |\n",
      "| epoch:  600 | TA: 103.08 | TL: 4.083e+01 | VA: 96.74 | VL: 3.951e+01 | Norm: 1.24e+01 | time: 2.79e-01 |\n",
      "| epoch:  700 | TA: 102.98 | TL: 4.207e+01 | VA: 95.90 | VL: 4.072e+01 | Norm: 1.16e+01 | time: 1.80e-01 |\n",
      "| epoch:  800 | TA: 102.67 | TL: 4.166e+01 | VA: 96.31 | VL: 3.920e+01 | Norm: 1.20e+01 | time: 1.88e-01 |\n",
      "| epoch:  900 | TA: 101.53 | TL: 4.155e+01 | VA: 95.19 | VL: 3.909e+01 | Norm: 1.15e+01 | time: 1.93e-01 |\n",
      "| epoch: 1000 | TA: 99.17 | TL: 4.117e+01 | VA: 94.92 | VL: 3.984e+01 | Norm: 1.12e+01 | time: 1.81e-01 |\n",
      "| epoch: 1100 | TA: 99.23 | TL: 4.121e+01 | VA: 97.33 | VL: 3.944e+01 | Norm: 1.06e+01 | time: 1.69e-01 |\n",
      "| epoch: 1200 | TA: 99.46 | TL: 4.121e+01 | VA: 93.38 | VL: 3.915e+01 | Norm: 1.00e+01 | time: 1.43e-01 |\n",
      "Early stop.\n",
      "Finished.\n"
     ]
    }
   ],
   "source": [
    "SuperPNN, train_loss, valid_loss, train_acc, valid_acc = training.train_spnn(SuperPNN,\n",
    "                                                                             X_trains, y_trains,\n",
    "                                                                             X_valids, y_valids,\n",
    "                                                                             optimizer, pnn.LOSSFUNCTION,\n",
    "                                                                             train_factor, valid_factor, acc_factor,\n",
    "                                                                             config.alpha)"
   ]
  },
  {
   "cell_type": "markdown",
   "id": "56e0ebfe",
   "metadata": {},
   "source": [
    "# Test"
   ]
  },
  {
   "cell_type": "code",
   "execution_count": 16,
   "id": "6f5ecb9a",
   "metadata": {},
   "outputs": [],
   "source": [
    " with torch.no_grad():\n",
    "    prediction_tests = SuperPNN(X_tests)\n",
    "    test_acc = E.ACC(prediction_tests, y_tests, acc_factor)"
   ]
  },
  {
   "cell_type": "code",
   "execution_count": 17,
   "id": "2d5683f5",
   "metadata": {},
   "outputs": [
    {
     "data": {
      "text/plain": [
       "0.983519898288237"
      ]
     },
     "execution_count": 17,
     "metadata": {},
     "output_type": "execute_result"
    }
   ],
   "source": [
    "test_acc"
   ]
  },
  {
   "cell_type": "code",
   "execution_count": null,
   "id": "3ae2ee68",
   "metadata": {},
   "outputs": [],
   "source": []
  },
  {
   "cell_type": "code",
   "execution_count": null,
   "id": "b893089e",
   "metadata": {},
   "outputs": [],
   "source": []
  },
  {
   "cell_type": "code",
   "execution_count": null,
   "id": "e606c6bc",
   "metadata": {},
   "outputs": [],
   "source": []
  }
 ],
 "metadata": {
  "kernelspec": {
   "display_name": "SDIL",
   "language": "python",
   "name": "sdil"
  },
  "language_info": {
   "codemirror_mode": {
    "name": "ipython",
    "version": 3
   },
   "file_extension": ".py",
   "mimetype": "text/x-python",
   "name": "python",
   "nbconvert_exporter": "python",
   "pygments_lexer": "ipython3",
   "version": "3.8.13"
  },
  "toc": {
   "base_numbering": 1,
   "nav_menu": {},
   "number_sections": true,
   "sideBar": true,
   "skip_h1_title": false,
   "title_cell": "Table of Contents",
   "title_sidebar": "Contents",
   "toc_cell": false,
   "toc_position": {
    "height": "calc(100% - 180px)",
    "left": "10px",
    "top": "150px",
    "width": "336px"
   },
   "toc_section_display": true,
   "toc_window_display": true
  }
 },
 "nbformat": 4,
 "nbformat_minor": 5
}
