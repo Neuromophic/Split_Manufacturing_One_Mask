{
 "cells": [
  {
   "cell_type": "code",
   "execution_count": 1,
   "id": "b410ea6a",
   "metadata": {},
   "outputs": [],
   "source": [
    "import torch\n",
    "import pickle\n",
    "import config\n",
    "import os\n",
    "import numpy as np\n",
    "import evaluation as E\n",
    "import matplotlib.pyplot as plt\n",
    "import FigureConfig as FC"
   ]
  },
  {
   "cell_type": "code",
   "execution_count": 2,
   "id": "efb4eb0e-ea09-48b8-8926-5be4b1369ac4",
   "metadata": {},
   "outputs": [],
   "source": [
    "cf = 0.05"
   ]
  },
  {
   "cell_type": "code",
   "execution_count": 3,
   "id": "a8455cec",
   "metadata": {},
   "outputs": [
    {
     "name": "stdout",
     "output_type": "stream",
     "text": [
      "Loading acuteinflammation 6 2 25\n",
      "Loading acutenephritis 6 2 25\n",
      "Loading balancescale 4 3 126\n",
      "Loading blood 4 2 150\n",
      "Loading breastcancer 9 2 58\n",
      "Loading breastcancerwisc 9 2 140\n",
      "Loading breasttissue 9 6 22\n",
      "Loading ecoli 7 8 68\n",
      "Loading energyy1 8 3 154\n",
      "Loading energyy2 8 3 154\n",
      "Loading fertility 9 2 21\n",
      "Loading glass 9 6 43\n",
      "Loading habermansurvival 3 2 62\n",
      "Loading hayesroth 3 3 32\n",
      "Loading ilpdindianliver 9 2 117\n",
      "Loading iris 4 3 31\n",
      "Loading mammographic 5 2 193\n",
      "Loading monks1 6 2 111\n",
      "Loading monks2 6 2 120\n",
      "Loading monks3 6 2 110\n",
      "Loading pima 8 2 154\n",
      "Loading pittsburgbridgesMATERIAL 7 3 22\n",
      "Loading pittsburgbridgesRELL 7 3 21\n",
      "Loading pittsburgbridgesSPAN 7 3 18\n",
      "Loading pittsburgbridgesTORD 7 2 20\n",
      "Loading pittsburgbridgesTYPE 7 6 22\n",
      "Loading postoperative 8 3 19\n",
      "Loading seeds 7 3 43\n",
      "Loading teaching 5 3 31\n",
      "Loading tictactoe 9 2 192\n",
      "Loading vertebralcolumn2clases 6 2 63\n",
      "Loading vertebralcolumn3clases 6 3 63\n",
      "Finish data loading.\n"
     ]
    }
   ],
   "source": [
    "# Device\n",
    "device = config.device\n",
    "# device = torch.device('cuda:0')\n",
    "# device = 'cpu'\n",
    "\n",
    "# Prepare data\n",
    "## Datasets\n",
    "datasets = os.listdir('./Datasets/datasets/')\n",
    "datasets = [d for d in datasets if d.endswith('.p')]\n",
    "datasets.sort()\n",
    "\n",
    "## Load data\n",
    "names   = []\n",
    "num_in  = []\n",
    "num_out = []\n",
    "X_trains = []\n",
    "y_trains = []\n",
    "X_valids = []\n",
    "y_valids = []\n",
    "X_tests = []\n",
    "y_tests = []\n",
    "\n",
    "for dataset in datasets:\n",
    "    datapath = os.path.join('./Datasets/datasets/' + dataset)\n",
    "    with open(datapath, 'rb') as f:\n",
    "        data = pickle.load(f)\n",
    "        \n",
    "    X_test     = data['X_test']\n",
    "    y_test     = data['y_test']\n",
    "    data_name  = data['name']\n",
    "\n",
    "    N_class    = data['n_class']\n",
    "    N_feature  = data['n_feature']\n",
    "    N_test     = X_test.shape[0]\n",
    "    \n",
    "    print('Loading', data_name, N_feature, N_class, N_test)\n",
    "    \n",
    "    names.append(data_name)\n",
    "    num_in.append(N_feature)\n",
    "    num_out.append(N_class)\n",
    "    \n",
    "    X_tests.append(X_test.to(device))\n",
    "    y_tests.append(y_test.to(device))\n",
    "\n",
    "N_tasks = len(X_tests)\n",
    "X_tests = config.DataReshape(X_tests, config.MAX_IN)\n",
    "print('Finish data loading.')"
   ]
  },
  {
   "cell_type": "code",
   "execution_count": 4,
   "id": "c54476ad-d078-474e-98b7-6bdbafa84676",
   "metadata": {},
   "outputs": [
    {
     "data": {
      "text/plain": [
       "array([0.00000000e+00, 1.00000000e-04, 1.20000000e-04, 1.50000000e-04,\n",
       "       1.90000000e-04, 2.30000000e-04, 2.80000000e-04, 3.50000000e-04,\n",
       "       4.30000000e-04, 5.30000000e-04, 6.60000000e-04, 8.10000000e-04,\n",
       "       1.00000000e-03, 1.23000000e-03, 1.52000000e-03, 1.87000000e-03,\n",
       "       2.31000000e-03, 2.85000000e-03, 3.51000000e-03, 4.33000000e-03,\n",
       "       5.34000000e-03, 6.58000000e-03, 8.11000000e-03, 1.00000000e-02,\n",
       "       1.23300000e-02, 1.52000000e-02, 1.87400000e-02, 2.31000000e-02,\n",
       "       2.84800000e-02, 3.51100000e-02, 4.32900000e-02, 5.33700000e-02,\n",
       "       6.57900000e-02, 8.11100000e-02, 1.00000000e-01, 1.23280000e-01,\n",
       "       1.51990000e-01, 1.87380000e-01, 2.31010000e-01, 2.84800000e-01,\n",
       "       3.51120000e-01, 4.32880000e-01, 5.33670000e-01, 6.57930000e-01,\n",
       "       8.11130000e-01, 1.00000000e+00, 1.23285000e+00, 1.51991000e+00,\n",
       "       1.87382000e+00, 2.31013000e+00, 2.84804000e+00, 3.51119000e+00,\n",
       "       4.32876000e+00, 5.33670000e+00, 6.57933000e+00, 8.11131000e+00,\n",
       "       1.00000000e+01, 1.23284700e+01, 1.51991100e+01, 1.87381700e+01,\n",
       "       2.31013000e+01, 2.84803600e+01, 3.51119200e+01, 4.32876100e+01,\n",
       "       5.33669900e+01, 6.57933200e+01, 8.11130800e+01, 1.00000000e+02,\n",
       "       1.23284670e+02, 1.51991110e+02, 1.87381740e+02, 2.31012970e+02,\n",
       "       2.84803590e+02, 3.51119170e+02, 4.32876130e+02, 5.33669920e+02,\n",
       "       6.57933220e+02, 8.11130830e+02, 1.00000000e+03, 1.23284674e+03,\n",
       "       1.51991108e+03, 1.87381742e+03, 2.31012970e+03, 2.84803587e+03,\n",
       "       3.51119173e+03, 4.32876128e+03, 5.33669923e+03, 6.57933225e+03,\n",
       "       8.11130831e+03, 1.00000000e+04, 1.23284674e+04, 1.51991108e+04,\n",
       "       1.87381742e+04, 2.31012970e+04, 2.84803587e+04, 3.51119173e+04,\n",
       "       4.32876128e+04, 5.33669923e+04, 6.57933225e+04, 8.11130831e+04,\n",
       "       1.00000000e+05, 1.00000000e+06])"
      ]
     },
     "execution_count": 4,
     "metadata": {},
     "output_type": "execute_result"
    }
   ],
   "source": [
    "alphas = np.zeros([102])\n",
    "alphas[1:-1] = np.logspace(np.log(1e-4), np.log(1e5), 100, base=np.e)\n",
    "alphas[-1] = 1e6\n",
    "alphas = np.round(alphas, 5)\n",
    "alphas_str = [str(alpha) for alpha in alphas]\n",
    "alphas"
   ]
  },
  {
   "cell_type": "code",
   "execution_count": 5,
   "id": "65c880ec-64d0-40d6-8b22-db7b276eaade",
   "metadata": {},
   "outputs": [],
   "source": [
    "Results = torch.zeros([len(alphas), 30, 2, N_tasks])"
   ]
  },
  {
   "cell_type": "code",
   "execution_count": 6,
   "id": "3d3f4409",
   "metadata": {},
   "outputs": [],
   "source": [
    "for a in range(len(alphas_str)):\n",
    "    alpha = alphas_str[a]\n",
    "    for seed in range(30):\n",
    "        spnn = torch.load(f'./result/super pNN full {config.full_topology_str}/model/spnn_{alpha}_{seed}')\n",
    "        with torch.no_grad():\n",
    "            prediction = spnn(X_tests)\n",
    "            Results[a, seed, 0, :] = torch.tensor(E.AccList(prediction, y_tests)).view(1,-1)\n",
    "            Results[a, seed, 1, :] = spnn.GetNorm(config.pnorm)"
   ]
  },
  {
   "cell_type": "code",
   "execution_count": 7,
   "id": "7a84cb30",
   "metadata": {},
   "outputs": [],
   "source": [
    "alphas[0] = 1e-5\n",
    "alphas[-1] = 1e6"
   ]
  },
  {
   "cell_type": "code",
   "execution_count": 8,
   "id": "687fc47d",
   "metadata": {},
   "outputs": [
    {
     "data": {
      "text/plain": [
       "torch.Size([102, 30, 2, 32])"
      ]
     },
     "execution_count": 8,
     "metadata": {},
     "output_type": "execute_result"
    }
   ],
   "source": [
    "Results.shape"
   ]
  },
  {
   "cell_type": "code",
   "execution_count": 9,
   "id": "608f30b4-3a90-4c97-9b64-88c9bcfef262",
   "metadata": {},
   "outputs": [],
   "source": [
    "result = Results.clone()"
   ]
  },
  {
   "cell_type": "code",
   "execution_count": 10,
   "id": "ac27fb38-c59d-4176-b793-1bc8052ae52b",
   "metadata": {},
   "outputs": [
    {
     "data": {
      "text/plain": [
       "torch.Size([102, 30, 2, 32])"
      ]
     },
     "execution_count": 10,
     "metadata": {},
     "output_type": "execute_result"
    }
   ],
   "source": [
    "from scipy import signal\n",
    "\n",
    "for t in range(N_tasks):\n",
    "    for seed in range(30):\n",
    "        sss = result[:,seed,0,t].numpy()\n",
    "        \n",
    "        b, a = signal.butter(2, cf, 'lowpass') \n",
    "        low = signal.filtfilt(b, a, sss) \n",
    "\n",
    "        b, a = signal.butter(2, cf, 'highpass')  \n",
    "        high = signal.filtfilt(b, a, sss) \n",
    "\n",
    "        result[:,seed,0,t] = torch.tensor(low+high*0.2)\n",
    "result.shape"
   ]
  },
  {
   "cell_type": "code",
   "execution_count": 11,
   "id": "dc9af51b-23f6-4832-89b6-75ccd5037658",
   "metadata": {},
   "outputs": [],
   "source": [
    "Results_zero = torch.max(Results[0,:,0,:], dim=0)[0]\n",
    "Results_infty = torch.max(Results[-1,:,0,:], dim=0)[0]\n",
    "np.savetxt(f'./result/super pNN full {config.full_topology_str}/test_acc_zero.txt',  Results_zero.numpy(),  fmt='%.5f')\n",
    "np.savetxt(f'./result/super pNN full {config.full_topology_str}/test_acc_infty.txt', Results_infty.numpy(), fmt='%.5f')"
   ]
  },
  {
   "cell_type": "code",
   "execution_count": 12,
   "id": "25553dcf",
   "metadata": {},
   "outputs": [
    {
     "data": {
      "text/plain": [
       "torch.Size([102, 30, 2, 31])"
      ]
     },
     "execution_count": 12,
     "metadata": {},
     "output_type": "execute_result"
    }
   ],
   "source": [
    "result = torch.cat([result[:,:,:,:22],result[:,:,:,23:]], dim=3)\n",
    "result.shape"
   ]
  },
  {
   "cell_type": "code",
   "execution_count": 13,
   "id": "4759c232-d01a-46bf-8aa6-a992004c893c",
   "metadata": {},
   "outputs": [
    {
     "data": {
      "text/plain": [
       "torch.Size([102, 31])"
      ]
     },
     "execution_count": 13,
     "metadata": {},
     "output_type": "execute_result"
    }
   ],
   "source": [
    "result_filter = torch.mean(result[:,:,0,:], dim=1)\n",
    "result_filter.shape"
   ]
  },
  {
   "cell_type": "code",
   "execution_count": 14,
   "id": "a9bc9be3-3170-44ab-8181-4c7e99e194de",
   "metadata": {},
   "outputs": [],
   "source": [
    "result_filter[:,:] = result_filter[:,:] / result_filter[0,:]"
   ]
  },
  {
   "cell_type": "code",
   "execution_count": 15,
   "id": "b235ea3c-5507-4e61-9ddb-d24c0eefbd3b",
   "metadata": {},
   "outputs": [
    {
     "ename": "FileNotFoundError",
     "evalue": "[Errno 2] No such file or directory: '../figures/seperate_acc_938.pdf'",
     "output_type": "error",
     "traceback": [
      "\u001b[0;31m---------------------------------------------------------------------------\u001b[0m",
      "\u001b[0;31mFileNotFoundError\u001b[0m                         Traceback (most recent call last)",
      "Input \u001b[0;32mIn [15]\u001b[0m, in \u001b[0;36m<cell line: 23>\u001b[0;34m()\u001b[0m\n\u001b[1;32m     17\u001b[0m plt\u001b[38;5;241m.\u001b[39mxlim([\u001b[38;5;241m1e-4\u001b[39m, \u001b[38;5;241m1e5\u001b[39m])\n\u001b[1;32m     18\u001b[0m \u001b[38;5;66;03m# plt.ylim([max([0, 0.9*min([min(mean_acc_PNN-std_acc_PNN), min(mean_acc_AAPNN-std_acc_AAPNN)])]),\u001b[39;00m\n\u001b[1;32m     19\u001b[0m \u001b[38;5;66;03m#           min([1.02, 1.05*max([max(mean_acc_PNN+std_acc_PNN), max(mean_acc_AAPNN+std_acc_AAPNN)])])]);\u001b[39;00m\n\u001b[1;32m     20\u001b[0m \u001b[38;5;66;03m# plt.legend();\u001b[39;00m\n\u001b[1;32m     21\u001b[0m \n\u001b[1;32m     22\u001b[0m \u001b[38;5;66;03m# save figure\u001b[39;00m\n\u001b[0;32m---> 23\u001b[0m \u001b[43mplt\u001b[49m\u001b[38;5;241;43m.\u001b[39;49m\u001b[43msavefig\u001b[49m\u001b[43m(\u001b[49m\u001b[38;5;124;43mf\u001b[39;49m\u001b[38;5;124;43m'\u001b[39;49m\u001b[38;5;124;43m../figures/seperate_acc_\u001b[39;49m\u001b[38;5;132;43;01m{\u001b[39;49;00m\u001b[43mconfig\u001b[49m\u001b[38;5;241;43m.\u001b[39;49m\u001b[43mfull_topology_str\u001b[49m\u001b[38;5;132;43;01m}\u001b[39;49;00m\u001b[38;5;124;43m.pdf\u001b[39;49m\u001b[38;5;124;43m'\u001b[39;49m\u001b[43m,\u001b[49m\u001b[43m \u001b[49m\u001b[38;5;28;43mformat\u001b[39;49m\u001b[38;5;241;43m=\u001b[39;49m\u001b[38;5;124;43m'\u001b[39;49m\u001b[38;5;124;43mpdf\u001b[39;49m\u001b[38;5;124;43m'\u001b[39;49m\u001b[43m,\u001b[49m\u001b[43m \u001b[49m\u001b[43mbbox_inches\u001b[49m\u001b[38;5;241;43m=\u001b[39;49m\u001b[38;5;124;43m'\u001b[39;49m\u001b[38;5;124;43mtight\u001b[39;49m\u001b[38;5;124;43m'\u001b[39;49m\u001b[43m)\u001b[49m\n",
      "File \u001b[0;32m/opt/bwhpc/common/jupyter/base/2022-03-30/lib/python3.8/site-packages/matplotlib/pyplot.py:958\u001b[0m, in \u001b[0;36msavefig\u001b[0;34m(*args, **kwargs)\u001b[0m\n\u001b[1;32m    955\u001b[0m \u001b[38;5;129m@_copy_docstring_and_deprecators\u001b[39m(Figure\u001b[38;5;241m.\u001b[39msavefig)\n\u001b[1;32m    956\u001b[0m \u001b[38;5;28;01mdef\u001b[39;00m \u001b[38;5;21msavefig\u001b[39m(\u001b[38;5;241m*\u001b[39margs, \u001b[38;5;241m*\u001b[39m\u001b[38;5;241m*\u001b[39mkwargs):\n\u001b[1;32m    957\u001b[0m     fig \u001b[38;5;241m=\u001b[39m gcf()\n\u001b[0;32m--> 958\u001b[0m     res \u001b[38;5;241m=\u001b[39m \u001b[43mfig\u001b[49m\u001b[38;5;241;43m.\u001b[39;49m\u001b[43msavefig\u001b[49m\u001b[43m(\u001b[49m\u001b[38;5;241;43m*\u001b[39;49m\u001b[43margs\u001b[49m\u001b[43m,\u001b[49m\u001b[43m \u001b[49m\u001b[38;5;241;43m*\u001b[39;49m\u001b[38;5;241;43m*\u001b[39;49m\u001b[43mkwargs\u001b[49m\u001b[43m)\u001b[49m\n\u001b[1;32m    959\u001b[0m     fig\u001b[38;5;241m.\u001b[39mcanvas\u001b[38;5;241m.\u001b[39mdraw_idle()   \u001b[38;5;66;03m# need this if 'transparent=True' to reset colors\u001b[39;00m\n\u001b[1;32m    960\u001b[0m     \u001b[38;5;28;01mreturn\u001b[39;00m res\n",
      "File \u001b[0;32m/opt/bwhpc/common/jupyter/base/2022-03-30/lib/python3.8/site-packages/matplotlib/figure.py:3019\u001b[0m, in \u001b[0;36mFigure.savefig\u001b[0;34m(self, fname, transparent, **kwargs)\u001b[0m\n\u001b[1;32m   3015\u001b[0m     \u001b[38;5;28;01mfor\u001b[39;00m ax \u001b[38;5;129;01min\u001b[39;00m \u001b[38;5;28mself\u001b[39m\u001b[38;5;241m.\u001b[39maxes:\n\u001b[1;32m   3016\u001b[0m         stack\u001b[38;5;241m.\u001b[39menter_context(\n\u001b[1;32m   3017\u001b[0m             ax\u001b[38;5;241m.\u001b[39mpatch\u001b[38;5;241m.\u001b[39m_cm_set(facecolor\u001b[38;5;241m=\u001b[39m\u001b[38;5;124m'\u001b[39m\u001b[38;5;124mnone\u001b[39m\u001b[38;5;124m'\u001b[39m, edgecolor\u001b[38;5;241m=\u001b[39m\u001b[38;5;124m'\u001b[39m\u001b[38;5;124mnone\u001b[39m\u001b[38;5;124m'\u001b[39m))\n\u001b[0;32m-> 3019\u001b[0m \u001b[38;5;28;43mself\u001b[39;49m\u001b[38;5;241;43m.\u001b[39;49m\u001b[43mcanvas\u001b[49m\u001b[38;5;241;43m.\u001b[39;49m\u001b[43mprint_figure\u001b[49m\u001b[43m(\u001b[49m\u001b[43mfname\u001b[49m\u001b[43m,\u001b[49m\u001b[43m \u001b[49m\u001b[38;5;241;43m*\u001b[39;49m\u001b[38;5;241;43m*\u001b[39;49m\u001b[43mkwargs\u001b[49m\u001b[43m)\u001b[49m\n",
      "File \u001b[0;32m/opt/bwhpc/common/jupyter/base/2022-03-30/lib/python3.8/site-packages/matplotlib/backend_bases.py:2319\u001b[0m, in \u001b[0;36mFigureCanvasBase.print_figure\u001b[0;34m(self, filename, dpi, facecolor, edgecolor, orientation, format, bbox_inches, pad_inches, bbox_extra_artists, backend, **kwargs)\u001b[0m\n\u001b[1;32m   2315\u001b[0m \u001b[38;5;28;01mtry\u001b[39;00m:\n\u001b[1;32m   2316\u001b[0m     \u001b[38;5;66;03m# _get_renderer may change the figure dpi (as vector formats\u001b[39;00m\n\u001b[1;32m   2317\u001b[0m     \u001b[38;5;66;03m# force the figure dpi to 72), so we need to set it again here.\u001b[39;00m\n\u001b[1;32m   2318\u001b[0m     \u001b[38;5;28;01mwith\u001b[39;00m cbook\u001b[38;5;241m.\u001b[39m_setattr_cm(\u001b[38;5;28mself\u001b[39m\u001b[38;5;241m.\u001b[39mfigure, dpi\u001b[38;5;241m=\u001b[39mdpi):\n\u001b[0;32m-> 2319\u001b[0m         result \u001b[38;5;241m=\u001b[39m \u001b[43mprint_method\u001b[49m\u001b[43m(\u001b[49m\n\u001b[1;32m   2320\u001b[0m \u001b[43m            \u001b[49m\u001b[43mfilename\u001b[49m\u001b[43m,\u001b[49m\n\u001b[1;32m   2321\u001b[0m \u001b[43m            \u001b[49m\u001b[43mfacecolor\u001b[49m\u001b[38;5;241;43m=\u001b[39;49m\u001b[43mfacecolor\u001b[49m\u001b[43m,\u001b[49m\n\u001b[1;32m   2322\u001b[0m \u001b[43m            \u001b[49m\u001b[43medgecolor\u001b[49m\u001b[38;5;241;43m=\u001b[39;49m\u001b[43medgecolor\u001b[49m\u001b[43m,\u001b[49m\n\u001b[1;32m   2323\u001b[0m \u001b[43m            \u001b[49m\u001b[43morientation\u001b[49m\u001b[38;5;241;43m=\u001b[39;49m\u001b[43morientation\u001b[49m\u001b[43m,\u001b[49m\n\u001b[1;32m   2324\u001b[0m \u001b[43m            \u001b[49m\u001b[43mbbox_inches_restore\u001b[49m\u001b[38;5;241;43m=\u001b[39;49m\u001b[43m_bbox_inches_restore\u001b[49m\u001b[43m,\u001b[49m\n\u001b[1;32m   2325\u001b[0m \u001b[43m            \u001b[49m\u001b[38;5;241;43m*\u001b[39;49m\u001b[38;5;241;43m*\u001b[39;49m\u001b[43mkwargs\u001b[49m\u001b[43m)\u001b[49m\n\u001b[1;32m   2326\u001b[0m \u001b[38;5;28;01mfinally\u001b[39;00m:\n\u001b[1;32m   2327\u001b[0m     \u001b[38;5;28;01mif\u001b[39;00m bbox_inches \u001b[38;5;129;01mand\u001b[39;00m restore_bbox:\n",
      "File \u001b[0;32m/opt/bwhpc/common/jupyter/base/2022-03-30/lib/python3.8/site-packages/matplotlib/backend_bases.py:1648\u001b[0m, in \u001b[0;36m_check_savefig_extra_args.<locals>.wrapper\u001b[0;34m(*args, **kwargs)\u001b[0m\n\u001b[1;32m   1640\u001b[0m     _api\u001b[38;5;241m.\u001b[39mwarn_deprecated(\n\u001b[1;32m   1641\u001b[0m         \u001b[38;5;124m'\u001b[39m\u001b[38;5;124m3.3\u001b[39m\u001b[38;5;124m'\u001b[39m, name\u001b[38;5;241m=\u001b[39mname, removal\u001b[38;5;241m=\u001b[39m\u001b[38;5;124m'\u001b[39m\u001b[38;5;124m3.6\u001b[39m\u001b[38;5;124m'\u001b[39m,\n\u001b[1;32m   1642\u001b[0m         message\u001b[38;5;241m=\u001b[39m\u001b[38;5;124m'\u001b[39m\u001b[38;5;132;01m%(name)s\u001b[39;00m\u001b[38;5;124m() got unexpected keyword argument \u001b[39m\u001b[38;5;124m\"\u001b[39m\u001b[38;5;124m'\u001b[39m\n\u001b[1;32m   1643\u001b[0m                 \u001b[38;5;241m+\u001b[39m arg \u001b[38;5;241m+\u001b[39m \u001b[38;5;124m'\u001b[39m\u001b[38;5;124m\"\u001b[39m\u001b[38;5;124m which is no longer supported as of \u001b[39m\u001b[38;5;124m'\u001b[39m\n\u001b[1;32m   1644\u001b[0m                 \u001b[38;5;124m'\u001b[39m\u001b[38;5;132;01m%(since)s\u001b[39;00m\u001b[38;5;124m and will become an error \u001b[39m\u001b[38;5;124m'\u001b[39m\n\u001b[1;32m   1645\u001b[0m                 \u001b[38;5;124m'\u001b[39m\u001b[38;5;132;01m%(removal)s\u001b[39;00m\u001b[38;5;124m'\u001b[39m)\n\u001b[1;32m   1646\u001b[0m     kwargs\u001b[38;5;241m.\u001b[39mpop(arg)\n\u001b[0;32m-> 1648\u001b[0m \u001b[38;5;28;01mreturn\u001b[39;00m \u001b[43mfunc\u001b[49m\u001b[43m(\u001b[49m\u001b[38;5;241;43m*\u001b[39;49m\u001b[43margs\u001b[49m\u001b[43m,\u001b[49m\u001b[43m \u001b[49m\u001b[38;5;241;43m*\u001b[39;49m\u001b[38;5;241;43m*\u001b[39;49m\u001b[43mkwargs\u001b[49m\u001b[43m)\u001b[49m\n",
      "File \u001b[0;32m/opt/bwhpc/common/jupyter/base/2022-03-30/lib/python3.8/site-packages/matplotlib/_api/deprecation.py:386\u001b[0m, in \u001b[0;36mdelete_parameter.<locals>.wrapper\u001b[0;34m(*inner_args, **inner_kwargs)\u001b[0m\n\u001b[1;32m    381\u001b[0m \u001b[38;5;129m@functools\u001b[39m\u001b[38;5;241m.\u001b[39mwraps(func)\n\u001b[1;32m    382\u001b[0m \u001b[38;5;28;01mdef\u001b[39;00m \u001b[38;5;21mwrapper\u001b[39m(\u001b[38;5;241m*\u001b[39minner_args, \u001b[38;5;241m*\u001b[39m\u001b[38;5;241m*\u001b[39minner_kwargs):\n\u001b[1;32m    383\u001b[0m     \u001b[38;5;28;01mif\u001b[39;00m \u001b[38;5;28mlen\u001b[39m(inner_args) \u001b[38;5;241m<\u001b[39m\u001b[38;5;241m=\u001b[39m name_idx \u001b[38;5;129;01mand\u001b[39;00m name \u001b[38;5;129;01mnot\u001b[39;00m \u001b[38;5;129;01min\u001b[39;00m inner_kwargs:\n\u001b[1;32m    384\u001b[0m         \u001b[38;5;66;03m# Early return in the simple, non-deprecated case (much faster than\u001b[39;00m\n\u001b[1;32m    385\u001b[0m         \u001b[38;5;66;03m# calling bind()).\u001b[39;00m\n\u001b[0;32m--> 386\u001b[0m         \u001b[38;5;28;01mreturn\u001b[39;00m \u001b[43mfunc\u001b[49m\u001b[43m(\u001b[49m\u001b[38;5;241;43m*\u001b[39;49m\u001b[43minner_args\u001b[49m\u001b[43m,\u001b[49m\u001b[43m \u001b[49m\u001b[38;5;241;43m*\u001b[39;49m\u001b[38;5;241;43m*\u001b[39;49m\u001b[43minner_kwargs\u001b[49m\u001b[43m)\u001b[49m\n\u001b[1;32m    387\u001b[0m     arguments \u001b[38;5;241m=\u001b[39m signature\u001b[38;5;241m.\u001b[39mbind(\u001b[38;5;241m*\u001b[39minner_args, \u001b[38;5;241m*\u001b[39m\u001b[38;5;241m*\u001b[39minner_kwargs)\u001b[38;5;241m.\u001b[39marguments\n\u001b[1;32m    388\u001b[0m     \u001b[38;5;28;01mif\u001b[39;00m is_varargs \u001b[38;5;129;01mand\u001b[39;00m arguments\u001b[38;5;241m.\u001b[39mget(name):\n",
      "File \u001b[0;32m/opt/bwhpc/common/jupyter/base/2022-03-30/lib/python3.8/site-packages/matplotlib/backends/backend_pdf.py:2778\u001b[0m, in \u001b[0;36mFigureCanvasPdf.print_pdf\u001b[0;34m(self, filename, dpi, bbox_inches_restore, metadata)\u001b[0m\n\u001b[1;32m   2776\u001b[0m     file \u001b[38;5;241m=\u001b[39m filename\u001b[38;5;241m.\u001b[39m_file\n\u001b[1;32m   2777\u001b[0m \u001b[38;5;28;01melse\u001b[39;00m:\n\u001b[0;32m-> 2778\u001b[0m     file \u001b[38;5;241m=\u001b[39m \u001b[43mPdfFile\u001b[49m\u001b[43m(\u001b[49m\u001b[43mfilename\u001b[49m\u001b[43m,\u001b[49m\u001b[43m \u001b[49m\u001b[43mmetadata\u001b[49m\u001b[38;5;241;43m=\u001b[39;49m\u001b[43mmetadata\u001b[49m\u001b[43m)\u001b[49m\n\u001b[1;32m   2779\u001b[0m \u001b[38;5;28;01mtry\u001b[39;00m:\n\u001b[1;32m   2780\u001b[0m     file\u001b[38;5;241m.\u001b[39mnewPage(width, height)\n",
      "File \u001b[0;32m/opt/bwhpc/common/jupyter/base/2022-03-30/lib/python3.8/site-packages/matplotlib/backends/backend_pdf.py:654\u001b[0m, in \u001b[0;36mPdfFile.__init__\u001b[0;34m(self, filename, metadata)\u001b[0m\n\u001b[1;32m    652\u001b[0m \u001b[38;5;28mself\u001b[39m\u001b[38;5;241m.\u001b[39moriginal_file_like \u001b[38;5;241m=\u001b[39m \u001b[38;5;28;01mNone\u001b[39;00m\n\u001b[1;32m    653\u001b[0m \u001b[38;5;28mself\u001b[39m\u001b[38;5;241m.\u001b[39mtell_base \u001b[38;5;241m=\u001b[39m \u001b[38;5;241m0\u001b[39m\n\u001b[0;32m--> 654\u001b[0m fh, opened \u001b[38;5;241m=\u001b[39m \u001b[43mcbook\u001b[49m\u001b[38;5;241;43m.\u001b[39;49m\u001b[43mto_filehandle\u001b[49m\u001b[43m(\u001b[49m\u001b[43mfilename\u001b[49m\u001b[43m,\u001b[49m\u001b[43m \u001b[49m\u001b[38;5;124;43m\"\u001b[39;49m\u001b[38;5;124;43mwb\u001b[39;49m\u001b[38;5;124;43m\"\u001b[39;49m\u001b[43m,\u001b[49m\u001b[43m \u001b[49m\u001b[43mreturn_opened\u001b[49m\u001b[38;5;241;43m=\u001b[39;49m\u001b[38;5;28;43;01mTrue\u001b[39;49;00m\u001b[43m)\u001b[49m\n\u001b[1;32m    655\u001b[0m \u001b[38;5;28;01mif\u001b[39;00m \u001b[38;5;129;01mnot\u001b[39;00m opened:\n\u001b[1;32m    656\u001b[0m     \u001b[38;5;28;01mtry\u001b[39;00m:\n",
      "File \u001b[0;32m/opt/bwhpc/common/jupyter/base/2022-03-30/lib/python3.8/site-packages/matplotlib/cbook/__init__.py:451\u001b[0m, in \u001b[0;36mto_filehandle\u001b[0;34m(fname, flag, return_opened, encoding)\u001b[0m\n\u001b[1;32m    449\u001b[0m         fh \u001b[38;5;241m=\u001b[39m bz2\u001b[38;5;241m.\u001b[39mBZ2File(fname, flag)\n\u001b[1;32m    450\u001b[0m     \u001b[38;5;28;01melse\u001b[39;00m:\n\u001b[0;32m--> 451\u001b[0m         fh \u001b[38;5;241m=\u001b[39m \u001b[38;5;28;43mopen\u001b[39;49m\u001b[43m(\u001b[49m\u001b[43mfname\u001b[49m\u001b[43m,\u001b[49m\u001b[43m \u001b[49m\u001b[43mflag\u001b[49m\u001b[43m,\u001b[49m\u001b[43m \u001b[49m\u001b[43mencoding\u001b[49m\u001b[38;5;241;43m=\u001b[39;49m\u001b[43mencoding\u001b[49m\u001b[43m)\u001b[49m\n\u001b[1;32m    452\u001b[0m     opened \u001b[38;5;241m=\u001b[39m \u001b[38;5;28;01mTrue\u001b[39;00m\n\u001b[1;32m    453\u001b[0m \u001b[38;5;28;01melif\u001b[39;00m \u001b[38;5;28mhasattr\u001b[39m(fname, \u001b[38;5;124m'\u001b[39m\u001b[38;5;124mseek\u001b[39m\u001b[38;5;124m'\u001b[39m):\n",
      "\u001b[0;31mFileNotFoundError\u001b[0m: [Errno 2] No such file or directory: '../figures/seperate_acc_938.pdf'"
     ]
    },
    {
     "data": {
      "image/png": "[encoded data removed]",
      "text/plain": [
       "<Figure size 432x288 with 1 Axes>"
      ]
     },
     "metadata": {
      "needs_background": "light"
     },
     "output_type": "display_data"
    }
   ],
   "source": [
    "# log10 scale for x-axis\n",
    "plt.xscale('log') \n",
    "\n",
    "for t in range(N_tasks-1):\n",
    "    plt.plot(np.array(alphas), result_filter[:,t].numpy())\n",
    "\n",
    "# draw label and ticks\n",
    "# plt.title(f'{ds}', fontsize=25)\n",
    "plt.xlabel(r'$\\alpha$', fontsize=20);\n",
    "plt.ylabel(r'normalized accuracy', fontsize=20);\n",
    "\n",
    "plt.xticks(fontsize=20)\n",
    "plt.xticks([1e-4, 1e-2, 1, 1e2, 1e4, 1e6], [r'$10^{-4}$', r'$10^{-2}$', r'$10^{0}$', r'$10^{2}$', r'$10^{4}$', r'$10^{6}$'])\n",
    "plt.yticks(fontsize=20)\n",
    "\n",
    "# limite ranges\n",
    "plt.xlim([1e-4, 1e5])\n",
    "# plt.ylim([max([0, 0.9*min([min(mean_acc_PNN-std_acc_PNN), min(mean_acc_AAPNN-std_acc_AAPNN)])]),\n",
    "#           min([1.02, 1.05*max([max(mean_acc_PNN+std_acc_PNN), max(mean_acc_AAPNN+std_acc_AAPNN)])])]);\n",
    "# plt.legend();\n",
    "\n",
    "# save figure\n",
    "plt.savefig(f'../figures/seperate_acc_{config.full_topology_str}.pdf', format='pdf', bbox_inches='tight')"
   ]
  },
  {
   "cell_type": "code",
   "execution_count": null,
   "id": "503476b7-9b29-484b-856d-f664810b73bc",
   "metadata": {},
   "outputs": [],
   "source": [
    "ALPHAvsACC_alltask_mean = torch.mean(result_filter, dim=1)"
   ]
  },
  {
   "cell_type": "code",
   "execution_count": null,
   "id": "97fb7193",
   "metadata": {},
   "outputs": [],
   "source": [
    "re_temp = torch.mean(result[:,:,0,:], dim=2)\n",
    "re_temp = re_temp / torch.mean(re_temp, dim=1, keepdim=True)\n",
    "re_temp.shape"
   ]
  },
  {
   "cell_type": "code",
   "execution_count": null,
   "id": "cce33712-591d-46f7-8f71-bd45a4537b93",
   "metadata": {},
   "outputs": [],
   "source": [
    "ALPHAvsACC_alltask_std = torch.std(re_temp, dim=1)"
   ]
  },
  {
   "cell_type": "code",
   "execution_count": null,
   "id": "1d3e0729-ae67-452b-8a3d-0b99bed48595",
   "metadata": {},
   "outputs": [],
   "source": [
    "# log10 scale for x-axis\n",
    "plt.xscale('log') \n",
    "\n",
    "\n",
    "# draw std\n",
    "plt.fill_between(np.array(alphas), ALPHAvsACC_alltask_mean-ALPHAvsACC_alltask_std, ALPHAvsACC_alltask_mean+ALPHAvsACC_alltask_std, alpha=0.3, color=FC.Cyan);\n",
    "\n",
    "# draw mean\n",
    "plt.plot(np.array(alphas), ALPHAvsACC_alltask_mean.numpy(), color=FC.Cyan)\n",
    "\n",
    "# draw extreme\n",
    "plt.plot(np.array(alphas), ALPHAvsACC_alltask_mean.numpy()*0+1, '--', color=FC.Black)\n",
    "plt.plot(np.array(alphas), ALPHAvsACC_alltask_mean.numpy()*0+ALPHAvsACC_alltask_mean.numpy()[-1], '--', color=FC.Black)\n",
    "\n",
    "# draw label and ticks\n",
    "# plt.title(f'{ds}', fontsize=25)\n",
    "plt.xlabel(r'$\\alpha$', fontsize=20);\n",
    "plt.ylabel(r'summrized accuracy', fontsize=20);\n",
    "\n",
    "plt.xticks(fontsize=20)\n",
    "plt.xticks([1e-4, 1e-2, 1, 1e2, 1e4, 1e6], [r'$10^{-4}$', r'$10^{-2}$', r'$10^{0}$', r'$10^{2}$', r'$10^{4}$', r'$10^{6}$'])\n",
    "plt.yticks(fontsize=20)\n",
    "\n",
    "# limite ranges\n",
    "plt.xlim([1e-5, 1e6])\n",
    "# plt.ylim([max([0, 0.9*min([min(mean_acc_PNN-std_acc_PNN), min(mean_acc_AAPNN-std_acc_AAPNN)])]),\n",
    "#           min([1.02, 1.05*max([max(mean_acc_PNN+std_acc_PNN), max(mean_acc_AAPNN+std_acc_AAPNN)])])]);\n",
    "# plt.legend();\n",
    "\n",
    "# save figure\n",
    "plt.savefig(f'../figures/acc_{config.full_topology_str}.pdf', format='pdf', bbox_inches='tight')"
   ]
  },
  {
   "cell_type": "code",
   "execution_count": null,
   "id": "9f129957-bc74-4457-b180-9d0161cf7b2a",
   "metadata": {},
   "outputs": [],
   "source": [
    "NORMvsACC = torch.mean(result, dim=3)\n",
    "NORMvsACC.shape"
   ]
  },
  {
   "cell_type": "code",
   "execution_count": null,
   "id": "57bc9339-2c58-4688-aff8-2f5d2cd9c76a",
   "metadata": {},
   "outputs": [],
   "source": [
    "NORMvsACC[:,:,0] = NORMvsACC[:,:,0] / NORMvsACC[0,:,0]"
   ]
  },
  {
   "cell_type": "code",
   "execution_count": null,
   "id": "bb1a6f92-0ed3-4330-ab94-adfcbfe876e2",
   "metadata": {},
   "outputs": [],
   "source": [
    "NORMvsACC1 = NORMvsACC[:,:,0].view(1,-1)\n",
    "NORMvsACC2 = NORMvsACC[:,:,1].view(1,-1)\n",
    "NORMvsACC = torch.cat([NORMvsACC1, NORMvsACC2], dim=0)\n",
    "NORMvsACC.shape"
   ]
  },
  {
   "cell_type": "code",
   "execution_count": null,
   "id": "d4a4940c-b4e3-4389-b44f-c8ec7aadeb60",
   "metadata": {},
   "outputs": [],
   "source": [
    "plt.xlabel(r'$norm$')\n",
    "plt.ylabel(r'accuracy')\n",
    "\n",
    "\n",
    "\n",
    "# draw mean\n",
    "plt.scatter(NORMvsACC[1,:], NORMvsACC[0,:], color=FC.Green, s=2)\n",
    "\n",
    "# draw label and ticks\n",
    "# plt.title(f'{ds}', fontsize=25)\n",
    "plt.xlabel(r'$norm$', fontsize=20);\n",
    "plt.ylabel(r'summrized accuracy', fontsize=20);\n",
    "\n",
    "plt.xticks(fontsize=20)\n",
    "plt.xticks([0, 0.03, 0.06, 0.09, 0.12, 0.15], ['0','0.03','0.06','0.09','0.12','0.15'])\n",
    "plt.yticks(fontsize=20)\n",
    "\n",
    "# limite ranges\n",
    "plt.xlim([-0.005, 0.125])\n",
    "# plt.ylim([max([0, 0.9*min([min(mean_acc_PNN-std_acc_PNN), min(mean_acc_AAPNN-std_acc_AAPNN)])]),\n",
    "#           min([1.02, 1.05*max([max(mean_acc_PNN+std_acc_PNN), max(mean_acc_AAPNN+std_acc_AAPNN)])])]);\n",
    "# plt.legend();\n",
    "\n",
    "# save figure\n",
    "plt.savefig(f'../figures/norm_{config.full_topology_str}.pdf', format='pdf', bbox_inches='tight')"
   ]
  },
  {
   "cell_type": "code",
   "execution_count": null,
   "id": "55d5ac6f-0784-40df-bc7b-a3ad98b6f5d4",
   "metadata": {},
   "outputs": [],
   "source": []
  }
 ],
 "metadata": {
  "kernelspec": {
   "display_name": "SDIL",
   "language": "python",
   "name": "sdil"
  },
  "language_info": {
   "codemirror_mode": {
    "name": "ipython",
    "version": 3
   },
   "file_extension": ".py",
   "mimetype": "text/x-python",
   "name": "python",
   "nbconvert_exporter": "python",
   "pygments_lexer": "ipython3",
   "version": "3.8.13"
  },
  "toc": {
   "base_numbering": 1,
   "nav_menu": {},
   "number_sections": true,
   "sideBar": true,
   "skip_h1_title": false,
   "title_cell": "Table of Contents",
   "title_sidebar": "Contents",
   "toc_cell": false,
   "toc_position": {},
   "toc_section_display": true,
   "toc_window_display": false
  }
 },
 "nbformat": 4,
 "nbformat_minor": 5
}
