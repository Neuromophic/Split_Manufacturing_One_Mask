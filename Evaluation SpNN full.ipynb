{
 "cells": [
  {
   "cell_type": "code",
   "execution_count": 1,
   "id": "b410ea6a",
   "metadata": {},
   "outputs": [],
   "source": [
    "import torch\n",
    "import pickle\n",
    "import config\n",
    "import os\n",
    "import numpy as np\n",
    "import evaluation as E\n",
    "import matplotlib.pyplot as plt\n",
    "import FigureConfig as FC"
   ]
  },
  {
   "cell_type": "code",
   "execution_count": 2,
   "id": "a8455cec",
   "metadata": {},
   "outputs": [
    {
     "name": "stdout",
     "output_type": "stream",
     "text": [
      "Loading acuteinflammation 6 2 25\n",
      "Loading acutenephritis 6 2 25\n",
      "Loading balancescale 4 3 126\n",
      "Loading blood 4 2 150\n",
      "Loading breastcancer 9 2 58\n",
      "Loading breastcancerwisc 9 2 140\n",
      "Loading breasttissue 9 6 22\n",
      "Loading ecoli 7 8 68\n",
      "Loading energyy1 8 3 154\n",
      "Loading energyy2 8 3 154\n",
      "Loading fertility 9 2 21\n",
      "Loading glass 9 6 43\n",
      "Loading habermansurvival 3 2 62\n",
      "Loading hayesroth 3 3 32\n",
      "Loading ilpdindianliver 9 2 117\n",
      "Loading iris 4 3 31\n",
      "Loading mammographic 5 2 193\n",
      "Loading monks1 6 2 111\n",
      "Loading monks2 6 2 120\n",
      "Loading monks3 6 2 110\n",
      "Loading pima 8 2 154\n",
      "Loading pittsburgbridgesMATERIAL 7 3 22\n",
      "Loading pittsburgbridgesRELL 7 3 21\n",
      "Loading pittsburgbridgesSPAN 7 3 18\n",
      "Loading pittsburgbridgesTORD 7 2 20\n",
      "Loading pittsburgbridgesTYPE 7 6 22\n",
      "Loading postoperative 8 3 19\n",
      "Loading seeds 7 3 43\n",
      "Loading teaching 5 3 31\n",
      "Loading tictactoe 9 2 192\n",
      "Loading vertebralcolumn2clases 6 2 63\n",
      "Loading vertebralcolumn3clases 6 3 63\n",
      "Finish data loading.\n"
     ]
    }
   ],
   "source": [
    "# Device\n",
    "device = config.device\n",
    "# device = torch.device('cuda:0')\n",
    "# device = 'cpu'\n",
    "\n",
    "# Prepare data\n",
    "## Datasets\n",
    "datasets = os.listdir('./Datasets/datasets/')\n",
    "datasets = [d for d in datasets if d.endswith('.p')]\n",
    "datasets.sort()\n",
    "\n",
    "## Load data\n",
    "names   = []\n",
    "num_in  = []\n",
    "num_out = []\n",
    "X_trains = []\n",
    "y_trains = []\n",
    "X_valids = []\n",
    "y_valids = []\n",
    "X_tests = []\n",
    "y_tests = []\n",
    "\n",
    "for dataset in datasets:\n",
    "    datapath = os.path.join('./Datasets/datasets/' + dataset)\n",
    "    with open(datapath, 'rb') as f:\n",
    "        data = pickle.load(f)\n",
    "        \n",
    "    X_test     = data['X_test']\n",
    "    y_test     = data['y_test']\n",
    "    data_name  = data['name']\n",
    "\n",
    "    N_class    = data['n_class']\n",
    "    N_feature  = data['n_feature']\n",
    "    N_test     = X_test.shape[0]\n",
    "    \n",
    "    print('Loading', data_name, N_feature, N_class, N_test)\n",
    "    \n",
    "    names.append(data_name)\n",
    "    num_in.append(N_feature)\n",
    "    num_out.append(N_class)\n",
    "    \n",
    "    X_tests.append(X_test.to(device))\n",
    "    y_tests.append(y_test.to(device))\n",
    "\n",
    "N_tasks = len(X_tests)\n",
    "X_tests = config.DataReshape(X_tests, config.MAX_IN)\n",
    "print('Finish data loading.')"
   ]
  },
  {
   "cell_type": "code",
   "execution_count": 3,
   "id": "c54476ad-d078-474e-98b7-6bdbafa84676",
   "metadata": {},
   "outputs": [
    {
     "data": {
      "text/plain": [
       "array([0.00000000e+00, 1.00000000e-04, 1.20000000e-04, 1.50000000e-04,\n",
       "       1.90000000e-04, 2.30000000e-04, 2.80000000e-04, 3.50000000e-04,\n",
       "       4.30000000e-04, 5.30000000e-04, 6.60000000e-04, 8.10000000e-04,\n",
       "       1.00000000e-03, 1.23000000e-03, 1.52000000e-03, 1.87000000e-03,\n",
       "       2.31000000e-03, 2.85000000e-03, 3.51000000e-03, 4.33000000e-03,\n",
       "       5.34000000e-03, 6.58000000e-03, 8.11000000e-03, 1.00000000e-02,\n",
       "       1.23300000e-02, 1.52000000e-02, 1.87400000e-02, 2.31000000e-02,\n",
       "       2.84800000e-02, 3.51100000e-02, 4.32900000e-02, 5.33700000e-02,\n",
       "       6.57900000e-02, 8.11100000e-02, 1.00000000e-01, 1.23280000e-01,\n",
       "       1.51990000e-01, 1.87380000e-01, 2.31010000e-01, 2.84800000e-01,\n",
       "       3.51120000e-01, 4.32880000e-01, 5.33670000e-01, 6.57930000e-01,\n",
       "       8.11130000e-01, 1.00000000e+00, 1.23285000e+00, 1.51991000e+00,\n",
       "       1.87382000e+00, 2.31013000e+00, 2.84804000e+00, 3.51119000e+00,\n",
       "       4.32876000e+00, 5.33670000e+00, 6.57933000e+00, 8.11131000e+00,\n",
       "       1.00000000e+01, 1.23284700e+01, 1.51991100e+01, 1.87381700e+01,\n",
       "       2.31013000e+01, 2.84803600e+01, 3.51119200e+01, 4.32876100e+01,\n",
       "       5.33669900e+01, 6.57933200e+01, 8.11130800e+01, 1.00000000e+02,\n",
       "       1.23284670e+02, 1.51991110e+02, 1.87381740e+02, 2.31012970e+02,\n",
       "       2.84803590e+02, 3.51119170e+02, 4.32876130e+02, 5.33669920e+02,\n",
       "       6.57933220e+02, 8.11130830e+02, 1.00000000e+03, 1.23284674e+03,\n",
       "       1.51991108e+03, 1.87381742e+03, 2.31012970e+03, 2.84803587e+03,\n",
       "       3.51119173e+03, 4.32876128e+03, 5.33669923e+03, 6.57933225e+03,\n",
       "       8.11130831e+03, 1.00000000e+04, 1.23284674e+04, 1.51991108e+04,\n",
       "       1.87381742e+04, 2.31012970e+04, 2.84803587e+04, 3.51119173e+04,\n",
       "       4.32876128e+04, 5.33669923e+04, 6.57933225e+04, 8.11130831e+04,\n",
       "       1.00000000e+05, 1.00000000e+06])"
      ]
     },
     "execution_count": 3,
     "metadata": {},
     "output_type": "execute_result"
    }
   ],
   "source": [
    "alphas = np.zeros([102])\n",
    "alphas[1:-1] = np.logspace(np.log(1e-4), np.log(1e5), 100, base=np.e)\n",
    "alphas[-1] = 1e6\n",
    "alphas = np.round(alphas, 5)\n",
    "alphas_str = [str(alpha) for alpha in alphas]\n",
    "alphas"
   ]
  },
  {
   "cell_type": "code",
   "execution_count": 4,
   "id": "65c880ec-64d0-40d6-8b22-db7b276eaade",
   "metadata": {},
   "outputs": [],
   "source": [
    "Results = torch.zeros([len(alphas), 30, 2, N_tasks])"
   ]
  },
  {
   "cell_type": "code",
   "execution_count": null,
   "id": "3d3f4409",
   "metadata": {},
   "outputs": [],
   "source": [
    "for a in range(len(alphas_str)):\n",
    "    alpha = alphas_str[a]\n",
    "    for seed in range(30):\n",
    "        spnn = torch.load(f'./result/super pNN full {config.full_topology_str}/model/spnn_{alpha}_{seed}')\n",
    "        with torch.no_grad():\n",
    "            prediction = spnn(X_tests)\n",
    "            Results[a, seed, 0, :] = torch.tensor(E.AccList(prediction, y_tests)).view(1,-1)\n",
    "            Results[a, seed, 1, :] = spnn.GetNorm(config.pnorm)"
   ]
  },
  {
   "cell_type": "code",
   "execution_count": null,
   "id": "7a84cb30",
   "metadata": {},
   "outputs": [],
   "source": [
    "alphas[0] = 1e-5\n",
    "alphas[-1] = 1e6"
   ]
  },
  {
   "cell_type": "code",
   "execution_count": null,
   "id": "687fc47d",
   "metadata": {},
   "outputs": [],
   "source": [
    "Results.shape"
   ]
  },
  {
   "cell_type": "code",
   "execution_count": null,
   "id": "25553dcf",
   "metadata": {},
   "outputs": [],
   "source": [
    "Results = torch.cat([Results[:,:,:,:22],Results[:,:,:,23:]], dim=3)"
   ]
  },
  {
   "cell_type": "code",
   "execution_count": null,
   "id": "083b0e3a-5951-4fd4-8ac2-1b7137664f5f",
   "metadata": {},
   "outputs": [],
   "source": [
    "Results_zero = torch.mean(Results[0,:,0,:], dim=0).numpy()\n",
    "Results_infty = torch.mean(Results[-1,:,0,:], dim=0).numpy()\n",
    "np.savetxt(f'./result/super pNN full {config.full_topology_str}/test_acc_zero.txt',  Results_zero,  fmt='%.5f')\n",
    "np.savetxt(f'./result/super pNN full {config.full_topology_str}/test_acc_infty.txt', Results_infty, fmt='%.5f')"
   ]
  },
  {
   "cell_type": "code",
   "execution_count": null,
   "id": "7b10e690-8620-477b-a020-11ce46564f1a",
   "metadata": {},
   "outputs": [],
   "source": [
    "Results[:,:,0,:] = Results[:,:,0,:] / Results[0,:,0,:]"
   ]
  },
  {
   "cell_type": "code",
   "execution_count": null,
   "id": "f39d5307-3c83-45fd-b21b-0980925c548a",
   "metadata": {},
   "outputs": [],
   "source": [
    "ALPHAvsACC = Results[:,:,0,:]\n",
    "ALPHAvsACC_seed = torch.mean(ALPHAvsACC, dim=1)\n",
    "ALPHAvsACC_seed.shape"
   ]
  },
  {
   "cell_type": "code",
   "execution_count": null,
   "id": "76652fd7-f01c-46ca-b46b-dcb95292056c",
   "metadata": {},
   "outputs": [],
   "source": [
    "# log10 scale for x-axis\n",
    "plt.xscale('log') \n",
    "\n",
    "for t in range(N_tasks-1):\n",
    "    plt.plot(np.array(alphas), ALPHAvsACC_seed[:,t].numpy())\n",
    "    \n",
    "# draw label and ticks\n",
    "# plt.title(f'{ds}', fontsize=25)\n",
    "plt.xlabel(r'$\\alpha$', fontsize=20);\n",
    "plt.ylabel(r'normalized accuracy', fontsize=20);\n",
    "\n",
    "plt.xticks(fontsize=20)\n",
    "plt.xticks([1e-4, 1e-2, 1, 1e2, 1e4, 1e6], [r'$10^{-4}$', r'$10^{-2}$', r'$10^{0}$', r'$10^{2}$', r'$10^{4}$', r'$10^{6}$'])\n",
    "plt.yticks(fontsize=20)\n",
    "\n",
    "# limite ranges\n",
    "plt.xlim([1e-5, 1e6])\n",
    "# plt.ylim([max([0, 0.9*min([min(mean_acc_PNN-std_acc_PNN), min(mean_acc_AAPNN-std_acc_AAPNN)])]),\n",
    "#           min([1.02, 1.05*max([max(mean_acc_PNN+std_acc_PNN), max(mean_acc_AAPNN+std_acc_AAPNN)])])]);\n",
    "# plt.legend();\n",
    "\n",
    "# save figure\n",
    "# plt.savefig(f'../figures/seperate_acc_{config.full_topology_str}.pdf', format='pdf', bbox_inches='tight')"
   ]
  },
  {
   "cell_type": "code",
   "execution_count": null,
   "id": "fcb334c5",
   "metadata": {},
   "outputs": [],
   "source": [
    "ALPHAvsACC_task = torch.mean(ALPHAvsACC, dim=2)"
   ]
  },
  {
   "cell_type": "code",
   "execution_count": null,
   "id": "503476b7-9b29-484b-856d-f664810b73bc",
   "metadata": {},
   "outputs": [],
   "source": [
    "ALPHAvsACC_alltask_mean = torch.mean(ALPHAvsACC_task, dim=1)"
   ]
  },
  {
   "cell_type": "code",
   "execution_count": null,
   "id": "97fb7193",
   "metadata": {},
   "outputs": [],
   "source": [
    "ALPHAvsACC_alltask_std = torch.std(ALPHAvsACC_task, dim=1)"
   ]
  },
  {
   "cell_type": "code",
   "execution_count": null,
   "id": "1d3e0729-ae67-452b-8a3d-0b99bed48595",
   "metadata": {},
   "outputs": [],
   "source": [
    "# log10 scale for x-axis\n",
    "plt.xscale('log') \n",
    "\n",
    "\n",
    "# draw std\n",
    "plt.fill_between(np.array(alphas), ALPHAvsACC_alltask_mean-ALPHAvsACC_alltask_std, ALPHAvsACC_alltask_mean+ALPHAvsACC_alltask_std, alpha=0.3, color=FC.Cyan);\n",
    "\n",
    "# draw mean\n",
    "plt.plot(np.array(alphas), ALPHAvsACC_alltask_mean.numpy(), color=FC.Cyan)\n",
    "\n",
    "# draw label and ticks\n",
    "# plt.title(f'{ds}', fontsize=25)\n",
    "plt.xlabel(r'$\\alpha$', fontsize=20);\n",
    "plt.ylabel(r'summrized accuracy', fontsize=20);\n",
    "\n",
    "plt.xticks(fontsize=20)\n",
    "plt.xticks([1e-4, 1e-2, 1, 1e2, 1e4, 1e6], [r'$10^{-4}$', r'$10^{-2}$', r'$10^{0}$', r'$10^{2}$', r'$10^{4}$', r'$10^{6}$'])\n",
    "plt.yticks(fontsize=20)\n",
    "\n",
    "# limite ranges\n",
    "plt.xlim([1e-5, 1e6])\n",
    "# plt.ylim([max([0, 0.9*min([min(mean_acc_PNN-std_acc_PNN), min(mean_acc_AAPNN-std_acc_AAPNN)])]),\n",
    "#           min([1.02, 1.05*max([max(mean_acc_PNN+std_acc_PNN), max(mean_acc_AAPNN+std_acc_AAPNN)])])]);\n",
    "# plt.legend();\n",
    "\n",
    "# save figure\n",
    "# plt.savefig(f'../figures/acc_{config.full_topology_str}.pdf', format='pdf', bbox_inches='tight')"
   ]
  },
  {
   "cell_type": "code",
   "execution_count": null,
   "id": "9f129957-bc74-4457-b180-9d0161cf7b2a",
   "metadata": {},
   "outputs": [],
   "source": [
    "NORMvsACC = torch.mean(Results, dim=3)\n",
    "NORMvsACC.shape"
   ]
  },
  {
   "cell_type": "code",
   "execution_count": null,
   "id": "bb1a6f92-0ed3-4330-ab94-adfcbfe876e2",
   "metadata": {},
   "outputs": [],
   "source": [
    "NORMvsACC1 = NORMvsACC[:,:,0].view(1,-1)\n",
    "NORMvsACC2 = NORMvsACC[:,:,1].view(1,-1)\n",
    "NORMvsACC = torch.cat([NORMvsACC1, NORMvsACC2], dim=0)\n",
    "NORMvsACC.shape"
   ]
  },
  {
   "cell_type": "code",
   "execution_count": null,
   "id": "d4a4940c-b4e3-4389-b44f-c8ec7aadeb60",
   "metadata": {},
   "outputs": [],
   "source": [
    "\n",
    "plt.xlabel(r'$norm$')\n",
    "plt.ylabel(r'accuracy')\n",
    "\n",
    "\n",
    "\n",
    "# draw mean\n",
    "plt.scatter(NORMvsACC[1,:], NORMvsACC[0,:], color=FC.Green)\n",
    "\n",
    "# draw label and ticks\n",
    "# plt.title(f'{ds}', fontsize=25)\n",
    "plt.xlabel(r'$norm$', fontsize=20);\n",
    "plt.ylabel(r'summrized accuracy', fontsize=20);\n",
    "\n",
    "plt.xticks(fontsize=20)\n",
    "plt.xticks([0, 0.03, 0.06, 0.09, 0.12, 0.15], ['0','0.03','0.06','0.09','0.12','0.15'])\n",
    "plt.yticks(fontsize=20)\n",
    "\n",
    "# limite ranges\n",
    "plt.xlim([-0.005, 0.125])\n",
    "# plt.ylim([max([0, 0.9*min([min(mean_acc_PNN-std_acc_PNN), min(mean_acc_AAPNN-std_acc_AAPNN)])]),\n",
    "#           min([1.02, 1.05*max([max(mean_acc_PNN+std_acc_PNN), max(mean_acc_AAPNN+std_acc_AAPNN)])])]);\n",
    "# plt.legend();\n",
    "\n",
    "# save figure\n",
    "# plt.savefig(f'../figures/norm_{config.full_topology_str}.pdf', format='pdf', bbox_inches='tight')"
   ]
  },
  {
   "cell_type": "code",
   "execution_count": 16,
   "id": "c9e10eb8-f7a2-48d8-81c6-43d1be810e91",
   "metadata": {},
   "outputs": [],
   "source": [
    "def HistoAcc(norm, acc, N=10):\n",
    "    accs = []\n",
    "    deltas = torch.linspace(torch.min(norm), torch.max(norm), N+1)\n",
    "    for d in range(deltas.shape[0]-1):\n",
    "        accs.append(torch.mean(acc[(deltas[d]<norm) & (norm<deltas[d+1])]))\n",
    "    return accs, deltas[:-1]"
   ]
  },
  {
   "cell_type": "code",
   "execution_count": 17,
   "id": "3289d735-ccc4-4c39-93c3-52aca094425a",
   "metadata": {},
   "outputs": [],
   "source": [
    "acc,norm = HistoAcc(NORMvsACC[1,:], NORMvsACC[0,:], N=20)"
   ]
  },
  {
   "cell_type": "code",
   "execution_count": 18,
   "id": "97f3ba21-c164-4d98-b55f-f2bead620722",
   "metadata": {},
   "outputs": [
    {
     "data": {
      "text/plain": [
       "Text(0, 0.5, 'accuracy')"
      ]
     },
     "execution_count": 18,
     "metadata": {},
     "output_type": "execute_result"
    },
    {
     "data": {
      "image/png": "[encoded data removed]",
      "text/plain": [
       "<Figure size 432x288 with 1 Axes>"
      ]
     },
     "metadata": {
      "needs_background": "light"
     },
     "output_type": "display_data"
    }
   ],
   "source": [
    "plt.scatter(norm, acc)\n",
    "plt.xlabel(r'$norm$')\n",
    "plt.ylabel(r'accuracy')"
   ]
  },
  {
   "cell_type": "code",
   "execution_count": null,
   "id": "55d5ac6f-0784-40df-bc7b-a3ad98b6f5d4",
   "metadata": {},
   "outputs": [],
   "source": []
  }
 ],
 "metadata": {
  "kernelspec": {
   "display_name": "SDIL",
   "language": "python",
   "name": "sdil"
  },
  "language_info": {
   "codemirror_mode": {
    "name": "ipython",
    "version": 3
   },
   "file_extension": ".py",
   "mimetype": "text/x-python",
   "name": "python",
   "nbconvert_exporter": "python",
   "pygments_lexer": "ipython3",
   "version": "3.8.13"
  },
  "toc": {
   "base_numbering": 1,
   "nav_menu": {},
   "number_sections": true,
   "sideBar": true,
   "skip_h1_title": false,
   "title_cell": "Table of Contents",
   "title_sidebar": "Contents",
   "toc_cell": false,
   "toc_position": {},
   "toc_section_display": true,
   "toc_window_display": false
  }
 },
 "nbformat": 4,
 "nbformat_minor": 5
}
